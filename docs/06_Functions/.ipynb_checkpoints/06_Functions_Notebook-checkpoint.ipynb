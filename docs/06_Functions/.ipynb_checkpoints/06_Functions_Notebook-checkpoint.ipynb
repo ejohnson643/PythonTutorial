{
 "cells": [
  {
   "cell_type": "code",
   "execution_count": 1,
   "id": "28265057",
   "metadata": {},
   "outputs": [],
   "source": [
    "import numpy as np ## It's good practice to put your imports right at the top!"
   ]
  },
  {
   "cell_type": "markdown",
   "id": "e5d43722",
   "metadata": {},
   "source": [
    "# Functions\n",
    "\n",
    "```{admonition} Follow along!\n",
    "Remember that to best make use of this tutorial, it is highly recommended that you [make your own notebook](https://jupyter-notebook-beginner-guide.readthedocs.io/en/latest/execute.html) and **type every piece of code** yourself!\n",
    "```\n",
    "\n",
    "This is the last piece of basic programming structure that you will need before you can completely start writing novel and useful Python codes for yourself.\n",
    "\n",
    "To this point, we have been writing short procedures that work on one or two specific variables, but with some of our more repetitious examples, this involved writing the same code over and over. If we introduced a new variable, we might have to retype that code again with the new variable name, which would make our code unnecessarily long and harder to read. To get around this, Python makes it very easy to write our own custom **functions**.\n",
    "\n",
    "You have been using many Python functions already; anytime you used the syntax `command()` (some characters followed by parentheses), you have been using a function. In this section, you will learn how to create your own functions, which will work similarly, but do the processes that you want. Over time, you can build up libraries of your own useful functions so that repeating analyses is as simple as running one line of code."
   ]
  },
  {
   "cell_type": "markdown",
   "id": "4d131bf1",
   "metadata": {},
   "source": [
    "## What is a function?\n",
    "\n",
    "Similar to the \"function\" you may known from math class, a function in Python is best understood as a name for an operation or procedure that you apply to an *input* to receive a desired *output*. Functions require a bit of abstract thought in this way, so it is helpful to stay grounded by thinking about what you are putting into the function and what you would like to get out. This is more concretely illustrated by looking at the generic syntax for a Python function."
   ]
  },
  {
   "cell_type": "code",
   "execution_count": 2,
   "id": "c163cd3d",
   "metadata": {
    "tags": [
     "hide-output"
    ]
   },
   "outputs": [
    {
     "name": "stdout",
     "output_type": "stream",
     "text": [
      "3\n"
     ]
    }
   ],
   "source": [
    "def myfunction(arg1, arg2): # 'arg1' and 'arg2' are the INPUTS to the function\n",
    "    # Do some stuff\n",
    "    sum_of_args = arg1 + arg2 # As an example, let's add our arguments\n",
    "    return sum_of_args # This is our OUTPUT\n",
    "\n",
    "a = 1\n",
    "b = 2\n",
    "print(myfunction(a, b)) # I call the new function using 'myfunction'"
   ]
  },
  {
   "cell_type": "markdown",
   "id": "9b703a58",
   "metadata": {},
   "source": [
    "From this example, you should take note of the following:\n",
    "\n",
    "1. To **define** a function, we use the operator `def`, followed by the function's name, then parentheses containing the names of the inputs. We finish this first line with a **colon** and the \"body\" of the function, where we put our instructions, is denoted by indenting the instructions.\n",
    "2. The names `arg1` and `arg2` are *temporary* variable names that exist only inside the function definition. You can use any variable names that you want, although I recommend that you use new (never used in your code or notebook) and descriptive names in these definitions.\n",
    "3. The operator `return` tells the function what it should \"spit out.\" Python functions do not have to have an output - several of the following examples do not - but if you do want output, you must use `return`.\n",
    "4. In the above example, `myfunction` takes in `a` and `b` and, following the rules of its definition, adds their values together into a new variable `sumargs`. The function returns the value of this new variable."
   ]
  },
  {
   "cell_type": "markdown",
   "id": "4365080f",
   "metadata": {},
   "source": [
    "## Simple functions\n",
    "\n",
    "Here are a few examples of simple functions that would have been useful in previous sections."
   ]
  },
  {
   "cell_type": "markdown",
   "id": "94ab3f22",
   "metadata": {},
   "source": [
    "### Example: conservation of print effort\n",
    "\n",
    "Consider the following function called `greeting`.  This function takes in a string, which is called `name` in the instructions of the function, and uses it to format a greeting."
   ]
  },
  {
   "cell_type": "code",
   "execution_count": 8,
   "id": "1763398c",
   "metadata": {},
   "outputs": [],
   "source": [
    "def greeting(name):\n",
    "    fixed_name = name.title()  ## What does the `title` method do to a string?\n",
    "    print(f\"Hello, {fixed_name}, it's so nice to see you!\")"
   ]
  },
  {
   "cell_type": "markdown",
   "id": "bf6dbaae",
   "metadata": {},
   "source": [
    "We can then use this function to quickly greet all of our friends using a loop!"
   ]
  },
  {
   "cell_type": "code",
   "execution_count": 9,
   "id": "a0a4d4f8",
   "metadata": {
    "tags": [
     "hide-output"
    ]
   },
   "outputs": [
    {
     "name": "stdout",
     "output_type": "stream",
     "text": [
      "Hello, Alex, it's so nice to see you!\n",
      "Hello, Betty, it's so nice to see you!\n",
      "Hello, Jean-Luc, it's so nice to see you!\n",
      "Hello, Tanya, it's so nice to see you!\n"
     ]
    }
   ],
   "source": [
    "names = ['Alex', 'betty', 'jean-luc', 'tanya']\n",
    "for name in names:\n",
    "    greeting(name) ## I call my function 'greeting' here"
   ]
  },
  {
   "cell_type": "markdown",
   "id": "71bdd128",
   "metadata": {},
   "source": [
    "Notice how this function didn't use the `return` operation, but it still results in some output. This is because when the function is **called** (executed), all the instructions inside the function are executed as if they had been pasted in. So when we use a `print` inside a function, it will print things to the screen when the function is called."
   ]
  },
  {
   "cell_type": "markdown",
   "id": "1fa2a9ae",
   "metadata": {},
   "source": [
    "### Example: formatted addition\n",
    "\n",
    "We already know how to do addition with `+`, but what if we want to illustrate this process as well?  Consider another function called `nice_addition` that I've defined below, that nicely formats the addition of two numbers."
   ]
  },
  {
   "cell_type": "code",
   "execution_count": 11,
   "id": "b0d8ff32",
   "metadata": {},
   "outputs": [],
   "source": [
    "def nice_add(x, y):\n",
    "    x_plus_y = x + y\n",
    "    print(\"{} + {} = {}\".format(x, y, x_plus_y))\n",
    "    return x_plus_y"
   ]
  },
  {
   "cell_type": "markdown",
   "id": "e94c1e74",
   "metadata": {},
   "source": [
    "Here we do make use of the `return` operator, so the result of the computation (internally called `x_plus_y` in the function definition) will be \"returned\" to the user. This means that the function can be used to assign a value to a new variable, as seen below.  This allows us to make use of the information generated in the function."
   ]
  },
  {
   "cell_type": "code",
   "execution_count": 12,
   "id": "2e010003",
   "metadata": {
    "tags": [
     "hide-output"
    ]
   },
   "outputs": [
    {
     "name": "stdout",
     "output_type": "stream",
     "text": [
      "1 + 2 = 3\n",
      "3\n",
      "12.5 + -32.4 = -19.9\n",
      "-19.9\n"
     ]
    }
   ],
   "source": [
    "sum1 = nice_add(1, 2)\n",
    "print(sum1)\n",
    "\n",
    "sum2 = nice_add(12.5, -32.4)\n",
    "print(sum2)"
   ]
  },
  {
   "cell_type": "markdown",
   "id": "de0ca66f",
   "metadata": {},
   "source": [
    "Note however, that the variable names used in the function definition (`x`, `y`, and `x_plus_y`) are not actually generated as variables with stored information.  That is, calling the function `nice_add` does not make a variable `x_plus_y` available to the Jupyter notebook. You can see this in the cell below, where trying to print out `x_plus_y` generates a `NameError`. (This somewhat subtle note has to do with how Python keeps track of its [**namespace**](https://realpython.com/python-namespaces-scope/), which can be thought of as the list of functions and variables that Python currently knows about.)"
   ]
  },
  {
   "cell_type": "code",
   "execution_count": 13,
   "id": "5c9632bc",
   "metadata": {
    "tags": [
     "hide-output"
    ]
   },
   "outputs": [
    {
     "ename": "NameError",
     "evalue": "name 'x_plus_y' is not defined",
     "output_type": "error",
     "traceback": [
      "\u001b[0;31m---------------------------------------------------------------------------\u001b[0m",
      "\u001b[0;31mNameError\u001b[0m                                 Traceback (most recent call last)",
      "Cell \u001b[0;32mIn[13], line 1\u001b[0m\n\u001b[0;32m----> 1\u001b[0m \u001b[38;5;28mprint\u001b[39m(\u001b[43mx_plus_y\u001b[49m)\n",
      "\u001b[0;31mNameError\u001b[0m: name 'x_plus_y' is not defined"
     ]
    }
   ],
   "source": [
    "print(x_plus_y)"
   ]
  },
  {
   "cell_type": "markdown",
   "id": "e5b5a77b",
   "metadata": {},
   "source": [
    "### Exercises\n",
    "\n",
    "1. Modify the example function `nice_add` to make a new function called `nicer_add`, where `nicer_add` will check that the second input is positive before using a plus sign in the printing, otherwise using a negative sign.\n",
    "2. Write a function called `add_to_zoo` that takes in a string containing an animal name and a list of animals in the zoo. Check to see if the new animal is in the zoo (the animal is in the list), and if it is, politely decline the request to add the animal to the zoo. If the animal is not in the zoo, add it to the zoo (print a statement that you have done so!)."
   ]
  },
  {
   "cell_type": "markdown",
   "id": "90075310",
   "metadata": {},
   "source": [
    "## Function inputs (arguments)\n",
    "\n",
    "At this point, most of the functions that we have introduced only require one or two inputs, but Python functions can be much more versatile. Specifically, Python functions can be defined to have infinite numbers of either **positional** or **keyword** arguments.\n",
    "\n",
    "### Positional arguments\n",
    "\n",
    "The functions we've defined here and that you've used in previous sections have all used positional arguments, which are named after the fact that their *position* in the parentheses is how Python assigns the temporary variables used in the function assignment.  For example, when we call `nice_add(1, 2)`, Python knows to assign the temporary variables `x=1` and `y=2` because 1 is the first input and 2 is the second. If we create a function with 10 positional arguments, then when we call the function, we need to provide these inputs in the correct order to maintain the correct variable assignment within the function.  This also means that if we define a function with $N$ positional arguments, then $N$ inputs must be provided whenever calling this function to avoid a `TypeError`.  Try calling `nice_add(1)` to see what this looks like."
   ]
  },
  {
   "cell_type": "markdown",
   "id": "7615772d",
   "metadata": {},
   "source": [
    "### Keyword arguments\n",
    "\n",
    "While requiring certain inputs is often useful and necessary when we create functions, sometimes we want to give our function some flexibility with options and defaults.  These can be set in the function definition using the `=` (variable assignment) syntax.  For example, we can modify our `greeting` to greet \"everyone\" if no name is supplied."
   ]
  },
  {
   "cell_type": "code",
   "execution_count": 15,
   "id": "aaef1a6b",
   "metadata": {},
   "outputs": [],
   "source": [
    "def greeting(name='everyone'):\n",
    "    fixed_name = name.title()  ## What does the `title` method do to a string?\n",
    "    print(f\"Hello, {fixed_name}, it's so nice to see you!\")"
   ]
  },
  {
   "cell_type": "markdown",
   "id": "ec8bcde1",
   "metadata": {},
   "source": [
    "Then, when calling this function, if we don't specify a name, `greeting` already has a value and can run without error."
   ]
  },
  {
   "cell_type": "code",
   "execution_count": 16,
   "id": "b79ccda5",
   "metadata": {
    "tags": [
     "hide-output"
    ]
   },
   "outputs": [
    {
     "name": "stdout",
     "output_type": "stream",
     "text": [
      "Hello, Everyone, it's so nice to see you!\n"
     ]
    }
   ],
   "source": [
    "greeting()  ## The empty parentheses indicate that we're calling the function without inputs."
   ]
  },
  {
   "cell_type": "markdown",
   "id": "a8f852f9",
   "metadata": {},
   "source": [
    "### Mixing positional and keyword arguments\n",
    "\n",
    "We can also mix the two types of arguments in the function definition, with the only caveat being that all positional arguments must be specified *before* any keyword arguments.\n",
    "\n",
    "In the example below, we greet our friends and their guests and thank them for bringing food.  However, I didn't tell everyone to bring food, so by default we don't expect it and we set food using a keyword argument. The default value is `None`, which is a special Python datum that corresponds to nothing.  Using `None` is useful for setting default variables, because we can easily catch it using an `if var is not None:` clause as in the example."
   ]
  },
  {
   "cell_type": "code",
   "execution_count": 17,
   "id": "8ff7f2ca",
   "metadata": {},
   "outputs": [],
   "source": [
    "def greeting_with_food(name, number_of_friends, food=None):\n",
    "    \n",
    "    fixed_name = name.title()\n",
    "    output = f\"\\nHello, {fixed_name}, it's so nice to see you!\"\n",
    "    \n",
    "    ## We only want to greet integer numbers of friends.\n",
    "    if isinstance(number_of_friends, int):\n",
    "        output = output + f\" I see that you've brought {number_of_friends} friends, that's great!\"\n",
    "    \n",
    "    print(output)\n",
    "    \n",
    "    if food is not None:\n",
    "        print(f\"Oh, you brought {food}!? Excellent!\")"
   ]
  },
  {
   "cell_type": "markdown",
   "id": "c5514d00",
   "metadata": {},
   "source": [
    "Calling this function a few times, we can see that Amy brought 3 friends and some cookies, Stefon tried to bring 1.2(?) friends, but trying to greet Quentin and his lasagna causes a problem."
   ]
  },
  {
   "cell_type": "code",
   "execution_count": 19,
   "id": "f8bd2765",
   "metadata": {
    "tags": [
     "hide-output"
    ]
   },
   "outputs": [
    {
     "name": "stdout",
     "output_type": "stream",
     "text": [
      "\n",
      "Hello, Amy, it's so nice to see you! I see that you've brought 3 friends, that's great!\n",
      "Oh, you brought cookies!? Excellent!\n",
      "\n",
      "Hello, Stefon, it's so nice to see you!\n"
     ]
    },
    {
     "ename": "TypeError",
     "evalue": "greeting_with_food() missing 1 required positional argument: 'number_of_friends'",
     "output_type": "error",
     "traceback": [
      "\u001b[0;31m---------------------------------------------------------------------------\u001b[0m",
      "\u001b[0;31mTypeError\u001b[0m                                 Traceback (most recent call last)",
      "Cell \u001b[0;32mIn[19], line 3\u001b[0m\n\u001b[1;32m      1\u001b[0m greeting_with_food(\u001b[38;5;124m\"\u001b[39m\u001b[38;5;124mAmy\u001b[39m\u001b[38;5;124m\"\u001b[39m, \u001b[38;5;241m3\u001b[39m, food\u001b[38;5;241m=\u001b[39m\u001b[38;5;124m\"\u001b[39m\u001b[38;5;124mcookies\u001b[39m\u001b[38;5;124m\"\u001b[39m)\n\u001b[1;32m      2\u001b[0m greeting_with_food(\u001b[38;5;124m\"\u001b[39m\u001b[38;5;124mStefon\u001b[39m\u001b[38;5;124m\"\u001b[39m, \u001b[38;5;241m1.2\u001b[39m)\n\u001b[0;32m----> 3\u001b[0m \u001b[43mgreeting_with_food\u001b[49m\u001b[43m(\u001b[49m\u001b[38;5;124;43m\"\u001b[39;49m\u001b[38;5;124;43mQuentin\u001b[39;49m\u001b[38;5;124;43m\"\u001b[39;49m\u001b[43m,\u001b[49m\u001b[43m \u001b[49m\u001b[43mfood\u001b[49m\u001b[38;5;241;43m=\u001b[39;49m\u001b[38;5;124;43m\"\u001b[39;49m\u001b[38;5;124;43mlasagna\u001b[39;49m\u001b[38;5;124;43m\"\u001b[39;49m\u001b[43m)\u001b[49m \u001b[38;5;66;03m## What's the error message say?\u001b[39;00m\n",
      "\u001b[0;31mTypeError\u001b[0m: greeting_with_food() missing 1 required positional argument: 'number_of_friends'"
     ]
    }
   ],
   "source": [
    "greeting_with_food(\"Amy\", 3, food=\"cookies\")\n",
    "greeting_with_food(\"Stefon\", 1.2)\n",
    "greeting_with_food(\"Quentin\", food=\"lasagna\") ## What's the error message say?"
   ]
  },
  {
   "cell_type": "markdown",
   "id": "3fdeba9d",
   "metadata": {},
   "source": [
    "### Assigning inputs by name\n",
    "\n",
    "It's worth noting that while positional arguments must precede keyword arugments in function definitions and when calling functions as shown above.  We can mix the order of inputs when calling functions if we know the names of the positional arguments used in defining the function.  This is easily seen with some examples:"
   ]
  },
  {
   "cell_type": "code",
   "execution_count": 20,
   "id": "8d7aba85",
   "metadata": {
    "tags": [
     "hide-output"
    ]
   },
   "outputs": [
    {
     "name": "stdout",
     "output_type": "stream",
     "text": [
      "\n",
      "Hello, Amy, it's so nice to see you! I see that you've brought 3 friends, that's great!\n",
      "Oh, you brought cookies!? Excellent!\n"
     ]
    }
   ],
   "source": [
    "greeting_with_food(name=\"Amy\", number_of_friends=3, food=\"cookies\")"
   ]
  },
  {
   "cell_type": "markdown",
   "id": "397c522c",
   "metadata": {},
   "source": [
    "Here we know the positional arguments' names, so we can clarify our code by using these (hopefully informative) names when calling the function.  This lets us change the order of the inputs, because Python won't be confused about which input is which:"
   ]
  },
  {
   "cell_type": "code",
   "execution_count": 21,
   "id": "699fb61c",
   "metadata": {
    "tags": [
     "hide-output"
    ]
   },
   "outputs": [
    {
     "name": "stdout",
     "output_type": "stream",
     "text": [
      "\n",
      "Hello, Amy, it's so nice to see you! I see that you've brought 3 friends, that's great!\n",
      "Oh, you brought cookies!? Excellent!\n"
     ]
    }
   ],
   "source": [
    "greeting_with_food(food=\"cookies\", number_of_friends=3, name=\"Amy\")"
   ]
  },
  {
   "cell_type": "markdown",
   "id": "5d10b9d9",
   "metadata": {},
   "source": [
    "However, if we want to ignore these names, then we have to supply the unnamed arguments in order.  For example, the following will not work:"
   ]
  },
  {
   "cell_type": "code",
   "execution_count": 22,
   "id": "9d17bd0d",
   "metadata": {
    "tags": [
     "hide-output"
    ]
   },
   "outputs": [
    {
     "ename": "SyntaxError",
     "evalue": "positional argument follows keyword argument (3464020527.py, line 1)",
     "output_type": "error",
     "traceback": [
      "\u001b[0;36m  Cell \u001b[0;32mIn[22], line 1\u001b[0;36m\u001b[0m\n\u001b[0;31m    greeting_with_food(name=\"Amy\", 3, food=\"cookies\")\u001b[0m\n\u001b[0m                                                    ^\u001b[0m\n\u001b[0;31mSyntaxError\u001b[0m\u001b[0;31m:\u001b[0m positional argument follows keyword argument\n"
     ]
    }
   ],
   "source": [
    "greeting_with_food(name=\"Amy\", 3, food=\"cookies\")"
   ]
  },
  {
   "cell_type": "markdown",
   "id": "72a2f226",
   "metadata": {},
   "source": [
    "## Documenting functions\n",
    "\n",
    "At this point, we now have all the tools to completely understand the documentation of different functions such as [`np.sum`](https://numpy.org/doc/stable/reference/generated/numpy.sum.html), which is introduced as:\n",
    "\n",
    "```{code-block}\n",
    "numpy.sum(a, axis=None, dtype=None, out=None, keepdims=<no value>, initial=<no value>, where=<no value>)\n",
    "```\n",
    "\n",
    "Where we can see that `a` is the only positional argument, but there are also the keyword arguments `axis`, `dtype`, `out`, `keepdims`, `initial`, and `where`.\n",
    "\n",
    "### Docstrings\n",
    "\n",
    "Beyond this however, is usually a breakdown of all the details of the function, such as descriptions of what the inputs and outputs are and examples of how the function should be used.  When writing your own functions, it is good practice to provide this documentation (at least in part) to remind yourself and others what your function does and how it should be used.  This is naturally done in Python with a [**docstring**](https://peps.python.org/pep-0257/) (\"documentation string\"), which is a special message that you can include after the first line of your function definition (after the `def myfunc(inputs):` line) to provide more information on your function.  Providing this docstring means that whenever you use the `help` function on your function it will print this docstring to the screen.  For example, using `help(np.sum)` provides the same information as we can find at the [link](https://numpy.org/doc/stable/reference/generated/numpy.sum.html) included earlier."
   ]
  },
  {
   "cell_type": "code",
   "execution_count": 23,
   "id": "89d5437a",
   "metadata": {
    "tags": [
     "hide-output"
    ]
   },
   "outputs": [
    {
     "name": "stdout",
     "output_type": "stream",
     "text": [
      "Help on function sum in module numpy:\n",
      "\n",
      "sum(a, axis=None, dtype=None, out=None, keepdims=<no value>, initial=<no value>, where=<no value>)\n",
      "    Sum of array elements over a given axis.\n",
      "    \n",
      "    Parameters\n",
      "    ----------\n",
      "    a : array_like\n",
      "        Elements to sum.\n",
      "    axis : None or int or tuple of ints, optional\n",
      "        Axis or axes along which a sum is performed.  The default,\n",
      "        axis=None, will sum all of the elements of the input array.  If\n",
      "        axis is negative it counts from the last to the first axis.\n",
      "    \n",
      "        .. versionadded:: 1.7.0\n",
      "    \n",
      "        If axis is a tuple of ints, a sum is performed on all of the axes\n",
      "        specified in the tuple instead of a single axis or all the axes as\n",
      "        before.\n",
      "    dtype : dtype, optional\n",
      "        The type of the returned array and of the accumulator in which the\n",
      "        elements are summed.  The dtype of `a` is used by default unless `a`\n",
      "        has an integer dtype of less precision than the default platform\n",
      "        integer.  In that case, if `a` is signed then the platform integer\n",
      "        is used while if `a` is unsigned then an unsigned integer of the\n",
      "        same precision as the platform integer is used.\n",
      "    out : ndarray, optional\n",
      "        Alternative output array in which to place the result. It must have\n",
      "        the same shape as the expected output, but the type of the output\n",
      "        values will be cast if necessary.\n",
      "    keepdims : bool, optional\n",
      "        If this is set to True, the axes which are reduced are left\n",
      "        in the result as dimensions with size one. With this option,\n",
      "        the result will broadcast correctly against the input array.\n",
      "    \n",
      "        If the default value is passed, then `keepdims` will not be\n",
      "        passed through to the `sum` method of sub-classes of\n",
      "        `ndarray`, however any non-default value will be.  If the\n",
      "        sub-class' method does not implement `keepdims` any\n",
      "        exceptions will be raised.\n",
      "    initial : scalar, optional\n",
      "        Starting value for the sum. See `~numpy.ufunc.reduce` for details.\n",
      "    \n",
      "        .. versionadded:: 1.15.0\n",
      "    \n",
      "    where : array_like of bool, optional\n",
      "        Elements to include in the sum. See `~numpy.ufunc.reduce` for details.\n",
      "    \n",
      "        .. versionadded:: 1.17.0\n",
      "    \n",
      "    Returns\n",
      "    -------\n",
      "    sum_along_axis : ndarray\n",
      "        An array with the same shape as `a`, with the specified\n",
      "        axis removed.   If `a` is a 0-d array, or if `axis` is None, a scalar\n",
      "        is returned.  If an output array is specified, a reference to\n",
      "        `out` is returned.\n",
      "    \n",
      "    See Also\n",
      "    --------\n",
      "    ndarray.sum : Equivalent method.\n",
      "    \n",
      "    add.reduce : Equivalent functionality of `add`.\n",
      "    \n",
      "    cumsum : Cumulative sum of array elements.\n",
      "    \n",
      "    trapz : Integration of array values using the composite trapezoidal rule.\n",
      "    \n",
      "    mean, average\n",
      "    \n",
      "    Notes\n",
      "    -----\n",
      "    Arithmetic is modular when using integer types, and no error is\n",
      "    raised on overflow.\n",
      "    \n",
      "    The sum of an empty array is the neutral element 0:\n",
      "    \n",
      "    >>> np.sum([])\n",
      "    0.0\n",
      "    \n",
      "    For floating point numbers the numerical precision of sum (and\n",
      "    ``np.add.reduce``) is in general limited by directly adding each number\n",
      "    individually to the result causing rounding errors in every step.\n",
      "    However, often numpy will use a  numerically better approach (partial\n",
      "    pairwise summation) leading to improved precision in many use-cases.\n",
      "    This improved precision is always provided when no ``axis`` is given.\n",
      "    When ``axis`` is given, it will depend on which axis is summed.\n",
      "    Technically, to provide the best speed possible, the improved precision\n",
      "    is only used when the summation is along the fast axis in memory.\n",
      "    Note that the exact precision may vary depending on other parameters.\n",
      "    In contrast to NumPy, Python's ``math.fsum`` function uses a slower but\n",
      "    more precise approach to summation.\n",
      "    Especially when summing a large number of lower precision floating point\n",
      "    numbers, such as ``float32``, numerical errors can become significant.\n",
      "    In such cases it can be advisable to use `dtype=\"float64\"` to use a higher\n",
      "    precision for the output.\n",
      "    \n",
      "    Examples\n",
      "    --------\n",
      "    >>> np.sum([0.5, 1.5])\n",
      "    2.0\n",
      "    >>> np.sum([0.5, 0.7, 0.2, 1.5], dtype=np.int32)\n",
      "    1\n",
      "    >>> np.sum([[0, 1], [0, 5]])\n",
      "    6\n",
      "    >>> np.sum([[0, 1], [0, 5]], axis=0)\n",
      "    array([0, 6])\n",
      "    >>> np.sum([[0, 1], [0, 5]], axis=1)\n",
      "    array([1, 5])\n",
      "    >>> np.sum([[0, 1], [np.nan, 5]], where=[False, True], axis=1)\n",
      "    array([1., 5.])\n",
      "    \n",
      "    If the accumulator is too small, overflow occurs:\n",
      "    \n",
      "    >>> np.ones(128, dtype=np.int8).sum(dtype=np.int8)\n",
      "    -128\n",
      "    \n",
      "    You can also start the sum with a value other than zero:\n",
      "    \n",
      "    >>> np.sum([10], initial=5)\n",
      "    15\n",
      "\n"
     ]
    }
   ],
   "source": [
    "help(np.sum)"
   ]
  },
  {
   "cell_type": "markdown",
   "id": "07a1148d",
   "metadata": {},
   "source": [
    "Docstrings are specified using triple-quotes `\"\"\"docstring\"\"\"` and should either be brief one-line descriptions of the function, as seen in the following definition of `greeting`, or more comprehensive multi-line descriptions like the one I've added to `greeting_with_food`."
   ]
  },
  {
   "cell_type": "code",
   "execution_count": 25,
   "id": "b13e32e1",
   "metadata": {},
   "outputs": [],
   "source": [
    "def greeting(name='everyone'):\n",
    "    \"\"\"This function will greet a friend nicely.\"\"\"\n",
    "    fixed_name = name.title()\n",
    "    print(f\"Hello, {fixed_name}, it's so nice to see you!\")\n",
    "    \n",
    "def greeting_with_food(name, number_of_friends, food=None):\n",
    "    \"\"\"\n",
    "    Greets a friend and their guests and thanks them for any food they've brought.\n",
    "    \n",
    "    Parameters\n",
    "    ----------\n",
    "    name : string\n",
    "        Name of the friend to greet.\n",
    "    number_of_friends : int\n",
    "        Number of friends that your friend has brought with them. If not an integer, \n",
    "        this input is ignored.\n",
    "    food : string, optional\n",
    "        The food that your friend has brought to your party. By default, we don't\n",
    "        expect anyone to have brought food, so we don't say anything.\n",
    "    \n",
    "    Notes\n",
    "    -----\n",
    "    This function doesn't return anything, but only prints a message to the screen.\n",
    "    \n",
    "    Examples\n",
    "    --------\n",
    "    \n",
    "    >>> greeting_with_food(\"Amy\", 3, food=\"cookies\")\n",
    "    Hello, Amy, it's so nice to see you! I see that you've brought 3 friends, that's great!\n",
    "    Oh, you brought cookies!? Excellent!\n",
    "    \"\"\"\n",
    "    \n",
    "    fixed_name = name.title()\n",
    "    output = f\"\\nHello, {fixed_name}, it's so nice to see you!\"\n",
    "    \n",
    "    ## We only want to greet integer numbers of friends.\n",
    "    if isinstance(number_of_friends, int):\n",
    "        output = output + f\" I see that you've brought {number_of_friends} friends, that's great!\"\n",
    "    \n",
    "    print(output)\n",
    "    \n",
    "    if food is not None:\n",
    "        print(f\"Oh, you brought {food}!? Excellent!\")"
   ]
  },
  {
   "cell_type": "markdown",
   "id": "b6d147c7",
   "metadata": {},
   "source": [
    "You can now try using `help` on these functions to learn about how to use them.\n",
    "\n",
    "It's worth noting that docstrings commonly provide:\n",
    "- Details on the inputs, indicating the expected *type* of the inputs and what their default values are if they have them\n",
    "- Details on the *outputs* of the function, including what type the outputs are\n",
    "- Related functions, especially in the context of a [**module**](https://docs.python.org/3/tutorial/modules.html) of functions that you may be building\n",
    "- Notes on using the function, especially if there are non-obvious details to your implementation,\n",
    "- Examples on how to use the function, especially if there are keyword arguments that are important to the function's operations\n",
    "\n",
    "```{note}\n",
    "At a minimum, it is *very good practice* to include a sentence or two about what your function does and what your goals for writing it were.  This will help you organize your own work and makes your code much more readable to others.\n",
    "```"
   ]
  },
  {
   "cell_type": "markdown",
   "id": "ed92eff4",
   "metadata": {},
   "source": [
    "## Exercises\n",
    "\n",
    "1. In a fashion similar to `nicer_add`, write a function `nice_arithmetic` that formats basic arithmetic operations (`+`, `-`, `*`, `/`) nicely. Use a keyword to allow the user to specify the operator they would like to use, and use another keyword to allow the user to toggle between printing symbols and plain english (i.e. between \"1 + 2 = 3\" and \"The sum of 1 and 2 is 3\"). Return the computation as output, and test your function on several examples.\n",
    "\n",
    "2. Use the following pseudocode to define a function integrate that performs simple integration of a function over a range (recall that integration is simply finding the area under a curve).\n",
    "    - Set as inputs: the function to integrate, `f`, the endpoints of the interval, `a`, and `b`, as well as the number of steps to use in approximation `n` (you may use a default number here).\n",
    "    - Check that `a` < `b` and that `n` is a positive integer. If either of these conditions are not met, print what is wrong and use return with no output to quit the function.\n",
    "    - Calculate `dx = (b - a)/n`, the width of each approximating rectangle.\n",
    "    - Set `left_pt = a`, `right_pt = a + dx`, `sum = 0`\n",
    "    - While `right_pt` is less than or equal to `b` do the following:\n",
    "        - Find the average of `f` at `left_pt` and `right_pt`, multiply by `dx` to approximate the area of the rectangle under the function `f` between `left_pt` and `right_pt`.\n",
    "        - Add the result of this calculation to `sum`.\n",
    "        - Increment `left_pt` and `right_pt` by `dx` to examine the next rectangle.\n",
    "    - Print the value of the integral (show the given endpoints and the number of approximating rectangles)\n",
    "    - Return the output\n",
    "\n",
    "    Test your function using `np.cos` and `a=0`, `b=1` for various values of `n`. (As `n` increases, your function should return a number closer to 0.841470984807897.) If you have any issues, try this [wikipedia reference](https://en.wikipedia.org/wiki/Numerical_integration), then try this [YouTube video](https://www.youtube.com/watch?v=mCPWtXVyzFg) if you are still having trouble. Note that the video is not exactly the same protocol as I have given here, so you will need to make appropriate adjustments.\n",
    "    \n",
    "3. Write docstrings for your functions in the previous two exercises."
   ]
  },
  {
   "cell_type": "markdown",
   "id": "1cd99f22",
   "metadata": {},
   "source": [
    "## Next Steps\n",
    "\n",
    "At this point, you have almost all the tools you need to start programming in Python.  However, the next few sections of this tutorial will be *essential* if you want to use Python to do quantitative work with data.  In particular, learning how to [generate figures](../07_Plotting/07_Plotting_Notebook) and how to [read in data](../08_Loading_Writing/08_Loading_Writing_Notebook) from files (the next two sections), will be immensely useful to anyone working with data. The last few sections are also useful enough that I cannot omit them from an introductory tutorial, although you can get by without learning about [dictionaries](../09_Dictionaries/09_Dictionaries_Notebook), [classes](11_Classes/11_Classes_Notebook), and [random number generators](10_RandomNumbers/10_RandomNumbers_Notebook) if you need to, but if you are taking my [*What Do Your Data Say?*](https://ejohnson643.github.io/WhatDoYourDataSay) course, you will need to learn about random number generation in Python."
   ]
  }
 ],
 "metadata": {
  "celltoolbar": "Tags",
  "kernelspec": {
   "display_name": "Python 3 (ipykernel)",
   "language": "python",
   "name": "python3"
  },
  "language_info": {
   "codemirror_mode": {
    "name": "ipython",
    "version": 3
   },
   "file_extension": ".py",
   "mimetype": "text/x-python",
   "name": "python",
   "nbconvert_exporter": "python",
   "pygments_lexer": "ipython3",
   "version": "3.11.0"
  }
 },
 "nbformat": 4,
 "nbformat_minor": 5
}
