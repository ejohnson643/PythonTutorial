{
 "cells": [
  {
   "cell_type": "markdown",
   "id": "b7a05977-1bb8-4bd5-b7ab-adceda747b68",
   "metadata": {},
   "source": [
    "# EVERYTHING TO BOOLEAN\n",
    "\n",
    "In Python only \"zero\" elements are returned as `False`.  So `bool(0)` is `False`, but `bool(-1)` and `bool(3)` are `True`.  A similar statement holds for floats.\n",
    "\n",
    "For strings, only the **empty string** `\"\"` gets returned as `False`, all other non-empty strings get converted into `True` to indicate the presence of *something* in the data."
   ]
  }
 ],
 "metadata": {
  "kernelspec": {
   "display_name": "Python 3 (ipykernel)",
   "language": "python",
   "name": "python3"
  },
  "language_info": {
   "codemirror_mode": {
    "name": "ipython",
    "version": 3
   },
   "file_extension": ".py",
   "mimetype": "text/x-python",
   "name": "python",
   "nbconvert_exporter": "python",
   "pygments_lexer": "ipython3",
   "version": "3.11.0"
  }
 },
 "nbformat": 4,
 "nbformat_minor": 5
}
