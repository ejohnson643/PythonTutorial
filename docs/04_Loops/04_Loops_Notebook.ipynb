{
 "cells": [
  {
   "cell_type": "code",
   "execution_count": 1,
   "id": "75a68e90",
   "metadata": {
    "tags": [
     "hide-output"
    ]
   },
   "outputs": [],
   "source": [
    "import numpy as np ## It's good practice to put your imports right at the top!"
   ]
  },
  {
   "cell_type": "markdown",
   "id": "f886276d",
   "metadata": {},
   "source": [
    "# Loops\n",
    "\n",
    "Now that we've learned about how data are stored in Python as different types that we can collect into [data structures](https://docs.python.org/3/tutorial/datastructures.html) like [lists](https://docs.python.org/3/c-api/list.html) or [numpy arrays](https://numpy.org/doc/stable/reference/generated/numpy.array.html), we should learn how to actually *do* things with our data! The next three sections on **loops**, [conditional statements](../05_ConditionalStatements/05_ConditionalStatements_Notebook), and [functions](../06_Functions/06_Functions_Notebook) will comprise the basics of everything you need to get yourself up and running with Python. This will also be your first introduction to Python's **syntax** (its \"grammar\" for how to structure code), beyond the simple syntax of variable assignment that we've seen thus far.\n",
    "\n",
    "**Loops** are a natural place to start in the context of thinking about Python for data analysis because loops are a coding structure that tell computers how to execute a set of instructions repeatedly, and we often have lists or arrays of data that we want to iterate through (\"loop over\" in coding lingo) to perform calculations on each datum individually. That is, the term \"loop\" refers to the way that the computer *loops back* to do a set of tasks many times. This is one of the true superpowers of coding: computers have infinite patience and can do boring tasks repeatedly *ad nauseam*, so we can leverage this to make calculations or perform analyses that would be impossible to do by hand. We'll talk about this more when we learn about [random number generation](../10_RandomNumbers/10_RandomNumbers).\n",
    "\n",
    "In Python there are three main types of loops: [`for`](https://docs.python.org/3/reference/compound_stmts.html#the-for-statement), [`while`](https://docs.python.org/3/reference/compound_stmts.html#while), and [**list comprehensions**](https://docs.python.org/3/tutorial/datastructures.html#list-comprehensions). `for` loops are probably the most common type and are the easiest to work with. `while` loops have a similar syntax to `for` loops, but are somewhat trickier and are a common source of bugs for novice coders. Finally, list comprehensions have a more complicated syntax, but are extremely \"[Pythonic](https://www.computerhope.com/jargon/p/pythonic.htm)\" and a nice way to compress loops that involve lists. In this tutorial, we'll mostly focus on `for` and `while` loops, but I'll introduce the list comprehension syntax so that you aren't stumped when you see it in the wild.  In this section, we'll learn about `for` loops, and we'll leave `while` loops for the next section, after we've introduced the notion of [conditional statements](../05_ConditionalStatements/05_ConditionalStatements_Notebook).\n",
    "\n",
    "```{admonition} Big Idea\n",
    "Loops are structure that tell the computer to *loop back and repeat* instructions several times.\n",
    "```"
   ]
  },
  {
   "cell_type": "markdown",
   "id": "c21dde0b",
   "metadata": {},
   "source": [
    "## The `for` loop\n",
    "\n",
    "At its most basic, a computer is a [bit](https://en.wikipedia.org/wiki/Bit)-moving and -storing machine; it can remember information and it can modify that information, but it at some level operates in a discrete, bit-by-bit manner. I say this because it can seem as though computers are doing many things simultaneously, but under the hood, operations like `sum([1, 12, 3, 6, 321])` are carried out by the computer as a set of *very fast*, simple, sequential steps:\n",
    "- Set `tmp_sum = 0`\n",
    "- `tmp_sum = tmp_sum + 1`\n",
    "- `tmp_sum = tmp_sum + 12`\n",
    "- `tmp_sum = tmp_sum + 3`\n",
    "- `tmp_sum = tmp_sum + 6`\n",
    "- `tmp_sum = tmp_sum + 321`\n",
    "- return `tmp_sum` to the user.\n",
    "The `for` loop is our structure to control this iterative process.\n",
    "\n",
    "### What is a `for` loop?\n",
    "\n",
    "The idea behind a `for` loop is that we are filling in the sentence \"Do these steps *for* this many iterations.\" That is, we know how many times we want to do the operations, so the computer should do them for all the indicated repetitions. In Python, this is done by iterating over an **iterable** such as a list or array (tautologically, iterables are things that can be iterated over).\n",
    "\n",
    "````{margin}\n",
    "```{note}\n",
    "Throughout this tutorial, I will highlight new terms and definitions, but the purpose for doing this is that you can use them as a reference to try and debug things later, not for you to try and memorize everything as you go.\n",
    "```\n",
    "````\n",
    "\n",
    "As a simple example, consider the following:"
   ]
  },
  {
   "cell_type": "code",
   "execution_count": 2,
   "id": "ddf1eb53",
   "metadata": {},
   "outputs": [
    {
     "name": "stdout",
     "output_type": "stream",
     "text": [
      "Doing some instructions!\n",
      "Doing some instructions!\n",
      "Doing some instructions!\n",
      "Doing some instructions!\n",
      "Doing some instructions!\n"
     ]
    }
   ],
   "source": [
    "for iteration in range(5):\n",
    "    print(\"Doing some instructions!\")"
   ]
  },
  {
   "cell_type": "markdown",
   "id": "394407e4",
   "metadata": {},
   "source": [
    "Let's unpack this a bit.  The idea is that we can read this syntax as \"for item in iterable: do stuff\", where Python is going to do the **indented instructions** for each item in the list.  In this case, we're using the [`range`](https://docs.python.org/3/library/functions.html#func-range) function to create an iterable of length 5, and then Python is executing the indented instructions of `print(\"Doing some instructions!\")` 5 times, once for each iteration in the iterable. We can do any normal Python commands in this indented area: variable assignment, calculations, even other loops as we'll see shortly!  For example:"
   ]
  },
  {
   "cell_type": "code",
   "execution_count": 3,
   "id": "810a0adb",
   "metadata": {},
   "outputs": [
    {
     "name": "stdout",
     "output_type": "stream",
     "text": [
      "\n",
      "This is an iteration!\n",
      "x has been assigned 3\n",
      "\n",
      "This is an iteration!\n",
      "x has been assigned 3\n",
      "\n",
      "This is an iteration!\n",
      "x has been assigned 3\n",
      "\n",
      "This is an iteration!\n",
      "x has been assigned 3\n"
     ]
    }
   ],
   "source": [
    "n_iters = 4\n",
    "for element in range(n_iters):\n",
    "    print(\"\\nThis is an iteration!\")\n",
    "    x = 3\n",
    "    print(\"x has been assigned {}\".format(x))\n"
   ]
  },
  {
   "cell_type": "markdown",
   "id": "933136af",
   "metadata": {},
   "source": [
    "Where you can see that all of the indented instructions were executed `n_iters=4` times.\n",
    "\n",
    "However, this is not all that lists can do. Earlier we suggested that we can iterate through lists and arrays, which would involve something *changing* about each iteration of the loop, and this is easy to do by taking advantage of the fact that Python loops automatically assign a value to the iterate variable specified in the `for` loop syntax. That is, in the previous examples, `iteration` and `element` were names given to a variable that actually stored a value based on the iterable provided.  We can see this in action below:"
   ]
  },
  {
   "cell_type": "code",
   "execution_count": 4,
   "id": "68704c6e",
   "metadata": {},
   "outputs": [
    {
     "name": "stdout",
     "output_type": "stream",
     "text": [
      "The value stored in 'iter_name' is 0\n",
      "The value stored in 'iter_name' is 1\n",
      "The value stored in 'iter_name' is 2\n",
      "The value stored in 'iter_name' is 3\n",
      "The value stored in 'iter_name' is 4\n",
      "The value stored in 'iter_name' is 5\n",
      "The value stored in 'iter_name' is 6\n"
     ]
    }
   ],
   "source": [
    "for iter_name in range(7):\n",
    "    print(f\"The value stored in 'iter_name' is {iter_name}\")"
   ]
  },
  {
   "cell_type": "markdown",
   "id": "ef60798d",
   "metadata": {},
   "source": [
    "Specifically, this iterator variable is being assigned the elements of the iterable (`range(7)` in the previous example) one at a time.  So in the case where we're using `range`, the variable `iter_name` recieves the elements of the iterable `range(7)` one at a time: first 0, then 1, then 2, and so on up to 6. You can check this by looking at the output of `print(list(range(7)))`.\n",
    "\n",
    "````{margin}\n",
    "```{admonition} Variable names\n",
    "Remember, variables can have almost any name that you want, but it's good practice to make them informative. I've used `iteration`, `element`, and `iter_name` as examples.\n",
    "```\n",
    "````\n",
    "\n",
    "We can do this with any iterable, not just the output of the `range` function, including lists.  For example:"
   ]
  },
  {
   "cell_type": "code",
   "execution_count": 5,
   "id": "9cd0cf84",
   "metadata": {},
   "outputs": [
    {
     "name": "stdout",
     "output_type": "stream",
     "text": [
      "dogs\n",
      "cats\n",
      "iguanas\n",
      "rabbits\n",
      "birds\n"
     ]
    }
   ],
   "source": [
    "list_of_pets = ['dogs', 'cats', 'iguanas', 'rabbits', 'birds']\n",
    "\n",
    "for pet in list_of_pets:\n",
    "    print(pet)"
   ]
  },
  {
   "cell_type": "markdown",
   "id": "d61e250a",
   "metadata": {},
   "source": [
    "Here we can see that the iteration variable `pet` is being assigned each element of `list_of_pets` in turn.\n",
    "\n",
    "It's important to note that this is a variable assignment that is happening at the `for` loop structure and not beforehand.  That is, we cannot access this `pet` variable until the loop has been run."
   ]
  },
  {
   "cell_type": "code",
   "execution_count": 6,
   "id": "514da204",
   "metadata": {
    "tags": [
     "hide-output"
    ]
   },
   "outputs": [
    {
     "ename": "NameError",
     "evalue": "name 'animal' is not defined",
     "output_type": "error",
     "traceback": [
      "\u001b[0;31m---------------------------------------------------------------------------\u001b[0m",
      "\u001b[0;31mNameError\u001b[0m                                 Traceback (most recent call last)",
      "Cell \u001b[0;32mIn[6], line 1\u001b[0m\n\u001b[0;32m----> 1\u001b[0m \u001b[38;5;28mprint\u001b[39m(\u001b[43manimal\u001b[49m) \u001b[38;5;66;03m## This has not been assigned yet, so it will create a NameError!\u001b[39;00m\n\u001b[1;32m      3\u001b[0m \u001b[38;5;28;01mfor\u001b[39;00m animal \u001b[38;5;129;01min\u001b[39;00m pets:\n\u001b[1;32m      4\u001b[0m     \u001b[38;5;28mprint\u001b[39m(animal)\n",
      "\u001b[0;31mNameError\u001b[0m: name 'animal' is not defined"
     ]
    }
   ],
   "source": [
    "print(animal) ## This has not been assigned yet, so it will create a NameError!\n",
    "\n",
    "for animal in pets:\n",
    "    print(animal)"
   ]
  },
  {
   "cell_type": "markdown",
   "id": "9eadefdf",
   "metadata": {},
   "source": [
    "Similarly, if `pet` was a variable we had created before the loop, it will be overwritten by the loop's assignment."
   ]
  },
  {
   "cell_type": "code",
   "execution_count": 7,
   "id": "cc4e7adc",
   "metadata": {
    "tags": [
     "hide-output"
    ]
   },
   "outputs": [
    {
     "name": "stdout",
     "output_type": "stream",
     "text": [
      "hamster\n",
      "Pets are nice.\n",
      "Pets are nice.\n",
      "Pets are nice.\n",
      "Pets are nice.\n",
      "Pets are nice.\n",
      "birds\n"
     ]
    }
   ],
   "source": [
    "pet = \"hamster\"\n",
    "print(pet)\n",
    "\n",
    "for pet in list_of_pets:\n",
    "    print(\"Pets are nice.\")\n",
    "    \n",
    "print(pet)"
   ]
  },
  {
   "cell_type": "markdown",
   "id": "08248a8e",
   "metadata": {},
   "source": [
    "This means that we should make sure to use a distinct name for this iteration variable from previous variables. \n",
    "\n",
    "Also, you can note from the previous example that this variable persists after the loop and retains the value of the last assignment in the loop.  We'll see shortly that this is useful if you want to loop until a condition is met, after which you might want to keep the value of the iterator.  For example, if you want to know how many iterations it takes before some sort of calculation converges, you could use the value of the iteration variable."
   ]
  },
  {
   "cell_type": "markdown",
   "id": "5cd8047d",
   "metadata": {},
   "source": [
    "#### Using a counter\n",
    "\n",
    "It's worth noting that just because we have this iteration variable doesn't mean we have to use it.  It's relatively common to want to keep an external counter or incrementer to keep track of different things in the loop.  We can easily do this by initializing a variable before the loop and then incrementing (or decrementing) it in each loop iteration (or loop iterations that meet some criteria). As an example:"
   ]
  },
  {
   "cell_type": "code",
   "execution_count": 9,
   "id": "bf9c25bd",
   "metadata": {
    "tags": [
     "hide-output"
    ]
   },
   "outputs": [
    {
     "name": "stdout",
     "output_type": "stream",
     "text": [
      "The counter variable counted 5 iterations!\n"
     ]
    }
   ],
   "source": [
    "counter_var = 0 ## Initialize our counter at some value, here 0.\n",
    "\n",
    "for itr in range(len(list_of_pets)):\n",
    "    counter_var = counter_var + 1\n",
    "    \n",
    "print(f\"The counter variable counted {counter_var} iterations!\")"
   ]
  },
  {
   "cell_type": "markdown",
   "id": "4d9d1f2e",
   "metadata": {},
   "source": [
    "#### Using the iterable in a loop\n",
    "\n",
    "Another useful note is that we can still make use of the iterable variable inside the loop. We can even reassign its value, although this can have surprising results if you change the length of the iterable."
   ]
  },
  {
   "cell_type": "code",
   "execution_count": 10,
   "id": "dc8d0afd",
   "metadata": {
    "tags": [
     "hide-output"
    ]
   },
   "outputs": [
    {
     "name": "stdout",
     "output_type": "stream",
     "text": [
      "['dogs', 'cats', 'iguanas', 'rabbits', 'birds']\n",
      "['dogs', 'cats', 'iguanas', 'rabbits', 'birds']\n",
      "['dogs', 'cats', 'iguanas', 'rabbits', 'birds']\n",
      "['dogs', 'cats', 'iguanas', 'rabbits', 'birds']\n",
      "['dogs', 'cats', 'iguanas', 'rabbits', 'birds']\n"
     ]
    }
   ],
   "source": [
    "for pet in list_of_pets:\n",
    "    print(list_of_pets)"
   ]
  },
  {
   "cell_type": "code",
   "execution_count": 14,
   "id": "ca4667fe",
   "metadata": {
    "tags": [
     "hide-output"
    ]
   },
   "outputs": [
    {
     "name": "stdout",
     "output_type": "stream",
     "text": [
      "['dogs', 'cats']\n"
     ]
    }
   ],
   "source": [
    "list_of_pets = ['dogs', 'cats', 'iguanas', 'rabbits', 'birds']\n",
    "\n",
    "for pet in list_of_pets:\n",
    "    last_animal = list_of_pets.pop()\n",
    "    \n",
    "print(list_of_pets)"
   ]
  },
  {
   "cell_type": "markdown",
   "id": "051f350c",
   "metadata": {},
   "source": [
    "### Exercise 4.1\n",
    "\n",
    "1. Make a list of names, and use a loop to print out each name sequentially. Use some basic string formatting to make the output look nice.\n",
    "2. Use a counter variable (or any other method) in the previous example to determine how many iterations the loop executed. Can you explain what happened to `list_of_pets` in this loop?"
   ]
  },
  {
   "cell_type": "markdown",
   "id": "2f1aa2a2",
   "metadata": {},
   "source": [
    "## Looping with indices\n",
    "\n",
    "In the previous examples, we made use of the iteration variable in order to walk through the elements of a list (iterable), but the reason that the `range` function is so useful is because it provides a natural **index** with which we can access elements of a list or array via **slicing** as discussed in the [previous section](../03_Lists_Arrays/03_Lists_Arrays_Notebook).  As an example:"
   ]
  },
  {
   "cell_type": "code",
   "execution_count": 15,
   "id": "471d0cb5",
   "metadata": {
    "tags": [
     "hide-output"
    ]
   },
   "outputs": [
    {
     "name": "stdout",
     "output_type": "stream",
     "text": [
      "At index 0 the list contains dogs.\n",
      "At index 1 the list contains cats.\n",
      "At index 2 the list contains iguanas.\n",
      "At index 3 the list contains rabbits.\n",
      "At index 4 the list contains birds.\n"
     ]
    }
   ],
   "source": [
    "list_of_pets = ['dogs', 'cats', 'iguanas', 'rabbits', 'birds']\n",
    "\n",
    "for index in range(len(list_of_pets)):\n",
    "    element = list_of_pets[index]\n",
    "    print(f\"At index {index} the list contains {element}.\")"
   ]
  },
  {
   "cell_type": "markdown",
   "id": "f99b7872",
   "metadata": {},
   "source": [
    "We can also access elements of arrays by index:"
   ]
  },
  {
   "cell_type": "code",
   "execution_count": 16,
   "id": "f80be463",
   "metadata": {
    "tags": [
     "hide-output"
    ]
   },
   "outputs": [
    {
     "name": "stdout",
     "output_type": "stream",
     "text": [
      "[[ 0  1  2  3  4]\n",
      " [ 5  6  7  8  9]\n",
      " [10 11 12 13 14]\n",
      " [15 16 17 18 19]]\n",
      "This is row 0: [0 1 2 3 4]\n",
      "This is row 1: [5 6 7 8 9]\n",
      "This is row 2: [10 11 12 13 14]\n",
      "This is row 3: [15 16 17 18 19]\n"
     ]
    }
   ],
   "source": [
    "myarray = np.arange(20)  ## What does this function do?\n",
    "myarray = myarray.reshape(4, 5)\n",
    "print(myarray)\n",
    "\n",
    "for ii in range(4):\n",
    "    print(\"This is row {}:\".format(ii), myarray[ii])\n"
   ]
  },
  {
   "cell_type": "markdown",
   "id": "b10d7293",
   "metadata": {},
   "source": []
  }
 ],
 "metadata": {
  "celltoolbar": "Tags",
  "kernelspec": {
   "display_name": "Python 3 (ipykernel)",
   "language": "python",
   "name": "python3"
  },
  "language_info": {
   "codemirror_mode": {
    "name": "ipython",
    "version": 3
   },
   "file_extension": ".py",
   "mimetype": "text/x-python",
   "name": "python",
   "nbconvert_exporter": "python",
   "pygments_lexer": "ipython3",
   "version": "3.11.0"
  }
 },
 "nbformat": 4,
 "nbformat_minor": 5
}
