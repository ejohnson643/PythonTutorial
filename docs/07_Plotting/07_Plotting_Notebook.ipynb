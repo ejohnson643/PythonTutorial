{
 "cells": [
  {
   "cell_type": "code",
   "execution_count": 2,
   "id": "b160093a",
   "metadata": {},
   "outputs": [],
   "source": [
    "import numpy as np ## It's good practice to put your imports right at the top!"
   ]
  },
  {
   "cell_type": "markdown",
   "id": "5114cb96",
   "metadata": {},
   "source": [
    "# Visualizing data with Python\n",
    "\n",
    "```{admonition} Follow along!\n",
    "Remember that to best make use of this tutorial, it is highly recommended that you [make your own notebook](https://jupyter-notebook-beginner-guide.readthedocs.io/en/latest/execute.html) and **type every piece of code** yourself!\n",
    "```\n",
    "\n",
    "At this point in the tutorial, you should now be familiar with Python [variables and data types](../02_Variables_DataTypes/02_Variables_DataTypes_Notebook), [lists and Numpy arrays](../03_Lists_Arrays/03_Lists_Arrays_Notebook), basic Python structures like [loops](../04_Loops/04_Loops_Notebook) and [conditional expressions](../05_ConditionalStatements/05_ConditionalStatements_Notebook), and how to combine all these pieces into [functions](06_Functions/06_Functions_Notebook) that you can use yourself! In this section, we're going to learn how to make use of these functionalities and some new packages in order to generate **visualizations** of data.\n",
    "\n",
    "Specifically, I want to introduce you to the [Matplotlib](https://matplotlib.org/) and [Seaborn](https://seaborn.pydata.org/) packages for generating pleasant visualizations in Python.  It's worth noting that there are other plotting packages, notably [Plotly](https://plotly.com/graphing-libraries/) and [Bokeh](https://bokeh.org/), but after 10+ years of Python coding, I have found that the combination of Matplotlib's low-level control and Seaborn's high-level styling makes perfectly decent visualizations. I use these methods to generate figures both for my own quick analyses and for [publication](https://github.com/ejohnson643/EMBEDR).\n",
    "\n",
    "Situating this section in the larger tutorial, we can see this as an extension of our practice of constantly using `print` to *look* at our variables. As we start working with data, which usually consist of more than a few pieces of information, it is going to be increasingly important to use plotting in order to *see* the information at hand.  Furthermore, if you continue working with data, you will need to practice communicating your results and convincing people of their validity, which can most effectively be done by creating clear and precise visualizations."
   ]
  },
  {
   "cell_type": "markdown",
   "id": "0f6ce902",
   "metadata": {},
   "source": [
    "## Matplotlib\n",
    "\n",
    "The first package that we'll learn about for visualizing data is the [Matplotlib](https://matplotlib.org/) package.  This is a *low-level* plotting package and is probably the most widely-used data visualization package in Python. In this tutorial, we'll demonstrate the basic usage of this package and some common tips and tricks, but the entire package is vast, so we'll leave [more comprehensive instructions](https://matplotlib.org/stable/tutorials/index.html) to others.  Thankfully, because of its wide-usage, there are often examples on [stackoverflow.com](https://stackoverflow.com/) or you can peruse Matplotlib's [own examples](https://matplotlib.org/stable/gallery/index.html).\n",
    "\n",
    "To get started, we'll import the main plotting module, `pyplot`, and we can add the following to our module loading cell at the top of the notebook going forward:"
   ]
  },
  {
   "cell_type": "code",
   "execution_count": 3,
   "id": "9e932c2f",
   "metadata": {},
   "outputs": [],
   "source": [
    "import matplotlib.pyplot as plt  ## It's become customary to use the plt abbreviation for Matplotlib\n",
    "%matplotlib inline"
   ]
  },
  {
   "cell_type": "markdown",
   "id": "0d1ec497",
   "metadata": {},
   "source": [
    "As a reminder, the `import` statement is where we tell Python that it should add these functions to the current working environment, but the `%` syntax might be new to you.  The `%matplotlib inline` is an example of a [Jupyter \"magic\" command](https://ipython.readthedocs.io/en/stable/interactive/magics.html), which is a "
   ]
  }
 ],
 "metadata": {
  "kernelspec": {
   "display_name": "Python 3 (ipykernel)",
   "language": "python",
   "name": "python3"
  },
  "language_info": {
   "codemirror_mode": {
    "name": "ipython",
    "version": 3
   },
   "file_extension": ".py",
   "mimetype": "text/x-python",
   "name": "python",
   "nbconvert_exporter": "python",
   "pygments_lexer": "ipython3",
   "version": "3.11.0"
  }
 },
 "nbformat": 4,
 "nbformat_minor": 5
}
