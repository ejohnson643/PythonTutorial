{
 "cells": [
  {
   "cell_type": "markdown",
   "id": "7162ebe9-12e4-400e-802c-5e71944c0aca",
   "metadata": {},
   "source": [
    "# Lists and Arrays\n",
    "\n",
    "In the previous section, we discussed working with variables that contained a single string/integer/number and how to check their type and convert them from one type to another.  While this was maybe interesting, real modern data is \"big\", so we need to be able to deal with *collections* of data and not just one number at a time.  Thankfully, this is where Python has a native [`list`](https://docs.python.org/3/library/stdtypes.html#typesseq-list) type and where we'll introduce the extremely useful [numpy](https://www.numpy.org) array, (`numpy.ndarray`) to handle many data points.\n",
    "\n",
    "These data types are similar to those you just learned about except that now we have to worry about *where* our data is and not just *what* it is.  For example, if you have loaded into a variable the air temperature of Evanston, Illinois for the last 100 years, you might want to do an analysis of just the summer highs over time, so how do you access just those data points?  Alternately, you might be attempting to train a weather model, so you want to predict each time point based on the previous one in time, so how do you access elements in sequence?  These are the general techniques we'll explore in this section.  The upcoming section on [loops](../04_Loops/04_Loops) will teach you how to apply operations and functions iteratively and in sequences (as in our time-series hypothetical), and the section on [conditional statements](../05_ConditionalStatements/05_ConditionalStatements) will give you the tools to select elements conditionally, so that you can only look at summer months, for example.  However, before we can use those techniques, we need to familiarize ourselves with the basics of lists and arrays in Python.\n",
    "\n",
    "Please open a new Jupyter notebook and follow along by **copying** all Python commands!"
   ]
  },
  {
   "cell_type": "markdown",
   "id": "47973818-52de-44ed-85e8-8287433ea4b2",
   "metadata": {},
   "source": [
    "## Lists\n",
    "\n",
    "The Python [`list`](https://docs.python.org/3/library/stdtypes.html#typesseq-list) is one of the most flexible data structures in any programming language.  Most simply, a list operates as an **ordered** container of other variables, regardless of their type.  We'll see shortly that Python lists can be appended to, iterated over, and edited.  Their **elements**, or list entries, can be accessed with **indices**, and we'll see later that we can easily apply functions to all elements of a list with **list comprehensions**.  Simply put, if you only had Python lists to work with, you could probably get most computational tasks accomplished.\n",
    "\n",
    "Most simply, we indicate a Python list using square brackets, `[]`.  When entering a list manually, we separate elements with commas, as shown below."
   ]
  },
  {
   "cell_type": "code",
   "execution_count": null,
   "id": "a951040a-8093-44bf-9640-0a6df886cd77",
   "metadata": {
    "tags": [
     "hide-output"
    ]
   },
   "outputs": [],
   "source": [
    "list1 = ['abcd', 1, 3.1415, False]\n",
    "print(list1)\n",
    "print(type(list1))"
   ]
  },
  {
   "cell_type": "markdown",
   "id": "727eabdb-901f-4d4e-b93c-43c131ab53a3",
   "metadata": {},
   "source": [
    "The above list contains a string, integer, float, and boolean data point in turn, but the variable `list1` is type [`list`](https://docs.python.org/3/library/stdtypes.html#typesseq-list).  \n",
    "\n",
    "There isn't any restriction on what can be put in lists, so we're free to do things like:"
   ]
  },
  {
   "cell_type": "code",
   "execution_count": null,
   "id": "6d3e5a97-6dca-4645-ab18-ed5bf93fdf0d",
   "metadata": {
    "tags": [
     "hide-output"
    ]
   },
   "outputs": [],
   "source": [
    "crazy_list = ['abcd', [12, 4, 'no'], ['yes', [True, 'unique element']], 'False', False]\n",
    "print(crazy_list)\n",
    "\n",
    "empty_list = []\n",
    "print(empty_list)\n",
    "\n",
    "all_lists = [list1, crazy_list, empty_list]\n",
    "print(all_lists)"
   ]
  },
  {
   "cell_type": "markdown",
   "id": "ee002abd-7151-4624-a889-181da73e70ad",
   "metadata": {},
   "source": [
    "That is, we can have nested lists inside of lists!"
   ]
  },
  {
   "cell_type": "markdown",
   "id": "bf42650d-f175-4e83-972d-b0af3f9e2625",
   "metadata": {},
   "source": [
    "### Accessing List Elements\n",
    "\n",
    "Of course, creating lists is all great and good, but once we've collected data, we need to be able to pull it back out.  To do this we use **indices**, which are just integers that indicate which element of the list we'd like to access, where the first element of a list is indicated by a **0**, the second by a 1, the third by a 2, and so on.  Specifically, we put these indices again into a square bracket notation as shown below:"
   ]
  },
  {
   "cell_type": "code",
   "execution_count": null,
   "id": "5b5443ba-0e78-42ad-b137-d6a148228145",
   "metadata": {
    "tags": [
     "hide-output"
    ]
   },
   "outputs": [],
   "source": [
    "animals = ['dogs', 'cats', 'birds']\n",
    "first_animal = animals[0]  ## This is the SYNTAX for the FIRST ELEMENT\n",
    "second_animal = animals[1] ## This is the SYNTAX for the SECOND ELEMENT\n",
    "print(animals)\n",
    "print(first_animal)\n",
    "print(second_animal)"
   ]
  },
  {
   "cell_type": "markdown",
   "id": "0c74f5ec-0224-4b3c-8b68-c24bd77d8361",
   "metadata": {},
   "source": [
    "````{margin}\n",
    "```{admonition} Zero-Indexing\n",
    "Programming languages often either [start counting](https://en.wikipedia.org/wiki/Comparison_of_programming_languages_(array)) at 0 or 1.  **Python starts at 0.**  This is just something to get used to compared to MATLAB and Fortran (1-indexed) or C and Perl (zero-indexed).\n",
    "```\n",
    "````\n",
    "\n",
    "So we use the syntax `list[index]` to grab the `index+1`th element from the list.  This applies regardless of what type the list element is, for example"
   ]
  },
  {
   "cell_type": "code",
   "execution_count": null,
   "id": "7d45d9e1-dcef-4d20-b8db-727b787d1f54",
   "metadata": {
    "tags": [
     "hide-output"
    ]
   },
   "outputs": [],
   "source": [
    "third_crazy_element = crazy_list[2]\n",
    "print(third_crazy_element)\n",
    "\n",
    "second_third_crazy_element = third_crazy_element[1]\n",
    "print(second_third_crazy_element)\n",
    "\n",
    "second_second_third_crazy_element = second_third_crazy_element[1]\n",
    "print(second_second_third_crazy_element)\n",
    "\n",
    "other_element = crazy_list[2][1][1]  ## What's happening here!?\n",
    "print(other_element)"
   ]
  },
  {
   "cell_type": "markdown",
   "id": "047aab51-b0c2-4c53-aba5-b1c5b36ea6ca",
   "metadata": {},
   "source": [
    "Each of the elements was a list, so we could continue asking for indices.  (If I'd added another layer you could have asked for the [fifth element](https://www.imdb.com/title/tt0119116/).)  The last line, which defines `other_element` shows how we can chain together index requests into nested lists.  This should not be super obvious, but as we'll continue, we'll see how Python commands can often be concatenated into one-liners like above.\n",
    "\n",
    "There are then some caveats to this.  In Python, you cannot ask for an element at an index that does not exist.  Consider the following example:"
   ]
  },
  {
   "cell_type": "code",
   "execution_count": null,
   "id": "77fa2e78-0fc4-4d45-ba70-b32d05f1d7dc",
   "metadata": {
    "tags": [
     "raises-exception"
    ]
   },
   "outputs": [],
   "source": [
    "tenth_animal = animals[9]  ## Index 9 is asking for the TENTH element"
   ]
  },
  {
   "cell_type": "markdown",
   "id": "99ce9313-80f9-4542-8844-a9c30ac71160",
   "metadata": {},
   "source": [
    "This should result in an `IndexError: list index out of range` because the index you asked for, 9, was beyond the range of this 3-element list.  (There is no 10th element to return!)\n",
    "\n",
    "Lists are often flexible and we don't always know their length, so we can use the :[`len`](https://docs.python.org/3/library/functions.html#len) function to return the number of elements in a list."
   ]
  },
  {
   "cell_type": "code",
   "execution_count": null,
   "id": "0a357baa-4878-44f9-a423-f8e1c2cb6a92",
   "metadata": {
    "tags": [
     "hide-output"
    ]
   },
   "outputs": [],
   "source": [
    "third_crazy_element = crazy_list[2]\n",
    "print(f\"The length of the third element is {len(third_crazy_element)}\")\n",
    "\n",
    "second_third_crazy_element = third_crazy_element[1]\n",
    "print(f\"The length of the second-third element is {len(second_third_crazy_element)}\")\n",
    "\n",
    "## Write down your prediction before running!\n",
    "# second_second_third_crazy_element = second_third_crazy_element[1]\n",
    "# print(f\"The length of the second-second-third element is {len(second_second_third_crazy_element)}\")"
   ]
  },
  {
   "cell_type": "markdown",
   "id": "7d2efe4b-9a7d-4be0-b392-ef0e603c5edd",
   "metadata": {},
   "source": [
    "This also offers an easy way to access the last element in a list:"
   ]
  },
  {
   "cell_type": "code",
   "execution_count": null,
   "id": "5ddd5574-325f-4321-92af-68744776c550",
   "metadata": {
    "tags": [
     "hide-output"
    ]
   },
   "outputs": [],
   "source": [
    "longer_list = ['a', 'b', 'c', 'd', 'e', 1, 2, 3]\n",
    "\n",
    "len_list = len(longer_list)\n",
    "\n",
    "## Guess which one will work before uncommenting!\n",
    "# last_element = longer_list[len_list]\n",
    "# last_element = longer_list[len_list - 1]\n",
    "print(last_element)"
   ]
  },
  {
   "cell_type": "markdown",
   "id": "2788eb9f-8f9f-46ef-8806-68a11a6bbd82",
   "metadata": {},
   "source": [
    "However, Python also supports **negative indexing** where entering negative integers counts from the *end* of the list to the front.  "
   ]
  },
  {
   "cell_type": "code",
   "execution_count": null,
   "id": "a4e3e23c-fec3-460b-828d-27a4fef31a01",
   "metadata": {
    "tags": [
     "hide-output",
     "raises-exception"
    ]
   },
   "outputs": [],
   "source": [
    "last_el = longer_list[-1]\n",
    "second_to_last_el = longer_list[-2]\n",
    "\n",
    "print(last_el)\n",
    "print(second_to_last_el)\n",
    "\n",
    "print(longer_list[-20])  ## Does this work!?"
   ]
  },
  {
   "cell_type": "markdown",
   "id": "13f0d849-5de4-4b7b-9b9a-8b028230ac37",
   "metadata": {},
   "source": [
    "Most importantly we can also access list elements via **slicing**; we can ask for a \"slice\" of the list using the `list[start:end:increment]` notation, which gives elements starting at index `start`, up to **but not including** `end`, in steps of size `increment`.  For example, consider"
   ]
  },
  {
   "cell_type": "code",
   "execution_count": null,
   "id": "3ba7b97b-4045-491c-b9ac-3b2e46fbc9d5",
   "metadata": {
    "tags": [
     "hide-output"
    ]
   },
   "outputs": [],
   "source": [
    "print(longer_list[::2]) # This grabs every other element starting at 0\n",
    "print(longer_list[1::2]) # This grabs every other element starting at 1\n",
    "print(longer_list[0:6:3]) # Every third element starting at 0, ending at 6"
   ]
  },
  {
   "cell_type": "markdown",
   "id": "02b4251b-6bd7-4b22-b581-4dc02a6e6b66",
   "metadata": {},
   "source": [
    "This might seem confusing, or really simple, but having a strong grasp of indexing is *essential* to coding in Python, so please take the time to complete the following exercises:"
   ]
  },
  {
   "cell_type": "markdown",
   "id": "7ed3a78f-a04e-4b42-be0d-af83cf0d9a7a",
   "metadata": {},
   "source": [
    "### Exercise 4.1\n",
    "\n",
    "1. Make a list containing the integers 1 through 13 and the first 8 letters of the English alphabet.  Save into new variables the:\n",
    "    1. First 5 elements of the list\n",
    "    2. The last 12 elements of the list\n",
    "    3. The odd-indexed elements of the list\n",
    "    4. Every other even-indexed element of the list\n",
    "\n",
    "2. Put the names of yourself and three friends into a list called `names` and put your corresponding favorite colors into `colors`.  Confirm that these lists have the same length using the `len` function and an appropriately formatted print statement.  Define a variable `idx = 0` and write a print statement that prints out you and your friends' names and corresponding favorite colors by accessing `names[idx]` and `colors[idx]`.  Copy and paste this printing code four times and insert `idx = idx + 1` in between each print.  Can you describe each of you and your friends' favorite colors in turn?\n",
    "\n",
    "3. Create several variables containing an integer, boolean, string, and list data type in turn.  Print the result of applying the :py:func:`list` function to them in turn.\n",
    "\n",
    "4. Consider the following code and explain the output in the context of what you know about boolean variables."
   ]
  },
  {
   "cell_type": "code",
   "execution_count": null,
   "id": "37e8b02c-4d98-4060-bc60-26f789ea9c76",
   "metadata": {
    "tags": [
     "remove-output"
    ]
   },
   "outputs": [],
   "source": [
    "print(bool([True]))\n",
    "print(bool(['True']))\n",
    "print(bool(['False']))\n",
    "print(bool([False]))\n",
    "print(bool([False, False, False]))\n",
    "print(bool([]))"
   ]
  },
  {
   "cell_type": "markdown",
   "id": "75415af5-0dd2-4ebd-b220-aa6975b61a03",
   "metadata": {},
   "source": [
    "### Modifying Lists\n",
    "\n",
    "Now that you can access list elements, it's important to note that lists are [mutable](https://medium.com/@meghamohan/mutable-and-immutable-side-of-python-c2145cf72747#) data types in that they can be changed (mutated).  That is, once we've defined a variable as a list, we can come back, after the fact, and edit the elements, size, and structure of the list.  This is not always the case with data structures, so it's worth point out.  There are many ways to modify lists in Python, and I'll point out the most useful here.\n",
    "\n",
    "#### Modifying Elements\n",
    "\n",
    "Consider our earlier `crazy_list`.  We can always change any specific element by directing an assignment operation at it.  For example:"
   ]
  },
  {
   "cell_type": "code",
   "execution_count": null,
   "id": "e0d1b520-e78d-4ef1-9714-62fe15df77e3",
   "metadata": {
    "tags": [
     "hide-output"
    ]
   },
   "outputs": [],
   "source": [
    "print(crazy_list)\n",
    "best_list_element = crazy_list[2]\n",
    "print(best_list_element)\n",
    "crazy_list[2] = 4\n",
    "print(crazy_list)\n",
    "print(crazy_list[2])"
   ]
  },
  {
   "cell_type": "markdown",
   "id": "6f1d1a1f-c6d6-49d1-8a40-42ce0005a390",
   "metadata": {},
   "source": [
    "We see that we've changed the 3rd element of crazy list from `best_list_element = ['yes', [True, 'unique element']]` to `4`."
   ]
  },
  {
   "cell_type": "markdown",
   "id": "2e294e53-fae9-47ef-99cb-4dd31acccb6d",
   "metadata": {},
   "source": [
    "#### Adding Elements\n",
    "\n",
    "Elements can be added to lists in several ways.  First of all, we can concatenate lists with the `+` operation:"
   ]
  },
  {
   "cell_type": "code",
   "execution_count": null,
   "id": "26faa33d-ab95-4814-a86e-191356fae0ad",
   "metadata": {},
   "outputs": [],
   "source": [
    "some_animals = ['dog', 'cat', 'gerbil']\n",
    "other_animals = ['iguana', 'flying squirrel', 'parakeet']\n",
    "print(some_animals)\n",
    "print(other_animals)\n",
    "\n",
    "many_animals = some_animals + other_animals\n",
    "print(many_animals)"
   ]
  },
  {
   "cell_type": "markdown",
   "id": "56667077-5f63-4742-8384-200c9144e152",
   "metadata": {},
   "source": [
    "But we can also use the [`list.append`](https://docs.python.org/3/tutorial/datastructures.html) and `list.insert` methods to add elements to either the end or a specific index of a list, respectively."
   ]
  },
  {
   "cell_type": "code",
   "execution_count": null,
   "id": "ab1514f5-f562-414a-b1e2-2fc3054f6d81",
   "metadata": {
    "tags": [
     "hide-output"
    ]
   },
   "outputs": [],
   "source": [
    "many_animals.append('chinchilla')\n",
    "print(many_animals)\n",
    "\n",
    "many_animals.insert(2, 'turtle')\n",
    "print(many_animals)\n",
    "\n",
    "many_animals.insert(2, 'tortoise')\n",
    "print(many_animals)"
   ]
  },
  {
   "cell_type": "markdown",
   "id": "0a4059aa-6295-420f-93f8-69646d2b2572",
   "metadata": {},
   "source": [
    "Additionally, we can multiply lists using the `*` operator as with strings.  Try `print(4*many_animals)` and `print(24*[True, 0])` and see what happens!"
   ]
  },
  {
   "cell_type": "markdown",
   "id": "184191a7-033d-4555-baac-69d6bdc60dc2",
   "metadata": {},
   "source": [
    "#### Removing Elements\n",
    "\n",
    "Similarly, we can remove elements from either the end or a specific index of a list using `list.pop`."
   ]
  },
  {
   "cell_type": "code",
   "execution_count": null,
   "id": "f61d5865-a574-46b5-af89-e0d6fcee019e",
   "metadata": {
    "tags": [
     "hide-output"
    ]
   },
   "outputs": [],
   "source": [
    "last_animal = many_animals.pop()\n",
    "print(last_animal)\n",
    "print(many_animals)\n",
    "\n",
    "middle_animal = many_animals.pop(3)\n",
    "print(middle_animal)\n",
    "print(many_animals)"
   ]
  },
  {
   "cell_type": "markdown",
   "id": "ec0a9b9c-9959-470e-99b9-bfc9660e1708",
   "metadata": {},
   "source": [
    "Notice that the `list.pop` function can save the removed value into a variable.  This can be useful if you need to iterate through a list and use each element for something one time.\n",
    "\n",
    "You can also use the `list.remove` function to remove elements *by value*.  That is, we can remove the *first* instance of a specific value with `list.remove`."
   ]
  },
  {
   "cell_type": "code",
   "execution_count": null,
   "id": "076ea557-17da-4af6-b6d3-b637a4e4e369",
   "metadata": {
    "tags": [
     "hide-output"
    ]
   },
   "outputs": [],
   "source": [
    "many_animals.insert(2, 'turtle')\n",
    "many_animals.insert(-1, 'turtle')\n",
    "many_animals.insert(0, 'turtle')\n",
    "\n",
    "print(many_animals)\n",
    "\n",
    "many_animals.remove('turtle')\n",
    "print(many_animals)\n",
    "many_animals.remove('turtle')\n",
    "print(many_animals)\n",
    "many_animals.remove('turtle')\n",
    "print(many_animals)"
   ]
  },
  {
   "cell_type": "markdown",
   "id": "bbb307c3-b176-4f0e-9ac4-33749e99a35a",
   "metadata": {},
   "source": [
    "#### Copying Lists\n",
    "\n",
    "In previous examples we have done things like `x = y` to copy values to multiple variables with impunity.  Unfortunately we can't continue this with lists.  To see why, consider the following:"
   ]
  },
  {
   "cell_type": "code",
   "execution_count": null,
   "id": "fa0b5b0e-088b-44de-963f-211f0171f6d3",
   "metadata": {
    "tags": [
     "hide-output"
    ]
   },
   "outputs": [],
   "source": [
    "print(many_animals)\n",
    "copied_list = many_animals\n",
    "\n",
    "copied_list[4] = 'tiger'\n",
    "print(copied_list)\n",
    "print(many_animals)  ## This list has a tiger in it now!"
   ]
  },
  {
   "cell_type": "markdown",
   "id": "2fb0226d-e8dc-4816-a1bf-07644256aced",
   "metadata": {},
   "source": [
    "We can see that the `copied_list` wasn't just a copy because modifying it also changed the original list, `many_animals`.  This is because in Python, variables don't actually *contain* the data we've assigned them to, instead they *point* to that data in the computer's storage.  So when we type `copied_list = many_animals`, we're just telling Python that *both* `copied_list` and `many_animals` should direct to the same data in storage.\n",
    "\n",
    "This may seem like an odd point to make, but this is an insidious problem to encounter because it will raise no error messages, but data that you don't expect to change might be modified if you don't copy lists correctly.  The easiest way to truly create a *new* copy of data is to use the `copy = old[:]` syntax, where the `[:]` simply says \"create a slice of everything,\" which Python dutifully places in an actually new list (a new part of your computer's storage is allocated)."
   ]
  },
  {
   "cell_type": "markdown",
   "id": "fcc6e8e2-b65d-4a98-840a-8e83220814c8",
   "metadata": {},
   "source": [
    "### Other List Information\n",
    "\n",
    "There are several other useful things you can do with lists that we'll discuss below.  You should not worry about memorizing these, just try to keep in mind that these sort of things can be done with lists.\n",
    "\n",
    "#### The `list` Function\n",
    "\n",
    "Just as we saw with [other data types](../02_Variables_DataTypes/02_Variables_DataTypes), we can attempt to convert variables into a list with the `list` function.  For some data types, this will simply add a pair of square brackets around your data, but for other data types that you'll eventually learn about, such as arrays, this type conversion can be more signficant.  In particular, Python thinks of lists as *collections* of stuff so for some data types that can't really be thought of that way, like a single integer or float, `list` will throw a `TypeError` as you'll see below.  Try out the code below to see how this works."
   ]
  },
  {
   "cell_type": "code",
   "execution_count": null,
   "id": "42ef0908-a975-4ef1-b096-8b818d0e4c73",
   "metadata": {
    "tags": [
     "hide-output",
     "raises-exception"
    ]
   },
   "outputs": [],
   "source": [
    "my_str = \"the quick brown fox\"\n",
    "my_int = 6543\n",
    "my_float = 65.43\n",
    "my_bool = True or False\n",
    "\n",
    "print(list(my_str))  ## What happened here!?\n",
    "## What errors do these lines create?\n",
    "# print(list(my_int))  \n",
    "# print(list(my_float))\n",
    "# print(list(my_bool))\n",
    "\n",
    "## What about this?\n",
    "# print([my_int])\n",
    "# print(type([my_int]))\n",
    "# print(list([my_int]))\n",
    "# print(type(list([my_int])))"
   ]
  },
  {
   "cell_type": "markdown",
   "id": "45686809-7817-413f-be7c-fcffef0d1e01",
   "metadata": {},
   "source": [
    "#### Lists have Length\n",
    "\n",
    "We've already mentioned this, but it can be very useful to know how many elements are in your lists.  This is done via the `len` like this:"
   ]
  },
  {
   "cell_type": "code",
   "execution_count": null,
   "id": "3d8598ef-4c55-41ee-956c-3100801330df",
   "metadata": {
    "tags": [
     "hide-output"
    ]
   },
   "outputs": [],
   "source": [
    "my_list = ['a', 1234, 'list_element', True, True, 4+6]\n",
    "list_len = len(my_list)\n",
    "print(f\"There are {list_len} elements in 'my_list'\")"
   ]
  },
  {
   "cell_type": "markdown",
   "id": "772b4571-cecd-4776-9e3c-c5017698c4c6",
   "metadata": {},
   "source": [
    "We can see that the `len` function returns the number of elements in a list.  This may seem simple, but it can be very useful in many contexts.\n",
    "\n",
    "We'll see that this output is always a non-negative integer, where we can get a length of 0 by asking for the length of an [empty list](https://stackoverflow.com/questions/2972212/creating-an-empty-list-in-python) like so:"
   ]
  },
  {
   "cell_type": "code",
   "execution_count": null,
   "id": "13d6b16f-d37d-463e-a850-50ef8725631e",
   "metadata": {},
   "outputs": [],
   "source": [
    "empty_list = []  ## Square brackets with nothing in between!\n",
    "print(\"This is an empty list:\", empty_list)\n",
    "\n",
    "zero_length = len(empty_list)\n",
    "print(f\"The length of the empty list is {zero_length}\")"
   ]
  },
  {
   "cell_type": "markdown",
   "id": "443af877-94d3-488d-ac34-8adb1b529226",
   "metadata": {},
   "source": [
    "We'll use this frequently in the [section on loops](../04_Loops/04_Loops) to *intialize* code that will be repeated many times, using the `list.append` function, for example, to fill the list with useful calculations."
   ]
  },
  {
   "cell_type": "markdown",
   "id": "aa4c0ca6-b5d2-489e-9349-b4521194f4bf",
   "metadata": {},
   "source": [
    "#### The Range Function\n",
    "\n",
    "We'll talk in a moment about a bunch of useful list functions, but the [`range`](https://docs.python.org/3/library/functions.html#func-range) function is too useful to not highlight specifically.  The `range` function can be used to make collections of integers to cover a specific range (hence the name).  We can use the `list` type conversion function to return a list of these numbers.  Try out the example below and use `help(range)` to read the documentation."
   ]
  },
  {
   "cell_type": "code",
   "execution_count": null,
   "id": "24387dfe-5d11-46c8-9071-a3bbec627c84",
   "metadata": {
    "tags": [
     "hide-output",
     "raises-exception"
    ]
   },
   "outputs": [],
   "source": [
    "start, stop, step = 0, 10, 2\n",
    "my_range1 = range(start, stop, step)\n",
    "print(my_range1)\n",
    "print(type(my_range1))  ## What type does 'my_range1' appear to be?\n",
    "\n",
    "## Apply the list() function:\n",
    "my_range1 = list(my_range1)  \n",
    "print(my_range1)\n",
    "print(type(my_range1))\n",
    "\n",
    "## If we don't supply a step size, it increments by 1\n",
    "print(list(range(start, stop)))\n",
    "\n",
    "## If we don't supply a starting point, it assumes 0\n",
    "print(list(range(stop)))\n",
    "\n",
    "## We can use negative step sizes\n",
    "print(list(range(stop, start, -step)))\n",
    "\n",
    "## Is 'stop'=10 in this list?\n",
    "print(list(range(10)))\n",
    "\n",
    "## What happens if we try to use a float?\n",
    "# print(list(range(10.1)))"
   ]
  },
  {
   "cell_type": "markdown",
   "id": "74dec193-6e6e-47cb-8bb1-3c782110cb0a",
   "metadata": {},
   "source": [
    "Note that range only works for integers and that the `stop` input is *excluded* from the range.\n",
    "\n",
    "This function will again be extremely useful in the [section on loops](../04_Loops/04_Loops), but having a way to get a regularly spaced range of numbers is something that could be handy in a variety of circumstances."
   ]
  },
  {
   "cell_type": "markdown",
   "id": "232db463-f710-4a22-8679-a5fbaf24ce47",
   "metadata": {},
   "source": [
    "#### Useful List Functions\n",
    "\n",
    "As a final note, I just want to highlight a few really useful list functions.\n",
    "\n",
    "If we have a list of all \"numbers\", then the :py:func:`sum`, :py:func:`max`, and :py:func:`min` functions can be very useful!  "
   ]
  },
  {
   "cell_type": "code",
   "execution_count": null,
   "id": "09044677-f68c-49a5-8a8d-1e12170d3b1f",
   "metadata": {
    "tags": [
     "hide-output"
    ]
   },
   "outputs": [],
   "source": [
    "num_list = list([3, 6.3, 8, 12.52, 4, 4, 3, True, 3, 0.1])\n",
    "list_max = max(num_list)\n",
    "list_min = min(num_list)\n",
    "list_sum = sum(num_list)\n",
    "\n",
    "print(f\"The max of 'num_list' is {list_max}\")\n",
    "print(f\"The min of 'num_list' is {list_min}\")\n",
    "print(f\"The sum of 'num_list' is {list_sum}\")"
   ]
  },
  {
   "cell_type": "markdown",
   "id": "800d747a-7ac0-4c9c-88f1-899e1f8778a6",
   "metadata": {},
   "source": [
    "We can *sort* lists using the [`sorted`](https://docs.python.org/3/library/functions.html#sorted) function or the :py:func:`list.sort` method.  The difference between these is that :py:func:`sorted` returns a *copy* of the list that is now sorted, while :py:func:`list.sort` will sort the list **in-place**.  This is somewhat important, because if the order of your original list is important, then you don't want to mess that up with a [`list.sort`](https://docs.python.org/3/library/stdtypes.html#list.sort)."
   ]
  },
  {
   "cell_type": "code",
   "execution_count": null,
   "id": "d1f7b2aa-6d70-4c57-bf3f-24edf4331d33",
   "metadata": {
    "tags": [
     "hide-output"
    ]
   },
   "outputs": [],
   "source": [
    "orig_names = ['Eric', 'Madhav', 'Bill', 'Caroline', 'Tiffany']\n",
    "names_to_sort = orig_names[:]\n",
    "\n",
    "sorted_names = sorted(names_to_sort)\n",
    "print(names_to_sort)\n",
    "print(sorted_names)\n",
    "\n",
    "names_to_sort.sort()\n",
    "print(names_to_sort)\n",
    "\n",
    "## We can reverse the sort order with the \"reverse\" keyword:\n",
    "sorted_names = sorted(names_to_sort, reverse=True)\n",
    "names_to_sort.sort(reverse=True)\n",
    "print(sorted_names)\n",
    "print(names_to_sort)"
   ]
  },
  {
   "cell_type": "markdown",
   "id": "d6410053-1e0e-4e18-8b55-05daeb8bb9cf",
   "metadata": {},
   "source": [
    "We can *count* the number of times a certain element appears in a list with the [`list.count`](https://docs.python.org/3/library/stdtypes.html#common-sequence-operations) method.  Using the `num_list` from the earlier example, we can see:"
   ]
  },
  {
   "cell_type": "code",
   "execution_count": null,
   "id": "d823ccc0-3a82-486d-aac1-8d4182c44eb5",
   "metadata": {
    "tags": [
     "hide-output"
    ]
   },
   "outputs": [],
   "source": [
    "num_3 = num_list.count(3)\n",
    "num_4 = num_list.count(4)\n",
    "num_8 = num_list.count(8)\n",
    "print(f\"There are {num_3} 3s in 'num_list'\")\n",
    "print(f\"There are {num_4} 4s in 'num_list'\")\n",
    "print(f\"There are {num_8} 8s in 'num_list'\")"
   ]
  },
  {
   "cell_type": "markdown",
   "id": "c53bf321-8389-48e8-ac86-48d73acc7e8a",
   "metadata": {},
   "source": [
    "Finally, we can check if an element exists in a list using the `in` operation.  If an element exists in the list, we can find the **index** of *the first instance* of it using the [`list.index`](https://docs.python.org/3/library/stdtypes.html#common-sequence-operations) function."
   ]
  },
  {
   "cell_type": "code",
   "execution_count": null,
   "id": "c60e2132-a399-4903-b4ca-111c030e4348",
   "metadata": {
    "tags": [
     "hide-output"
    ]
   },
   "outputs": [],
   "source": [
    "print(3 in num_list)\n",
    "print(5 in num_list)\n",
    "\n",
    "idx_3 = num_list.index(3)\n",
    "idx_5 = num_list.index(5)  ## What is the error message here?\n",
    "\n",
    "print(f\"There is a 3 in 'num_list' at index {idx_3}\")"
   ]
  },
  {
   "cell_type": "markdown",
   "id": "78058c81-14b2-4af9-9fa9-a8ede8dc281b",
   "metadata": {},
   "source": [
    "If this is your first time working with lists, don't worry about trying to memorize everything you've seen here.  Coding is a *skill* and you will remember things that you use more frequently and look up things that you don't.  I have been coding in Python for years and I constantly look up functions or syntaxes.  These notes on lists have thus been given to you as a reference and to show you the things that you *could do* with a Python list, which you *should* try and remember.  That is, you should know that there's a function for sorting lists, but it's ok if you don't remember the exact syntax off the top of your head.  For a good reference on list methods, see [python.org](https://docs.python.org/3/tutorial/datastructures.html)."
   ]
  },
  {
   "cell_type": "markdown",
   "id": "8b5fded2-0346-4fbe-9f2e-659694d85861",
   "metadata": {},
   "source": [
    "### Exercise 4.2\n",
    "\n",
    "1. Create a nested list using your `names` list from exericise 4.1.2 by placing `names` in between two square brackets.  Save this list to a variable `names_colors`.  \n",
    "    1. What is the length of this list?  What is the length of `names_colors[0]`? \n",
    "    2. Undo the extra bracketing with `names_colors = names_colors[0]`.  Set `idx=0` and use `idx` as an index to replace each element of `names_colors` with a list `[names[idx], colors[idx]]` (where `colors` is the same list from 4.1.2).  You should now have a list of lists, where each sub-list has a name and a color.\n",
    "    3. You've had a falling out and need to remove the last friend from `names_colors`.  However, at the same time, you've made two new friends!  Add one of them (and their favorite color) right after your name+color using [`list.insert`](https://docs.python.org/3/library/stdtypes.html#mutable-sequence-types).  Add the other friend to the end of `names_colors` using `list.append`.\n",
    "    4. Use `sorted` to sort `names_colors`.  How did it sort the list?  Execute the following code and try to explain what happened differently.\n",
    "    \n",
    "    ```{code-block}\n",
    "    sorted_friends = sorted(names_colors, key = lambda x: x[1])\n",
    "    ```\n",
    "\n",
    "2. Create a list containing 10 numbers of your choice.  Use the [`sum`](https://docs.python.org/3/library/functions.html#sum) and [`len`](https://docs.python.org/3/library/functions.html#range) functions to calculate the average of the list elements.  Print this result to the screen in a formatted string.\n",
    "\n",
    "3. Let's practice using the [`range`](https://docs.python.org/3/library/functions.html#range) function:\n",
    "    1. Create a list of all the integers from -12 to 8.\n",
    "    2. Create a list containing the first 10,000 even integers.\n",
    "    3. Create a list of the first 5 positive integers that are divisible by 7 as `list_of_sevens`.  Use `idx = list(range(len(list_of_sevens)))` to make a list of indices for the elements in `list_of_sevens`.  Use `ii = idx.pop()` and `list_of_sevens[ii]` several times to print out the elements in reverse order in a formatted string.\n",
    "\n",
    "4. Consider the [problem here](http://rosalind.info/problems/dna/). Save the sample DNA as a string and use string formatting to print the number of A's, C's, G's and T's to the screen.\n",
    "\n",
    "5. Convert a string containing a DNA sequence into the corresponding RNA, as indicated [here](http://rosalind.info/problems/rna/).  This process involves replacing all T's in the DNA with U's.  As a hint, consider using `list.index` or `list.replace`."
   ]
  },
  {
   "cell_type": "markdown",
   "id": "cb82dc70-57d5-414e-a240-527945addb1d",
   "metadata": {},
   "source": [
    "## Numpy Arrays\n",
    "\n",
    "Hopefully the first part of this section has convinced you that Python lists might be useful and flexible tools for holding multiple data points.  However, Python lists are sometimes *too flexible*, in allowing for the collection of arbitrary data, they lose some potentially useful functionality.  In particular, applying operations to each element in a list requires that we access each list element individually (which you will still do in the [section on loops](../04_Loops/04_Loops)), which can quickly become very slow!  To fill the need for a slightly more structured collection of data, the [numpy](https://numpy.org/) package was developed as \"The fundamental package for scientific computing in Python.\"  Going forward as a data scientist, familiarity with numpy will be essential.  \n",
    "\n",
    "Here we'll introduce you to the [`numpy.ndarray`](https://numpy.org/doc/stable/reference/generated/numpy.ndarray.html), which is the data structure we're looking for.  We'll see that this structure, informally known as a numpy **array**, trades some of the list's flexibility for functionality and speed.  But before we talk about working with numpy, let's spend a moment talking about Python **packages**."
   ]
  },
  {
   "cell_type": "markdown",
   "id": "677cca39-de7e-47de-8e14-59da0abd801a",
   "metadata": {},
   "source": [
    "### Importing Packages in Python\n",
    "\n",
    "In the [introduction](../00_Introduction/00_introduction), I noted that Python has a large, active online community of developers.  What this means is that **packages** (also called **modules**) of Python code are constantly being created and disseminated for all sorts of applications.  This is facilitated by the Python programming language via the powerful [`import`](https://realpython.com/python-import/) operation that let's a programmer \"import\" the contents of any other package on their computer into a Python code to be used.  That is, if you write a couple tools for doing some useful data analysis, you can send them to me (or put them on the internet!) and I can use `import` to give my code access to your tools.  This may sound somewhat complicated or abstract, and it can be, which is why environments like Anaconda can be especially useful.\n",
    "\n",
    "In particular, advanced projects may involve building on dozens of other people's code in many packages.  It could quickly become tedious to download and manage new packages.  To assist with this, Python installs generally include the [`pip`](https://pypi.org/project/pip/) function, or the Anaconda Navigator has the [environments](https://docs.anaconda.com/anaconda/navigator/overview/#environments-tab) tab.  As a bonus, Anaconda also includes common packages, such as numpy and matplotlib, pre-installed.  However, to install a new package using Anaconda, you can search for the package in the environments tab.  If you are not using Anaconda, follow the instructions [here](https://packaging.python.org/tutorials/installing-packages), typically the important command will be `pip install my_package`.  Again, this is mostly for your reference later on, anyone using Anaconda will not have to worry about the next step.  \n",
    "\n",
    "The important information on importing packages is then how to use the `import` functionality in your code.  Typically what this looks like is the line `import numpy as np` near the top of your code.  In a Jupyter notebook, put this in the first cell in the notebook and run it, so that all cells have access to the package.  What this command tells Python is that you are importing the numpy package, and you're calling it `np`, so that numpy functions can be accessed as `np.function_I_want`.  \n",
    "\n",
    "There are several options for the import statement.  For example, you can import all functions without the nickname using `from numpy import *`, where `*` is a [wildcard character](https://en.wikipedia.org/wiki/Wildcard_character) so that Python reads \"from the numpy package, import everything matching \\*\", but the \\* matches everything, so it imports all the numpy functions.  This is not usually recommended, as you are not guaranteed that a package won't have a function with the same name as something you already have.  So, if numpy also has a `print` function, Python wouldn't know whether to use the built-in `print` or numpy's.  This is cleared up by insisting that the functions be prepended with something, so there's no ambiguity between `np.print` and `print`.  Also, `import numpy` imports numpy functions that can now be accessed with `numpy.function`, the `as np` just makes things easier to type.\n",
    "\n",
    "You can also import specific functions or sub-modules from a package using the `from package import func1, func2` syntax.  This is useful when you know you're only going to be using a few things from the package.\n",
    "\n",
    "```{admonition} TLDR: importing packages\n",
    "Going forward, we'll often use `import numpy as np` to tell Python we want to access numpy functions.  Throughout the rest of the tutorial, if you see `np.function`, it is *assuming* that you have imported numpy at the beginning of your code.\n",
    "```"
   ]
  },
  {
   "cell_type": "markdown",
   "id": "859b10d2-10b6-4c5b-b803-b34f94254081",
   "metadata": {},
   "source": [
    "### Numpy Arrays\n",
    "\n",
    "As promised, we will now introduce the `numpy.ndarray`, or the numpy (N-dimensional) array.  Most simply, an array operates like a matrix that you may know from math class, or like an Excel spreadsheet.  Elements are laid in a grid so that each element can be identified by its row and column.  The caveat is that arrays can *only contain one data type*, unlike lists.\n",
    "\n",
    "To make an array, we can apply the [`np.array`](https://numpy.org/doc/stable/reference/generated/numpy.array.html) function to a list.  We can also use the [`np.empty`](https://numpy.org/doc/stable/reference/generated/numpy.empty.html) function to make an \"empty\" array of a given size or the [`np.zeros`](https://numpy.org/doc/stable/reference/generated/numpy.zeros.html) and [`np.ones`](https://numpy.org/doc/stable/reference/generated/numpy.ones.html) functions to make arrays of zeros or ones, respectively."
   ]
  },
  {
   "cell_type": "code",
   "execution_count": null,
   "id": "527ff9a6-e925-4990-95e7-b06e08c4f62d",
   "metadata": {
    "tags": [
     "hide-output"
    ]
   },
   "outputs": [],
   "source": [
    "num_list = list([3, 6.3, 8, 12.52, 4, 4, 3, True, 3, 0.1])\n",
    "num_arr = np.array(num_list)\n",
    "print(num_arr)\n",
    "print(type(num_arr))\n",
    "print(num_arr.dtype)\n",
    "\n",
    "n_rows, n_cols = 5, 3\n",
    "empty_arr = np.empty((n_rows, n_cols)) ## SYNTAX ALERT NOTE THE DOUBLE\n",
    "                                       ## PARENTHESES\n",
    "zero_arr = np.zeros((n_rows, n_cols))\n",
    "one_arr = np.ones((n_rows, n_cols))\n",
    "\n",
    "print(f\"\\nArrays of size {n_rows} x {n_cols}\")\n",
    "print(\"\\nAn empty array:\")\n",
    "print(empty_arr)\n",
    "print(\"\\nAn zero array:\")\n",
    "print(zero_arr)\n",
    "print(\"\\nAn one array:\")\n",
    "print(one_arr)"
   ]
  },
  {
   "cell_type": "markdown",
   "id": "d8df8372-6bf2-4f83-b7a8-9e3b6e566309",
   "metadata": {},
   "source": [
    "In these examples, you can see that converting a list of mixed types (`num_list` has ints, floats, and booleans) coerced everything into one type in `num_arr` (floats, in this case).  You can check the **datatype** using the [`numpy.ndarray.dtype`](https://numpy.org/doc/stable/reference/generated/numpy.ndarray.dtype.html) **attribute**.  We haven't talked about attributes yet, but you can think of them as properties of a piece of data.\n",
    "\n",
    "You should also see that the `np.empty`, `np.zeros`, and `np.ones` functions all made 5 by 3 arrays.  The important note is that the input to these functions is a [tuple](https://docs.python.org/3.3/library/stdtypes.html#tuples) of the dimension sizes.  Tuples are another data type that we won't spend time on that are indicated like a list, with elements separated by commas, but using parentheses, `()`, instead of square brackets.\n",
    "\n",
    "As a final note, you can see that the `empty_arr` is definitely not empty!  This is because what it tells Python to do is to just set aside some space in the storage for the array data to be placed.  Since your computer generally doesn't actually \"delete\" things by setting all the bits to zero, when you ask Python what's in the empty array, it looks at the bits that have been allocated, and interprets them according to `dtype` (float in this case).  So this part of memory could have previously been some file I'd written, but when interpreted as an array of floats, looks like some weird numbers.  As a result, this function, while ostensibly faster than `np.zeros` or [`np.ones`], can be more dangerous because it's harder to detect what is real data vs uninitialized elements."
   ]
  },
  {
   "cell_type": "markdown",
   "id": "b44b5d10-2f2b-48b5-8c9d-336d9045af35",
   "metadata": {},
   "source": [
    "### Array Size, Dimension, and Type\n",
    "\n",
    "Keeping track of your arrays is essential in more complicated programs.  To do this, it is often useful to check that the arrays you are creating are the correct shape, dimension, and type.  To check these, you can use the [`shape`](https://numpy.org/doc/stable/reference/generated/numpy.ndarray.shape.html), [`ndim`](https://numpy.org/doc/stable/reference/generated/numpy.ndarray.ndim.html), and [`dtype`](https://numpy.org/doc/stable/reference/generated/numpy.ndarray.dtype.html) attributes."
   ]
  },
  {
   "cell_type": "code",
   "execution_count": null,
   "id": "34f5d4d1-70a9-4540-a194-1afb0eca7d4b",
   "metadata": {
    "tags": [
     "hide-output"
    ]
   },
   "outputs": [],
   "source": [
    "n_rows, n_cols = 5, 3\n",
    "zero_arr = np.zeros((n_rows, n_cols))\n",
    "arr_shape = zero_arr.shape\n",
    "arr_ndim = zero_arr.ndim\n",
    "arr_datatype = zero_arr.dtype\n",
    "\n",
    "print(f\"The shape of 'zero_arr' is {arr_shape}\")\n",
    "print(f\"The number of dimensions of 'zero_arr' is {arr_ndim}\")\n",
    "print(f\"The type of data in 'zero_arr' is {arr_datatype}\")"
   ]
  },
  {
   "cell_type": "markdown",
   "id": "d101719c-26ba-40f4-9845-e54b87506afc",
   "metadata": {},
   "source": [
    "Note that the [`shape`](https://numpy.org/doc/stable/reference/generated/numpy.ndarray.shape.html) attribute returns a tuple, so that we can use it to create similarly sized arrays.  We can access tuple elements using normal list indexing (`tuple[index]`) and we can use the [`numpy.empty_like`](https://numpy.org/doc/stable/reference/generated/numpy.empty_like.html), [`numpy.zeros_like`](https://numpy.org/doc/stable/reference/generated/numpy.zeros_like.html), [`numpy.ones_like`](https://numpy.org/doc/stable/reference/generated/numpy.ones_like.html) functions to create empty, zero-filled, and one-filled arrays of the same size as an input array, respectively."
   ]
  },
  {
   "cell_type": "code",
   "execution_count": null,
   "id": "ea75c7db-25b3-4339-9b37-6aed26c7eb41",
   "metadata": {
    "tags": [
     "hide-output"
    ]
   },
   "outputs": [],
   "source": [
    "more_cols = np.zeros((arr_shape[0], 10))\n",
    "print(more_cols)\n",
    "\n",
    "fewer_rows = np.ones((2, arr_shape[1]))\n",
    "print(fewer_rows)\n",
    "\n",
    "same_but_ones = np.ones_like(zero_arr)\n",
    "print(same_but_ones)"
   ]
  },
  {
   "cell_type": "markdown",
   "id": "0ab37758-cea6-4217-87c7-48976efd5784",
   "metadata": {},
   "source": [
    "### Accessing Array Elements\n",
    "\n",
    "As noted just above, accessing tuple elements uses the same syntax as for listsA: `my_tuple[index_I_want]`.  The same syntax holds for arrays, except now we have multiple dimensions whose indices we need to specify.  The syntax for array indexing is `my_arr[index1, index2, index3]`  where each subsequent index corresponds to each subsequent dimension of the array: the first index indicates the row, the second the column, the third the \"sheet\", etc.  We can use the slicing operations above on any dimension, using different slices in different dimensions to grab different sections of the array."
   ]
  },
  {
   "cell_type": "code",
   "execution_count": null,
   "id": "7ac9b295-7327-4b0b-8975-ead506927faa",
   "metadata": {
    "tags": [
     "hide-output"
    ]
   },
   "outputs": [],
   "source": [
    "big_arr = big_arr = np.array(2 * (list('abcdefghijklmnopqrstuvwxyz') + ['aa', 'bb'])).reshape(8, 8)\n",
    "\n",
    "print(big_arr)\n",
    "\n",
    "print(f\"The shape of 'big_arr' is {big_arr.shape}\")\n",
    "print(f\"The number of dimensions of 'big_arr' is {big_arr.ndim}\")\n",
    "print(f\"The type of data in 'big_arr' is {big_arr.dtype}\\n\")\n",
    "\n",
    "first_row = big_arr[0]\n",
    "first_col = big_arr[:, 0]\n",
    "\n",
    "print(\"The first row is:\", first_row)\n",
    "print(\"The first column is:\", first_col)\n",
    "\n",
    "subset1 = big_arr[1:3, 2:6]\n",
    "subset2 = big_arr[-3:, :5]\n",
    "print(\"\\n'subset1' is:\")\n",
    "print(subset1)\n",
    "print(f\"The shape of 'subset1' is {subset1.shape}\")\n",
    "print(\"'subset2' is:\")\n",
    "print(subset2)\n",
    "print(f\"The shape of 'subset2' is {subset2.shape}\")"
   ]
  },
  {
   "cell_type": "markdown",
   "id": "a84d37a1-83b4-42ab-a92a-1f3745d8e20f",
   "metadata": {},
   "source": [
    "We can also access array elements via **masking** which we'll talk more about in the [section on conditional statements](../05_ConditionalStatements/05_ConditionalStatements) and by providing lists or arrays of indices directly.  For example, if we want to access the first and third rows of a list directly, we can use `my_arr[[0, 2]]`."
   ]
  },
  {
   "cell_type": "markdown",
   "id": "73828efc-fbd0-4703-88ab-49c63ad3d636",
   "metadata": {},
   "source": [
    "### Useful Array Functions\n",
    "\n",
    "As you may have seen in the previous example, we can use the [`numpy.reshape`](https://numpy.org/doc/stable/reference/generated/numpy.ndarray.reshape.html) function to change the size of an array.  So if we use the [`range`](https://docs.python.org/3/library/functions.html#func-range) function to make a list of numbers, we can do `np.array(range(20)).reshape(4, 5)` to make a 4x5 array."
   ]
  },
  {
   "cell_type": "code",
   "execution_count": null,
   "id": "29b0cd2c-f00b-4173-8c9b-6c1526bcaae8",
   "metadata": {
    "tags": [
     "hide-output"
    ]
   },
   "outputs": [],
   "source": [
    "reshaped_arr = np.array(range(20)).reshape(4, 5)\n",
    "print(reshaped_arr)"
   ]
  },
  {
   "cell_type": "markdown",
   "id": "0a6de5ea-8cd6-426a-9640-3ddf9b12cc7c",
   "metadata": {},
   "source": [
    "Perhaps the most useful thing that we can do with arrays is **vectorize** our code by applying operations **element-wise**.  For example,"
   ]
  },
  {
   "cell_type": "code",
   "execution_count": null,
   "id": "79d6fdd1-117a-4cf8-838c-755f9b467db8",
   "metadata": {
    "tags": [
     "hide-output"
    ]
   },
   "outputs": [],
   "source": [
    "added_arr = reshaped_arr + 3.4\n",
    "minus_arr = added_arr - reshaped_arr\n",
    "mult_arr = (4 * reshaped_arr / 5.345)**2.3\n",
    "\n",
    "print(added_arr, \"\\n\")\n",
    "print(minus_arr, \"\\n\")\n",
    "print(mult_arr)"
   ]
  },
  {
   "cell_type": "markdown",
   "id": "8f04fb40-2237-4a50-9361-93726b476267",
   "metadata": {},
   "source": [
    "If we have row or column arrays that match the size of another array, Python will assume that we want to do the operations row-wise or column-wise.  This is known as [broadcasting](https://numpy.org/doc/stable/user/basics.broadcasting.html)."
   ]
  },
  {
   "cell_type": "code",
   "execution_count": null,
   "id": "63af7d7e-a966-42a4-bdbe-4fbd3a1d5202",
   "metadata": {
    "tags": [
     "hide-output"
    ]
   },
   "outputs": [],
   "source": [
    "row_arr = np.arange(5)\n",
    "col_arr = np.arange(4).reshape(-1, 1)  ## WHAT DOES THE -1 DO HERE?\n",
    "                                       ## (check the shape!)\n",
    "                                       ## (try removing the reshape)\n",
    "print(\"\\n'reshaped_array':\")\n",
    "print(reshaped_arr)\n",
    "print(\"\\n'row_arr':\")\n",
    "print(row_arr)\n",
    "print(\"\\n'col_arr':\")\n",
    "print(col_arr)\n",
    "\n",
    "row_added = reshaped_arr + row_arr\n",
    "col_added = reshaped_arr + col_arr\n",
    "\n",
    "print(\"\\nAdding a row array:\")\n",
    "print(row_added)\n",
    "print(\"\\nAdding a column array:\")\n",
    "print(col_added)"
   ]
  },
  {
   "cell_type": "markdown",
   "id": "a6e2dc50-f1a9-4523-9628-e917ad9b96c1",
   "metadata": {},
   "source": [
    "Generally, arrays have pre-set sizes, but the [`numpy.concatenate`](https://numpy.org/doc/stable/reference/generated/numpy.concatenate.html), [`numpy.hstack`](https://numpy.org/doc/stable/reference/generated/numpy.hstack.html), [`numpy.vstack`](https://numpy.org/doc/stable/reference/generated/numpy.vstack.html) functions can be used to combine arrays (if their shapes match!).  The [`numpy.concatenate`](https://numpy.org/doc/stable/reference/generated/numpy.concatenate.html) function will assume that you want to use the last dimension for concatenating, [`numpy.hstack`](https://numpy.org/doc/stable/reference/generated/numpy.hstack.html) assumes you want to concatenate along rows, and [`numpy.vstack`](https://numpy.org/doc/stable/reference/generated/numpy.vstack.html) assumes columns.\n",
    "\n",
    "Alongside the [`numpy.ndarray.reshape`](https://numpy.org/doc/stable/reference/generated/numpy.ndarray.reshape.html) function, the [`numpy.ndarray.squeeze`](https://numpy.org/doc/stable/reference/generated/numpy.ndarray.squeeze.html) function \"squeezes\" the array to get rid of extra dimensions.\n",
    "\n",
    "We also can still use [`sum`](https://docs.python.org/3/library/functions.html#sum), [`min`](https://docs.python.org/3/library/functions.html#min), and [`max`](https://docs.python.org/3/library/functions.html#max), but now we also can use the numpy versions [`numpy.sum`](https://numpy.org/doc/stable/reference/generated/numpy.sum.html), [`numpy.min`](https://numpy.org/doc/stable/reference/generated/numpy.min.html), and [`numpy.max`](https://numpy.org/doc/stable/reference/generated/numpy.max.html) which allow for the specification along which dimension (or **axis**) that we want to perform the operation:"
   ]
  },
  {
   "cell_type": "code",
   "execution_count": null,
   "id": "67e0c2b4-655d-49c5-a930-9c999546d4d8",
   "metadata": {
    "tags": [
     "hide-output"
    ]
   },
   "outputs": [],
   "source": [
    "arr_mean = np.mean(reshaped_arr)\n",
    "row_mean = np.mean(reshaped_arr, axis=1)\n",
    "col_mean = np.mean(reshaped_arr, axis=0)\n",
    "print(f\"The mean of 'reshaped_arr' is {arr_mean}\")\n",
    "print(f\"The row-wise mean of 'reshaped_arr' is {row_mean}\")\n",
    "print(f\"The column-wise mean of 'reshaped_arr' is {col_mean}\")"
   ]
  },
  {
   "cell_type": "markdown",
   "id": "72abdb39-b16f-4ca8-abf5-22e6b5b50190",
   "metadata": {},
   "source": [
    "The numpy package also has a [host of functions](https://numpy.org/doc/stable/reference/routines.html) for scientific and numeric purposes.  The [mathematical functions](https://numpy.org/doc/stable/reference/routines.math.html) in particular are especially useful, including [`numpy.mean`](https://numpy.org/doc/stable/reference/generated/numpy.mean.html#numpy.mean), [`numpy.exp`](https://numpy.org/doc/stable/reference/generated/numpy.mean.html#numpy.exp), [`numpy.log`](https://numpy.org/doc/stable/reference/generated/numpy.mean.html#numpy.log), and [`numpy.round`](https://numpy.org/doc/stable/reference/generated/numpy.mean.html#numpy.round).  You can use [`numpy.info`](https://numpy.org/doc/stable/reference/generated/numpy.info.html#numpy.info) to access detailed numpy documentation.  If you ever want a basic math operation in Python, Google \"python numpy my_operation\" first!"
   ]
  },
  {
   "cell_type": "markdown",
   "id": "9729b643-aefa-4ef7-81d1-aaa4cb716c1d",
   "metadata": {},
   "source": [
    "### Exercise 4.3\n",
    "\n",
    "1. The numpy analog to `range` is [`numpy.arange`](https://numpy.org/doc/stable/reference/generated/numpy.arange.html).  Use it to make an array of integers from -50 to 50.  Divide by 25 to make an array of 101 equally spaced numbers from -2 to 2.\n",
    "\n",
    "2. Use `numpy.info` to look up how the `numpy.linspace` function works.  Use it to make an array of 101 numbers between -2 and 2 named `my_grid`.\n",
    "\n",
    "3. Create an array of indices for `my_grid` (using `arange`??).  Add this array of indices to `my_grid`.\n",
    "\n",
    "4. Create a new array omitting the last element using slicing.  Name this array `my_grid2`.  What is `len(my_grid2)`?  Reshape `my_grid2` into a 10x10 array named `my_arr`. What is `len(my_arr)`?  How does it seem that `len` works?  Try reshaping into a 25x4 array or a 4x25 array as a hint!\n",
    "\n",
    "5. Create a new array `y_values` from `my_grid3 = np.linspace(-2, 2, 100)` using the function $y = \\frac{6}{5}x^{-2} + x - 3.4$.  ($y$ is `y_values` and `my_grid3` is $x$.)  What are the maximum and minimum values of `y_values`?  Use the `numpy.argmin` and `numpy.argmax` functions to find *where* (the index location) of these maximum and minimum values - save them as `max_idx` and `min_idx`.  Use `max_idx` and `min_idx` to show the values of `my_grid3` at which the min and max occur!\n",
    "\n",
    "6. Apply `numpy.unique` to the list `num_list` from earlier in the section.  What does it seem to do?"
   ]
  }
 ],
 "metadata": {
  "kernelspec": {
   "display_name": "Python 3 (ipykernel)",
   "language": "python",
   "name": "python3"
  },
  "language_info": {
   "codemirror_mode": {
    "name": "ipython",
    "version": 3
   },
   "file_extension": ".py",
   "mimetype": "text/x-python",
   "name": "python",
   "nbconvert_exporter": "python",
   "pygments_lexer": "ipython3",
   "version": "3.11.0"
  }
 },
 "nbformat": 4,
 "nbformat_minor": 5
}
