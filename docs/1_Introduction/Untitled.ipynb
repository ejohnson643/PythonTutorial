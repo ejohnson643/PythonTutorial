{
 "cells": [
  {
   "cell_type": "code",
   "execution_count": 1,
   "metadata": {
    "ExecuteTime": {
     "end_time": "2020-09-10T00:29:26.956478Z",
     "start_time": "2020-09-10T00:29:26.904510Z"
    }
   },
   "outputs": [
    {
     "name": "stdout",
     "output_type": "stream",
     "text": [
      "Hello World\n"
     ]
    }
   ],
   "source": [
    "print(\"Hello World\")"
   ]
  },
  {
   "cell_type": "code",
   "execution_count": 2,
   "metadata": {
    "ExecuteTime": {
     "end_time": "2020-09-10T00:29:30.119773Z",
     "start_time": "2020-09-10T00:29:30.070850Z"
    }
   },
   "outputs": [
    {
     "name": "stdout",
     "output_type": "stream",
     "text": [
      "4\n",
      "-3\n",
      "227.22\n",
      "1.3636363636363635\n",
      "9\n"
     ]
    }
   ],
   "source": [
    "\n",
    "print(2 + 2)\n",
    "print(4 - 7)\n",
    "print(7 * 32.46)\n",
    "print(3 / 2.2)\n",
    "print(3 ** 2)"
   ]
  },
  {
   "cell_type": "code",
   "execution_count": 3,
   "metadata": {
    "ExecuteTime": {
     "end_time": "2020-09-09T23:27:21.462302Z",
     "start_time": "2020-09-09T23:27:21.163449Z"
    }
   },
   "outputs": [
    {
     "ename": "NameError",
     "evalue": "name 'my_favorite_variable' is not defined",
     "output_type": "error",
     "traceback": [
      "\u001b[0;31m---------------------------------------------------------------------------\u001b[0m",
      "\u001b[0;31mNameError\u001b[0m                                 Traceback (most recent call last)",
      "\u001b[0;32m<ipython-input-3-eabb85222416>\u001b[0m in \u001b[0;36m<module>\u001b[0;34m\u001b[0m\n\u001b[0;32m----> 1\u001b[0;31m \u001b[0mprint\u001b[0m\u001b[0;34m(\u001b[0m\u001b[0mmy_favorite_variable\u001b[0m\u001b[0;34m)\u001b[0m\u001b[0;34m\u001b[0m\u001b[0;34m\u001b[0m\u001b[0m\n\u001b[0m",
      "\u001b[0;31mNameError\u001b[0m: name 'my_favorite_variable' is not defined"
     ]
    }
   ],
   "source": [
    "print(my_favorite_variable)"
   ]
  },
  {
   "cell_type": "code",
   "execution_count": 4,
   "metadata": {
    "ExecuteTime": {
     "end_time": "2020-09-10T00:08:13.412328Z",
     "start_time": "2020-09-10T00:08:13.261720Z"
    }
   },
   "outputs": [],
   "source": [
    "print = 43"
   ]
  },
  {
   "cell_type": "code",
   "execution_count": 5,
   "metadata": {
    "ExecuteTime": {
     "end_time": "2020-09-10T00:08:16.047019Z",
     "start_time": "2020-09-10T00:08:15.997036Z"
    }
   },
   "outputs": [
    {
     "ename": "TypeError",
     "evalue": "'int' object is not callable",
     "output_type": "error",
     "traceback": [
      "\u001b[0;31m---------------------------------------------------------------------------\u001b[0m",
      "\u001b[0;31mTypeError\u001b[0m                                 Traceback (most recent call last)",
      "\u001b[0;32m<ipython-input-5-2223c92d0779>\u001b[0m in \u001b[0;36m<module>\u001b[0;34m\u001b[0m\n\u001b[0;32m----> 1\u001b[0;31m \u001b[0mprint\u001b[0m\u001b[0;34m(\u001b[0m\u001b[0mprint\u001b[0m\u001b[0;34m)\u001b[0m\u001b[0;34m\u001b[0m\u001b[0;34m\u001b[0m\u001b[0m\n\u001b[0m",
      "\u001b[0;31mTypeError\u001b[0m: 'int' object is not callable"
     ]
    }
   ],
   "source": [
    "print(print)"
   ]
  },
  {
   "cell_type": "code",
   "execution_count": 3,
   "metadata": {
    "ExecuteTime": {
     "end_time": "2020-09-10T00:29:33.054998Z",
     "start_time": "2020-09-10T00:29:33.014167Z"
    }
   },
   "outputs": [],
   "source": [
    "P = 1000\n",
    "r = 0.07\n",
    "n = 12\n",
    "t = 5"
   ]
  },
  {
   "cell_type": "code",
   "execution_count": 6,
   "metadata": {
    "ExecuteTime": {
     "end_time": "2020-09-10T00:33:06.929752Z",
     "start_time": "2020-09-10T00:33:06.883071Z"
    }
   },
   "outputs": [
    {
     "name": "stdout",
     "output_type": "stream",
     "text": [
      "417.62525961399024\n"
     ]
    }
   ],
   "source": [
    "A = P * (1 + r/n)**(n * t)\n",
    "print(A-P)"
   ]
  },
  {
   "cell_type": "code",
   "execution_count": 10,
   "metadata": {
    "ExecuteTime": {
     "end_time": "2020-09-10T01:26:58.201079Z",
     "start_time": "2020-09-10T01:26:58.145719Z"
    }
   },
   "outputs": [
    {
     "name": "stdout",
     "output_type": "stream",
     "text": [
      "True\n",
      "False\n",
      "1\n",
      "1\n",
      "0\n",
      "1\n"
     ]
    },
    {
     "ename": "ZeroDivisionError",
     "evalue": "division by zero",
     "output_type": "error",
     "traceback": [
      "\u001b[0;31m---------------------------------------------------------------------------\u001b[0m",
      "\u001b[0;31mZeroDivisionError\u001b[0m                         Traceback (most recent call last)",
      "\u001b[0;32m<ipython-input-10-8144a6d29dc1>\u001b[0m in \u001b[0;36m<module>\u001b[0;34m\u001b[0m\n\u001b[1;32m      9\u001b[0m \u001b[0mprint\u001b[0m\u001b[0;34m(\u001b[0m\u001b[0mtruth\u001b[0m \u001b[0;34m*\u001b[0m \u001b[0mfalsehood\u001b[0m\u001b[0;34m)\u001b[0m\u001b[0;34m\u001b[0m\u001b[0;34m\u001b[0m\u001b[0m\n\u001b[1;32m     10\u001b[0m \u001b[0mprint\u001b[0m\u001b[0;34m(\u001b[0m\u001b[0mtruth\u001b[0m \u001b[0;34m**\u001b[0m \u001b[0mfalsehood\u001b[0m\u001b[0;34m)\u001b[0m\u001b[0;34m\u001b[0m\u001b[0;34m\u001b[0m\u001b[0m\n\u001b[0;32m---> 11\u001b[0;31m \u001b[0mprint\u001b[0m\u001b[0;34m(\u001b[0m\u001b[0mtruth\u001b[0m \u001b[0;34m/\u001b[0m \u001b[0mfalsehood\u001b[0m\u001b[0;34m)\u001b[0m\u001b[0;34m\u001b[0m\u001b[0;34m\u001b[0m\u001b[0m\n\u001b[0m",
      "\u001b[0;31mZeroDivisionError\u001b[0m: division by zero"
     ]
    }
   ],
   "source": [
    "truth = True\n",
    "falsehood = False\n",
    "\n",
    "print(truth)\n",
    "print(falsehood)\n",
    "\n",
    "print(truth + falsehood)\n",
    "print(truth - falsehood)\n",
    "print(truth * falsehood)\n",
    "print(truth ** falsehood)\n",
    "print(truth / falsehood)"
   ]
  },
  {
   "cell_type": "code",
   "execution_count": 11,
   "metadata": {
    "ExecuteTime": {
     "end_time": "2020-09-10T01:32:53.871206Z",
     "start_time": "2020-09-10T01:32:53.830933Z"
    }
   },
   "outputs": [
    {
     "ename": "SyntaxError",
     "evalue": "EOL while scanning string literal (<ipython-input-11-63e6e29c6503>, line 1)",
     "output_type": "error",
     "traceback": [
      "\u001b[0;36m  File \u001b[0;32m\"<ipython-input-11-63e6e29c6503>\"\u001b[0;36m, line \u001b[0;32m1\u001b[0m\n\u001b[0;31m    errorful_string = \"This is a bad string'\u001b[0m\n\u001b[0m                                            ^\u001b[0m\n\u001b[0;31mSyntaxError\u001b[0m\u001b[0;31m:\u001b[0m EOL while scanning string literal\n"
     ]
    }
   ],
   "source": [
    "errorful_string = \"This is a bad string'"
   ]
  },
  {
   "cell_type": "code",
   "execution_count": 13,
   "metadata": {
    "ExecuteTime": {
     "end_time": "2020-09-10T02:04:18.100322Z",
     "start_time": "2020-09-10T02:04:18.046124Z"
    }
   },
   "outputs": [
    {
     "data": {
      "text/plain": [
       "'Eric johnson'"
      ]
     },
     "execution_count": 13,
     "metadata": {},
     "output_type": "execute_result"
    },
    {
     "data": {
      "text/plain": [
       "'Eric Johnson'"
      ]
     },
     "execution_count": 13,
     "metadata": {},
     "output_type": "execute_result"
    }
   ],
   "source": [
    "my_name = \"eric johnson\"\n",
    "my_name.capitalize()\n",
    "my_name.title()\n"
   ]
  },
  {
   "cell_type": "code",
   "execution_count": 15,
   "metadata": {
    "ExecuteTime": {
     "end_time": "2020-09-10T02:24:31.054022Z",
     "start_time": "2020-09-10T02:24:31.001250Z"
    }
   },
   "outputs": [
    {
     "name": "stdout",
     "output_type": "stream",
     "text": [
      "'number_str' = 1234 is type <class 'str'>\n",
      "'floated_number_str' = 1234.0 is type <class 'float'>\n"
     ]
    }
   ],
   "source": [
    "number_str = \"1234\"\n",
    "print(f\"'number_str' = {number_str} is type {type(number_str)}\")\n",
    "floated_number_str = float(number_str)\n",
    "print(f\"'floated_number_str' = {floated_number_str} is type {type(floated_number_str)}\")\n"
   ]
  },
  {
   "cell_type": "code",
   "execution_count": 16,
   "metadata": {
    "ExecuteTime": {
     "end_time": "2020-09-10T02:48:25.960844Z",
     "start_time": "2020-09-10T02:48:25.918122Z"
    }
   },
   "outputs": [
    {
     "name": "stdout",
     "output_type": "stream",
     "text": [
      "int('pos1' = 2.1) is 2\n",
      "int('pos2' = 1.9) is 1\n",
      "\n",
      "int('neg1' = -2.1) is -2\n",
      "int('neg2' = -1.9) is -1\n"
     ]
    }
   ],
   "source": [
    "pos1 = 2.1\n",
    "pos2 = 1.9\n",
    "\n",
    "neg1 = -2.1\n",
    "neg2 = -1.9\n",
    "\n",
    "int_pos1 = int(pos1)\n",
    "int_pos2 = int(pos2)\n",
    "\n",
    "int_neg1 = int(neg1)\n",
    "int_neg2 = int(neg2)\n",
    "\n",
    "## Comment this out AFTER you have made your predictions.\n",
    "print(f\"int('pos1' = {pos1}) is {int_pos1}\")\n",
    "print(f\"int('pos2' = {pos2}) is {int_pos2}\")\n",
    "print()\n",
    "print(f\"int('neg1' = {neg1}) is {int_neg1}\")\n",
    "print(f\"int('neg2' = {neg2}) is {int_neg2}\")"
   ]
  },
  {
   "cell_type": "code",
   "execution_count": null,
   "metadata": {},
   "outputs": [],
   "source": []
  }
 ],
 "metadata": {
  "hide_input": false,
  "kernelspec": {
   "display_name": "Python 3",
   "language": "python",
   "name": "python3"
  },
  "latex_envs": {
   "LaTeX_envs_menu_present": true,
   "autoclose": false,
   "autocomplete": true,
   "bibliofile": "biblio.bib",
   "cite_by": "apalike",
   "current_citInitial": 1,
   "eqLabelWithNumbers": true,
   "eqNumInitial": 1,
   "hotkeys": {
    "equation": "Ctrl-E",
    "itemize": "Ctrl-I"
   },
   "labels_anchors": false,
   "latex_user_defs": false,
   "report_style_numbering": false,
   "user_envs_cfg": false
  },
  "toc": {
   "base_numbering": 1,
   "nav_menu": {},
   "number_sections": true,
   "sideBar": false,
   "skip_h1_title": false,
   "title_cell": "Table of Contents",
   "title_sidebar": "Contents",
   "toc_cell": false,
   "toc_position": {},
   "toc_section_display": true,
   "toc_window_display": false
  },
  "varInspector": {
   "cols": {
    "lenName": 16,
    "lenType": 16,
    "lenVar": 40
   },
   "kernels_config": {
    "python": {
     "delete_cmd_postfix": "",
     "delete_cmd_prefix": "del ",
     "library": "var_list.py",
     "varRefreshCmd": "print(var_dic_list())"
    },
    "r": {
     "delete_cmd_postfix": ") ",
     "delete_cmd_prefix": "rm(",
     "library": "var_list.r",
     "varRefreshCmd": "cat(var_dic_list()) "
    }
   },
   "types_to_exclude": [
    "module",
    "function",
    "builtin_function_or_method",
    "instance",
    "_Feature"
   ],
   "window_display": false
  }
 },
 "nbformat": 4,
 "nbformat_minor": 4
}
