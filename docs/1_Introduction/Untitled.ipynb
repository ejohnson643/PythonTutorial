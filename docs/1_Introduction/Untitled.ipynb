{
 "cells": [
  {
   "cell_type": "code",
   "execution_count": 1,
   "metadata": {
    "ExecuteTime": {
     "end_time": "2020-09-10T00:29:26.956478Z",
     "start_time": "2020-09-10T00:29:26.904510Z"
    }
   },
   "outputs": [
    {
     "name": "stdout",
     "output_type": "stream",
     "text": [
      "Hello World\n"
     ]
    }
   ],
   "source": [
    "print(\"Hello World\")"
   ]
  },
  {
   "cell_type": "code",
   "execution_count": 2,
   "metadata": {
    "ExecuteTime": {
     "end_time": "2020-09-10T00:29:30.119773Z",
     "start_time": "2020-09-10T00:29:30.070850Z"
    }
   },
   "outputs": [
    {
     "name": "stdout",
     "output_type": "stream",
     "text": [
      "4\n",
      "-3\n",
      "227.22\n",
      "1.3636363636363635\n",
      "9\n"
     ]
    }
   ],
   "source": [
    "\n",
    "print(2 + 2)\n",
    "print(4 - 7)\n",
    "print(7 * 32.46)\n",
    "print(3 / 2.2)\n",
    "print(3 ** 2)"
   ]
  },
  {
   "cell_type": "code",
   "execution_count": 3,
   "metadata": {
    "ExecuteTime": {
     "end_time": "2020-09-09T23:27:21.462302Z",
     "start_time": "2020-09-09T23:27:21.163449Z"
    }
   },
   "outputs": [
    {
     "ename": "NameError",
     "evalue": "name 'my_favorite_variable' is not defined",
     "output_type": "error",
     "traceback": [
      "\u001b[0;31m---------------------------------------------------------------------------\u001b[0m",
      "\u001b[0;31mNameError\u001b[0m                                 Traceback (most recent call last)",
      "\u001b[0;32m<ipython-input-3-eabb85222416>\u001b[0m in \u001b[0;36m<module>\u001b[0;34m\u001b[0m\n\u001b[0;32m----> 1\u001b[0;31m \u001b[0mprint\u001b[0m\u001b[0;34m(\u001b[0m\u001b[0mmy_favorite_variable\u001b[0m\u001b[0;34m)\u001b[0m\u001b[0;34m\u001b[0m\u001b[0;34m\u001b[0m\u001b[0m\n\u001b[0m",
      "\u001b[0;31mNameError\u001b[0m: name 'my_favorite_variable' is not defined"
     ]
    }
   ],
   "source": [
    "print(my_favorite_variable)"
   ]
  },
  {
   "cell_type": "code",
   "execution_count": 4,
   "metadata": {
    "ExecuteTime": {
     "end_time": "2020-09-10T00:08:13.412328Z",
     "start_time": "2020-09-10T00:08:13.261720Z"
    }
   },
   "outputs": [],
   "source": [
    "print = 43"
   ]
  },
  {
   "cell_type": "code",
   "execution_count": 5,
   "metadata": {
    "ExecuteTime": {
     "end_time": "2020-09-10T00:08:16.047019Z",
     "start_time": "2020-09-10T00:08:15.997036Z"
    }
   },
   "outputs": [
    {
     "ename": "TypeError",
     "evalue": "'int' object is not callable",
     "output_type": "error",
     "traceback": [
      "\u001b[0;31m---------------------------------------------------------------------------\u001b[0m",
      "\u001b[0;31mTypeError\u001b[0m                                 Traceback (most recent call last)",
      "\u001b[0;32m<ipython-input-5-2223c92d0779>\u001b[0m in \u001b[0;36m<module>\u001b[0;34m\u001b[0m\n\u001b[0;32m----> 1\u001b[0;31m \u001b[0mprint\u001b[0m\u001b[0;34m(\u001b[0m\u001b[0mprint\u001b[0m\u001b[0;34m)\u001b[0m\u001b[0;34m\u001b[0m\u001b[0;34m\u001b[0m\u001b[0m\n\u001b[0m",
      "\u001b[0;31mTypeError\u001b[0m: 'int' object is not callable"
     ]
    }
   ],
   "source": [
    "print(print)"
   ]
  },
  {
   "cell_type": "code",
   "execution_count": 3,
   "metadata": {
    "ExecuteTime": {
     "end_time": "2020-09-10T00:29:33.054998Z",
     "start_time": "2020-09-10T00:29:33.014167Z"
    }
   },
   "outputs": [],
   "source": [
    "P = 1000\n",
    "r = 0.07\n",
    "n = 12\n",
    "t = 5"
   ]
  },
  {
   "cell_type": "code",
   "execution_count": 6,
   "metadata": {
    "ExecuteTime": {
     "end_time": "2020-09-10T00:33:06.929752Z",
     "start_time": "2020-09-10T00:33:06.883071Z"
    }
   },
   "outputs": [
    {
     "name": "stdout",
     "output_type": "stream",
     "text": [
      "417.62525961399024\n"
     ]
    }
   ],
   "source": [
    "A = P * (1 + r/n)**(n * t)\n",
    "print(A-P)"
   ]
  },
  {
   "cell_type": "code",
   "execution_count": 10,
   "metadata": {
    "ExecuteTime": {
     "end_time": "2020-09-10T01:26:58.201079Z",
     "start_time": "2020-09-10T01:26:58.145719Z"
    }
   },
   "outputs": [
    {
     "name": "stdout",
     "output_type": "stream",
     "text": [
      "True\n",
      "False\n",
      "1\n",
      "1\n",
      "0\n",
      "1\n"
     ]
    },
    {
     "ename": "ZeroDivisionError",
     "evalue": "division by zero",
     "output_type": "error",
     "traceback": [
      "\u001b[0;31m---------------------------------------------------------------------------\u001b[0m",
      "\u001b[0;31mZeroDivisionError\u001b[0m                         Traceback (most recent call last)",
      "\u001b[0;32m<ipython-input-10-8144a6d29dc1>\u001b[0m in \u001b[0;36m<module>\u001b[0;34m\u001b[0m\n\u001b[1;32m      9\u001b[0m \u001b[0mprint\u001b[0m\u001b[0;34m(\u001b[0m\u001b[0mtruth\u001b[0m \u001b[0;34m*\u001b[0m \u001b[0mfalsehood\u001b[0m\u001b[0;34m)\u001b[0m\u001b[0;34m\u001b[0m\u001b[0;34m\u001b[0m\u001b[0m\n\u001b[1;32m     10\u001b[0m \u001b[0mprint\u001b[0m\u001b[0;34m(\u001b[0m\u001b[0mtruth\u001b[0m \u001b[0;34m**\u001b[0m \u001b[0mfalsehood\u001b[0m\u001b[0;34m)\u001b[0m\u001b[0;34m\u001b[0m\u001b[0;34m\u001b[0m\u001b[0m\n\u001b[0;32m---> 11\u001b[0;31m \u001b[0mprint\u001b[0m\u001b[0;34m(\u001b[0m\u001b[0mtruth\u001b[0m \u001b[0;34m/\u001b[0m \u001b[0mfalsehood\u001b[0m\u001b[0;34m)\u001b[0m\u001b[0;34m\u001b[0m\u001b[0;34m\u001b[0m\u001b[0m\n\u001b[0m",
      "\u001b[0;31mZeroDivisionError\u001b[0m: division by zero"
     ]
    }
   ],
   "source": [
    "truth = True\n",
    "falsehood = False\n",
    "\n",
    "print(truth)\n",
    "print(falsehood)\n",
    "\n",
    "print(truth + falsehood)\n",
    "print(truth - falsehood)\n",
    "print(truth * falsehood)\n",
    "print(truth ** falsehood)\n",
    "print(truth / falsehood)"
   ]
  },
  {
   "cell_type": "code",
   "execution_count": 11,
   "metadata": {
    "ExecuteTime": {
     "end_time": "2020-09-10T01:32:53.871206Z",
     "start_time": "2020-09-10T01:32:53.830933Z"
    }
   },
   "outputs": [
    {
     "ename": "SyntaxError",
     "evalue": "EOL while scanning string literal (<ipython-input-11-63e6e29c6503>, line 1)",
     "output_type": "error",
     "traceback": [
      "\u001b[0;36m  File \u001b[0;32m\"<ipython-input-11-63e6e29c6503>\"\u001b[0;36m, line \u001b[0;32m1\u001b[0m\n\u001b[0;31m    errorful_string = \"This is a bad string'\u001b[0m\n\u001b[0m                                            ^\u001b[0m\n\u001b[0;31mSyntaxError\u001b[0m\u001b[0;31m:\u001b[0m EOL while scanning string literal\n"
     ]
    }
   ],
   "source": [
    "errorful_string = \"This is a bad string'"
   ]
  },
  {
   "cell_type": "code",
   "execution_count": 13,
   "metadata": {
    "ExecuteTime": {
     "end_time": "2020-09-10T02:04:18.100322Z",
     "start_time": "2020-09-10T02:04:18.046124Z"
    }
   },
   "outputs": [
    {
     "data": {
      "text/plain": [
       "'Eric johnson'"
      ]
     },
     "execution_count": 13,
     "metadata": {},
     "output_type": "execute_result"
    },
    {
     "data": {
      "text/plain": [
       "'Eric Johnson'"
      ]
     },
     "execution_count": 13,
     "metadata": {},
     "output_type": "execute_result"
    }
   ],
   "source": [
    "my_name = \"eric johnson\"\n",
    "my_name.capitalize()\n",
    "my_name.title()\n"
   ]
  },
  {
   "cell_type": "code",
   "execution_count": 15,
   "metadata": {
    "ExecuteTime": {
     "end_time": "2020-09-10T02:24:31.054022Z",
     "start_time": "2020-09-10T02:24:31.001250Z"
    }
   },
   "outputs": [
    {
     "name": "stdout",
     "output_type": "stream",
     "text": [
      "'number_str' = 1234 is type <class 'str'>\n",
      "'floated_number_str' = 1234.0 is type <class 'float'>\n"
     ]
    }
   ],
   "source": [
    "number_str = \"1234\"\n",
    "print(f\"'number_str' = {number_str} is type {type(number_str)}\")\n",
    "floated_number_str = float(number_str)\n",
    "print(f\"'floated_number_str' = {floated_number_str} is type {type(floated_number_str)}\")\n"
   ]
  },
  {
   "cell_type": "code",
   "execution_count": 16,
   "metadata": {
    "ExecuteTime": {
     "end_time": "2020-09-10T02:48:25.960844Z",
     "start_time": "2020-09-10T02:48:25.918122Z"
    }
   },
   "outputs": [
    {
     "name": "stdout",
     "output_type": "stream",
     "text": [
      "int('pos1' = 2.1) is 2\n",
      "int('pos2' = 1.9) is 1\n",
      "\n",
      "int('neg1' = -2.1) is -2\n",
      "int('neg2' = -1.9) is -1\n"
     ]
    }
   ],
   "source": [
    "pos1 = 2.1\n",
    "pos2 = 1.9\n",
    "\n",
    "neg1 = -2.1\n",
    "neg2 = -1.9\n",
    "\n",
    "int_pos1 = int(pos1)\n",
    "int_pos2 = int(pos2)\n",
    "\n",
    "int_neg1 = int(neg1)\n",
    "int_neg2 = int(neg2)\n",
    "\n",
    "## Comment this out AFTER you have made your predictions.\n",
    "print(f\"int('pos1' = {pos1}) is {int_pos1}\")\n",
    "print(f\"int('pos2' = {pos2}) is {int_pos2}\")\n",
    "print()\n",
    "print(f\"int('neg1' = {neg1}) is {int_neg1}\")\n",
    "print(f\"int('neg2' = {neg2}) is {int_neg2}\")"
   ]
  },
  {
   "cell_type": "code",
   "execution_count": 20,
   "metadata": {
    "ExecuteTime": {
     "end_time": "2020-09-10T03:09:43.367687Z",
     "start_time": "2020-09-10T03:09:43.318809Z"
    }
   },
   "outputs": [
    {
     "name": "stdout",
     "output_type": "stream",
     "text": [
      "Converting 4 to boolean gives True\n",
      "Converting -3 to boolean gives True\n",
      "Converting 0 to boolean gives False\n",
      "\n",
      "Converting 7.13 to boolean gives True\n",
      "Converting 0.0003 to boolean gives True\n",
      "Converting -4.67 to boolean gives True\n",
      "Converting 0.0 to boolean gives False\n",
      "\n",
      "Converting 3.12 to boolean gives True\n",
      "Converting 0 to boolean gives True\n",
      "Converting abcdef to boolean gives True\n",
      "Converting  to boolean gives False\n"
     ]
    }
   ],
   "source": [
    "\n",
    "pos_int = 4\n",
    "neg_int = -3\n",
    "zero_int = 0\n",
    "\n",
    "pos_float = 7.13\n",
    "small_pos_float = 0.0003\n",
    "neg_float = -4.67\n",
    "zero_float = 0.0\n",
    "\n",
    "number_str = \"3.12\"\n",
    "zero_number_str = \"0\"\n",
    "letter_str = \"abcdef\"\n",
    "empty_str = \"\" ## What is this??? Check the type!\n",
    "\n",
    "print(f\"Converting {pos_int} to boolean gives {bool(pos_int)}\")\n",
    "print(f\"Converting {neg_int} to boolean gives {bool(neg_int)}\")\n",
    "print(f\"Converting {zero_int} to boolean gives {bool(zero_int)}\")\n",
    "\n",
    "print(f\"\\nConverting {pos_float} to boolean gives {bool(pos_float)}\")\n",
    "print(f\"Converting {small_pos_float} to boolean gives {bool(small_pos_float)}\")\n",
    "print(f\"Converting {neg_float} to boolean gives {bool(neg_float)}\")\n",
    "print(f\"Converting {zero_float} to boolean gives {bool(zero_float)}\")\n",
    "\n",
    "print(f\"\\nConverting {number_str} to boolean gives {bool(number_str)}\")\n",
    "print(f\"Converting {zero_number_str} to boolean gives {bool(zero_number_str)}\")\n",
    "print(f\"Converting {letter_str} to boolean gives {bool(letter_str)}\")\n",
    "print(f\"Converting {empty_str} to boolean gives {bool(empty_str)}\")"
   ]
  },
  {
   "cell_type": "code",
   "execution_count": 21,
   "metadata": {
    "ExecuteTime": {
     "end_time": "2020-09-10T03:33:10.420413Z",
     "start_time": "2020-09-10T03:33:10.284722Z"
    }
   },
   "outputs": [
    {
     "ename": "SyntaxError",
     "evalue": "invalid syntax (<ipython-input-21-bba329a5f0ed>, line 2)",
     "output_type": "error",
     "traceback": [
      "\u001b[0;36m  File \u001b[0;32m\"<ipython-input-21-bba329a5f0ed>\"\u001b[0;36m, line \u001b[0;32m2\u001b[0m\n\u001b[0;31m    output = (a = b)\u001b[0m\n\u001b[0m                ^\u001b[0m\n\u001b[0;31mSyntaxError\u001b[0m\u001b[0;31m:\u001b[0m invalid syntax\n"
     ]
    }
   ],
   "source": [
    "a, b = \"e\", \"j\"\n",
    "output = (a = b)"
   ]
  },
  {
   "cell_type": "code",
   "execution_count": 22,
   "metadata": {
    "ExecuteTime": {
     "end_time": "2020-09-10T04:53:09.798482Z",
     "start_time": "2020-09-10T04:53:09.623141Z"
    }
   },
   "outputs": [
    {
     "name": "stdout",
     "output_type": "stream",
     "text": [
      "['abcd', [12, 4, 'no'], ['yes', [True, 'unique element']], 'False', False]\n",
      "['yes', [True, 'unique element']]\n",
      "[True, 'unique element']\n",
      "unique element\n",
      "unique element\n"
     ]
    }
   ],
   "source": [
    "\n",
    "crazy_list = ['abcd', [12, 4, 'no'], ['yes', [True, 'unique element']], 'False', False]\n",
    "print(crazy_list)\n",
    "\n",
    "third_crazy_element = crazy_list[2]\n",
    "print(third_crazy_element)\n",
    "\n",
    "second_third_crazy_element = third_crazy_element[1]\n",
    "print(second_third_crazy_element)\n",
    "\n",
    "second_second_third_crazy_element = second_third_crazy_element[1]\n",
    "print(second_second_third_crazy_element)\n",
    "\n",
    "other_element = crazy_list[2][1][1]  ## What's happening here!?\n",
    "print(other_element)"
   ]
  },
  {
   "cell_type": "code",
   "execution_count": 24,
   "metadata": {
    "ExecuteTime": {
     "end_time": "2020-09-10T04:53:28.498563Z",
     "start_time": "2020-09-10T04:53:28.451661Z"
    }
   },
   "outputs": [
    {
     "name": "stdout",
     "output_type": "stream",
     "text": [
      "The length of the third element is 2\n",
      "The length of the second-third element is 2\n",
      "The length of the second-second-third element is 14\n"
     ]
    }
   ],
   "source": [
    "\n",
    "third_crazy_element = crazy_list[2]\n",
    "print(f\"The length of the third element is {len(third_crazy_element)}\")\n",
    "\n",
    "second_third_crazy_element = third_crazy_element[1]\n",
    "print(f\"The length of the second-third element is {len(second_third_crazy_element)}\")\n",
    "\n",
    "# Uncomment and read the error message!\n",
    "second_second_third_crazy_element = second_third_crazy_element[1]\n",
    "print(f\"The length of the second-second-third element is {len(second_second_third_crazy_element)}\")"
   ]
  },
  {
   "cell_type": "code",
   "execution_count": 27,
   "metadata": {
    "ExecuteTime": {
     "end_time": "2020-09-10T05:00:16.017994Z",
     "start_time": "2020-09-10T05:00:15.970197Z"
    }
   },
   "outputs": [
    {
     "data": {
      "text/plain": [
       "True"
      ]
     },
     "execution_count": 27,
     "metadata": {},
     "output_type": "execute_result"
    },
    {
     "data": {
      "text/plain": [
       "False"
      ]
     },
     "execution_count": 27,
     "metadata": {},
     "output_type": "execute_result"
    },
    {
     "data": {
      "text/plain": [
       "True"
      ]
     },
     "execution_count": 27,
     "metadata": {},
     "output_type": "execute_result"
    }
   ],
   "source": [
    "bool(['True'])\n",
    "bool([])\n",
    "bool([True])"
   ]
  },
  {
   "cell_type": "code",
   "execution_count": 28,
   "metadata": {
    "ExecuteTime": {
     "end_time": "2020-09-10T05:08:42.012620Z",
     "start_time": "2020-09-10T05:08:41.962646Z"
    }
   },
   "outputs": [
    {
     "name": "stdout",
     "output_type": "stream",
     "text": [
      "['abcd', [12, 4, 'no'], ['yes', [True, 'unique element']], 'False', False]\n"
     ]
    }
   ],
   "source": [
    "second_second_third_crazy_element = 10\n",
    "print(crazy_list)"
   ]
  },
  {
   "cell_type": "code",
   "execution_count": 29,
   "metadata": {
    "ExecuteTime": {
     "end_time": "2020-09-10T05:09:14.585700Z",
     "start_time": "2020-09-10T05:09:14.546103Z"
    }
   },
   "outputs": [
    {
     "name": "stdout",
     "output_type": "stream",
     "text": [
      "['abcd', [12, 4, 'no'], ['yes', [True, 10]], 'False', False]\n"
     ]
    }
   ],
   "source": [
    "new_list = crazy_list\n",
    "new_list[2][1][1] = 10\n",
    "print(crazy_list)"
   ]
  },
  {
   "cell_type": "code",
   "execution_count": 35,
   "metadata": {
    "ExecuteTime": {
     "end_time": "2020-09-10T05:18:31.713431Z",
     "start_time": "2020-09-10T05:18:31.668609Z"
    }
   },
   "outputs": [],
   "source": [
    "new_list.insert(2, 'turtle')"
   ]
  },
  {
   "cell_type": "code",
   "execution_count": 36,
   "metadata": {
    "ExecuteTime": {
     "end_time": "2020-09-10T05:18:31.957661Z",
     "start_time": "2020-09-10T05:18:31.907956Z"
    }
   },
   "outputs": [
    {
     "data": {
      "text/plain": [
       "['abcd',\n",
       " [12, 4, 'no'],\n",
       " 'turtle',\n",
       " 'gecko',\n",
       " 'gecko',\n",
       " ['yes', [True, 10]],\n",
       " 'False',\n",
       " False]"
      ]
     },
     "execution_count": 36,
     "metadata": {},
     "output_type": "execute_result"
    }
   ],
   "source": [
    "new_list"
   ]
  },
  {
   "cell_type": "code",
   "execution_count": 4,
   "metadata": {
    "ExecuteTime": {
     "end_time": "2020-09-11T21:01:55.536850Z",
     "start_time": "2020-09-11T21:01:55.490041Z"
    }
   },
   "outputs": [
    {
     "name": "stdout",
     "output_type": "stream",
     "text": [
      "['t', 'h', 'e', ' ', 'q', 'u', 'i', 'c', 'k', ' ', 'b', 'r', 'o', 'w', 'n', ' ', 'f', 'o', 'x']\n"
     ]
    }
   ],
   "source": [
    "\n",
    "my_str = \"the quick brown fox\"\n",
    "my_int = 6543\n",
    "my_float = 65.43\n",
    "my_bool = True or False\n",
    "\n",
    "print(list(my_str))  ## What happened here!?\n",
    "# print(list(my_int))\n",
    "# print(list(my_float))\n",
    "# print(list(my_bool))"
   ]
  },
  {
   "cell_type": "code",
   "execution_count": 9,
   "metadata": {
    "ExecuteTime": {
     "end_time": "2020-09-11T21:49:09.986642Z",
     "start_time": "2020-09-11T21:49:09.929830Z"
    }
   },
   "outputs": [
    {
     "name": "stdout",
     "output_type": "stream",
     "text": [
      "range(0, 10, 2)\n",
      "<class 'range'>\n",
      "[0, 2, 4, 6, 8]\n",
      "<class 'list'>\n",
      "[0, 1, 2, 3, 4, 5, 6, 7, 8, 9]\n",
      "[0, 1, 2, 3, 4, 5, 6, 7, 8, 9]\n",
      "[10, 8, 6, 4, 2]\n",
      "[0, 1, 2, 3, 4, 5, 6, 7, 8, 9]\n"
     ]
    },
    {
     "ename": "TypeError",
     "evalue": "'float' object cannot be interpreted as an integer",
     "output_type": "error",
     "traceback": [
      "\u001b[0;31m--------------------------------------------------------\u001b[0m",
      "\u001b[0;31mTypeError\u001b[0m              Traceback (most recent call last)",
      "\u001b[0;32m<ipython-input-9-3a773e91b53e>\u001b[0m in \u001b[0;36m<module>\u001b[0;34m\u001b[0m\n\u001b[1;32m     22\u001b[0m \u001b[0;34m\u001b[0m\u001b[0m\n\u001b[1;32m     23\u001b[0m \u001b[0;31m## What happens if we try to use a float?\u001b[0m\u001b[0;34m\u001b[0m\u001b[0;34m\u001b[0m\u001b[0;34m\u001b[0m\u001b[0m\n\u001b[0;32m---> 24\u001b[0;31m \u001b[0mprint\u001b[0m\u001b[0;34m(\u001b[0m\u001b[0mlist\u001b[0m\u001b[0;34m(\u001b[0m\u001b[0mrange\u001b[0m\u001b[0;34m(\u001b[0m\u001b[0;36m10.1\u001b[0m\u001b[0;34m)\u001b[0m\u001b[0;34m)\u001b[0m\u001b[0;34m)\u001b[0m\u001b[0;34m\u001b[0m\u001b[0;34m\u001b[0m\u001b[0m\n\u001b[0m",
      "\u001b[0;31mTypeError\u001b[0m: 'float' object cannot be interpreted as an integer"
     ]
    }
   ],
   "source": [
    "\n",
    "start, stop, step = 0, 10, 2\n",
    "my_range1 = range(start, stop, step)\n",
    "print(my_range1)\n",
    "print(type(my_range1))  ## What type does 'my_range1' appear to be?\n",
    "\n",
    "## Apply the list() function:\n",
    "my_range1 = list(my_range1)  \n",
    "print(my_range1)\n",
    "print(type(my_range1))\n",
    "\n",
    "## If we don't supply a step size, it increments by 1\n",
    "print(list(range(start, stop)))\n",
    "\n",
    "## If we don't supply a starting point, it assumes 0\n",
    "print(list(range(stop)))\n",
    "\n",
    "## We can use negative step sizes\n",
    "print(list(range(stop, start, -step)))\n",
    "\n",
    "## Is 'stop'=10 in this list?\n",
    "print(list(range(10)))\n",
    "\n",
    "## What happens if we try to use a float?\n",
    "# print(list(range(10.1)))"
   ]
  },
  {
   "cell_type": "code",
   "execution_count": 12,
   "metadata": {
    "ExecuteTime": {
     "end_time": "2020-09-11T21:54:11.852826Z",
     "start_time": "2020-09-11T21:54:11.801317Z"
    }
   },
   "outputs": [
    {
     "ename": "TypeError",
     "evalue": "unsupported operand type(s) for +: 'float' and 'str'",
     "output_type": "error",
     "traceback": [
      "\u001b[0;31m--------------------------------------------------------\u001b[0m",
      "\u001b[0;31mTypeError\u001b[0m              Traceback (most recent call last)",
      "\u001b[0;32m<ipython-input-12-b27f629069f4>\u001b[0m in \u001b[0;36m<module>\u001b[0;34m\u001b[0m\n\u001b[1;32m      1\u001b[0m \u001b[0mnum_list\u001b[0m \u001b[0;34m=\u001b[0m \u001b[0mlist\u001b[0m\u001b[0;34m(\u001b[0m\u001b[0;34m[\u001b[0m\u001b[0;36m3\u001b[0m\u001b[0;34m,\u001b[0m \u001b[0;36m6.3\u001b[0m\u001b[0;34m,\u001b[0m \u001b[0;36m8\u001b[0m\u001b[0;34m,\u001b[0m \u001b[0;36m12.52\u001b[0m\u001b[0;34m,\u001b[0m \u001b[0;36m4\u001b[0m\u001b[0;34m,\u001b[0m \u001b[0;36m4\u001b[0m\u001b[0;34m,\u001b[0m \u001b[0;36m3\u001b[0m\u001b[0;34m,\u001b[0m \u001b[0;32mTrue\u001b[0m\u001b[0;34m,\u001b[0m \u001b[0;34m'0.5'\u001b[0m\u001b[0;34m]\u001b[0m\u001b[0;34m)\u001b[0m\u001b[0;34m\u001b[0m\u001b[0;34m\u001b[0m\u001b[0m\n\u001b[0;32m----> 2\u001b[0;31m \u001b[0mavg_of_list\u001b[0m \u001b[0;34m=\u001b[0m \u001b[0msum\u001b[0m\u001b[0;34m(\u001b[0m\u001b[0mnum_list\u001b[0m\u001b[0;34m)\u001b[0m \u001b[0;34m/\u001b[0m \u001b[0mlen\u001b[0m\u001b[0;34m(\u001b[0m\u001b[0mnum_list\u001b[0m\u001b[0;34m)\u001b[0m\u001b[0;34m\u001b[0m\u001b[0;34m\u001b[0m\u001b[0m\n\u001b[0m\u001b[1;32m      3\u001b[0m \u001b[0mprint\u001b[0m\u001b[0;34m(\u001b[0m\u001b[0;34mf\"The average value of 'num_list' is {avg_of_list}\"\u001b[0m\u001b[0;34m)\u001b[0m\u001b[0;34m\u001b[0m\u001b[0;34m\u001b[0m\u001b[0m\n",
      "\u001b[0;31mTypeError\u001b[0m: unsupported operand type(s) for +: 'float' and 'str'"
     ]
    }
   ],
   "source": [
    "\n",
    "num_list = list([3, 6.3, 8, 12.52, 4, 4, 3, True])\n",
    "avg_of_list = sum(num_list) / len(num_list)\n",
    "print(f\"The average value of 'num_list' is {avg_of_list}\")"
   ]
  },
  {
   "cell_type": "code",
   "execution_count": 13,
   "metadata": {
    "ExecuteTime": {
     "end_time": "2020-09-11T22:32:34.846456Z",
     "start_time": "2020-09-11T22:32:34.800099Z"
    }
   },
   "outputs": [
    {
     "data": {
      "text/plain": [
       "[['Anya', 'green'],\n",
       " ['Eric', 'purple'],\n",
       " ['Florencia', 'red'],\n",
       " ['Juan', 'blue'],\n",
       " ['Zach', 'blue']]"
      ]
     },
     "execution_count": 13,
     "metadata": {},
     "output_type": "execute_result"
    }
   ],
   "source": [
    "names_colors = [['Eric', 'purple'], ['Anya', 'green'], ['Juan', 'blue'], ['Zach', 'blue'], ['Florencia', 'red']]\n",
    "sorted(names_colors)"
   ]
  },
  {
   "cell_type": "code",
   "execution_count": 15,
   "metadata": {
    "ExecuteTime": {
     "end_time": "2020-09-11T22:32:59.674007Z",
     "start_time": "2020-09-11T22:32:59.625870Z"
    }
   },
   "outputs": [
    {
     "data": {
      "text/plain": [
       "[['Juan', 'blue'],\n",
       " ['Zach', 'blue'],\n",
       " ['Anya', 'green'],\n",
       " ['Eric', 'purple'],\n",
       " ['Florencia', 'red']]"
      ]
     },
     "execution_count": 15,
     "metadata": {},
     "output_type": "execute_result"
    }
   ],
   "source": [
    "sorted(names_colors, key = lambda x: x[1])"
   ]
  },
  {
   "cell_type": "code",
   "execution_count": 17,
   "metadata": {
    "ExecuteTime": {
     "end_time": "2020-09-11T22:36:00.050924Z",
     "start_time": "2020-09-11T22:36:00.003769Z"
    }
   },
   "outputs": [
    {
     "data": {
      "text/plain": [
       "1"
      ]
     },
     "execution_count": 17,
     "metadata": {},
     "output_type": "execute_result"
    }
   ],
   "source": [
    "names_colors[0].count('Eric')"
   ]
  },
  {
   "cell_type": "code",
   "execution_count": 18,
   "metadata": {
    "ExecuteTime": {
     "end_time": "2020-09-11T22:38:43.338934Z",
     "start_time": "2020-09-11T22:38:43.294223Z"
    }
   },
   "outputs": [
    {
     "name": "stdout",
     "output_type": "stream",
     "text": [
      "The average value of 'num_list' is 4.98\n",
      "There are 3 3s in 'num_list'\n",
      "There are 2 4s in 'num_list'\n",
      "There are 1 8s in 'num_list'\n"
     ]
    }
   ],
   "source": [
    "\n",
    "num_list = list([3, 6.3, 8, 12.52, 4, 4, 3, True, 3])\n",
    "avg_of_list = sum(num_list) / len(num_list)\n",
    "print(f\"The average value of 'num_list' is {avg_of_list}\")\n",
    "\n",
    "num_3 = num_list.count(3)\n",
    "num_4 = num_list.count(4)\n",
    "num_8 = num_list.count(8)\n",
    "print(f\"There are {num_3} 3s in 'num_list'\")\n",
    "print(f\"There are {num_4} 4s in 'num_list'\")\n",
    "print(f\"There are {num_8} 8s in 'num_list'\")"
   ]
  },
  {
   "cell_type": "code",
   "execution_count": 20,
   "metadata": {
    "ExecuteTime": {
     "end_time": "2020-09-11T22:40:16.089853Z",
     "start_time": "2020-09-11T22:40:16.043860Z"
    }
   },
   "outputs": [
    {
     "data": {
      "text/plain": [
       "4"
      ]
     },
     "execution_count": 20,
     "metadata": {},
     "output_type": "execute_result"
    }
   ],
   "source": [
    "num_list.index(4)"
   ]
  },
  {
   "cell_type": "code",
   "execution_count": 22,
   "metadata": {
    "ExecuteTime": {
     "end_time": "2020-09-12T00:15:58.628089Z",
     "start_time": "2020-09-12T00:15:58.574924Z"
    }
   },
   "outputs": [
    {
     "name": "stdout",
     "output_type": "stream",
     "text": [
      "The max of 'num_list' is 12.52\n",
      "The min of 'num_list' is 0.1\n",
      "The sum of 'num_list' is 44.92\n"
     ]
    }
   ],
   "source": [
    "\n",
    "num_list = list([3, 6.3, 8, 12.52, 4, 4, 3, True, 3, 0.1])\n",
    "list_max = max(num_list)\n",
    "list_min = min(num_list)\n",
    "list_sum = sum(num_list)\n",
    "\n",
    "print(f\"The max of 'num_list' is {list_max}\")\n",
    "print(f\"The min of 'num_list' is {list_min}\")\n",
    "print(f\"The sum of 'num_list' is {list_sum}\")"
   ]
  },
  {
   "cell_type": "code",
   "execution_count": 23,
   "metadata": {
    "ExecuteTime": {
     "end_time": "2020-09-12T00:23:55.274779Z",
     "start_time": "2020-09-12T00:23:55.230014Z"
    }
   },
   "outputs": [
    {
     "name": "stdout",
     "output_type": "stream",
     "text": [
      "[0.1, 3, True, 3, 4, 4, 12.52, 8, 6.3, 3]\n"
     ]
    }
   ],
   "source": [
    "num_list.reverse()\n",
    "print(num_list)"
   ]
  },
  {
   "cell_type": "code",
   "execution_count": 24,
   "metadata": {
    "ExecuteTime": {
     "end_time": "2020-09-12T02:11:36.992619Z",
     "start_time": "2020-09-12T02:11:36.838622Z"
    }
   },
   "outputs": [
    {
     "name": "stdout",
     "output_type": "stream",
     "text": [
      "[ 3.    6.3   8.   12.52  4.    4.    3.    1.    3.    0.1 ]\n",
      "<class 'numpy.ndarray'>\n",
      "\n",
      "Arrays of size 5 x 3\n",
      "\n",
      "An empty array:\n",
      "[[0.         0.         0.4472136 ]\n",
      " [0.0531494  0.18257419 0.4472136 ]\n",
      " [0.2125976  0.36514837 0.4472136 ]\n",
      " [0.4783446  0.54772256 0.4472136 ]\n",
      " [0.85039041 0.73029674 0.4472136 ]]\n",
      "\n",
      "An zero array:\n",
      "[[0. 0. 0.]\n",
      " [0. 0. 0.]\n",
      " [0. 0. 0.]\n",
      " [0. 0. 0.]\n",
      " [0. 0. 0.]]\n",
      "\n",
      "An one array:\n",
      "[[1. 1. 1.]\n",
      " [1. 1. 1.]\n",
      " [1. 1. 1.]\n",
      " [1. 1. 1.]\n",
      " [1. 1. 1.]]\n"
     ]
    }
   ],
   "source": [
    "\n",
    "num_list = list([3, 6.3, 8, 12.52, 4, 4, 3, True, 3, 0.1])\n",
    "num_arr = np.array(num_list)\n",
    "print(num_arr)\n",
    "print(type(num_arr))\n",
    "\n",
    "n_rows, n_cols = 5, 3\n",
    "empty_arr = np.empty((n_rows, n_cols)) ## SYNTAX ALERT NOTE THE DOUBLE\n",
    "\t\t\t\t\t\t\t\t\t   ## PARENTHESES\n",
    "zero_arr = np.zeros((n_rows, n_cols))\n",
    "one_arr = np.ones((n_rows, n_cols))\n",
    "\n",
    "print(f\"\\nArrays of size {n_rows} x {n_cols}\")\n",
    "print(\"\\nAn empty array:\")\n",
    "print(empty_arr)\n",
    "print(\"\\nAn zero array:\")\n",
    "print(zero_arr)\n",
    "print(\"\\nAn one array:\")\n",
    "print(one_arr)"
   ]
  },
  {
   "cell_type": "code",
   "execution_count": 28,
   "metadata": {
    "ExecuteTime": {
     "end_time": "2020-09-12T02:28:15.128276Z",
     "start_time": "2020-09-12T02:28:14.979297Z"
    }
   },
   "outputs": [
    {
     "data": {
      "text/plain": [
       "array(4)"
      ]
     },
     "execution_count": 28,
     "metadata": {},
     "output_type": "execute_result"
    }
   ],
   "source": [
    "np.array(4)"
   ]
  },
  {
   "cell_type": "code",
   "execution_count": 30,
   "metadata": {
    "ExecuteTime": {
     "end_time": "2020-09-12T02:28:26.778416Z",
     "start_time": "2020-09-12T02:28:26.727522Z"
    }
   },
   "outputs": [
    {
     "ename": "TypeError",
     "evalue": "Cannot interpret '1' as a data type",
     "output_type": "error",
     "traceback": [
      "\u001b[0;31m--------------------------------------------------------\u001b[0m",
      "\u001b[0;31mTypeError\u001b[0m              Traceback (most recent call last)",
      "\u001b[0;32m<ipython-input-30-bdec41241417>\u001b[0m in \u001b[0;36m<module>\u001b[0;34m\u001b[0m\n\u001b[0;32m----> 1\u001b[0;31m \u001b[0mnp\u001b[0m\u001b[0;34m.\u001b[0m\u001b[0mzeros\u001b[0m\u001b[0;34m(\u001b[0m\u001b[0;36m4\u001b[0m\u001b[0;34m,\u001b[0m \u001b[0;36m1\u001b[0m\u001b[0;34m)\u001b[0m\u001b[0;34m\u001b[0m\u001b[0;34m\u001b[0m\u001b[0m\n\u001b[0m",
      "\u001b[0;31mTypeError\u001b[0m: Cannot interpret '1' as a data type"
     ]
    }
   ],
   "source": [
    "np.zeros(4, 1)"
   ]
  },
  {
   "cell_type": "code",
   "execution_count": 31,
   "metadata": {
    "ExecuteTime": {
     "end_time": "2020-09-12T02:42:37.311790Z",
     "start_time": "2020-09-12T02:42:37.268087Z"
    }
   },
   "outputs": [
    {
     "name": "stdout",
     "output_type": "stream",
     "text": [
      "The shape of 'zero_arr' is (5, 3)\n",
      "The number of dimensions of 'zero_arr' is 2\n",
      "The type of data in 'zero_arr' is float64\n"
     ]
    }
   ],
   "source": [
    "\n",
    "n_rows, n_cols = 5, 3\n",
    "zero_arr = np.zeros((n_rows, n_cols))\n",
    "arr_shape = zero_arr.shape\n",
    "arr_ndim = zero_arr.ndim\n",
    "arr_datatype = zero_arr.dtype\n",
    "\n",
    "print(f\"The shape of 'zero_arr' is {arr_shape}\")\n",
    "print(f\"The number of dimensions of 'zero_arr' is {arr_ndim}\")\n",
    "print(f\"The type of data in 'zero_arr' is {arr_datatype}\")"
   ]
  },
  {
   "cell_type": "code",
   "execution_count": 32,
   "metadata": {
    "ExecuteTime": {
     "end_time": "2020-09-12T02:45:49.387630Z",
     "start_time": "2020-09-12T02:45:49.342870Z"
    }
   },
   "outputs": [
    {
     "name": "stdout",
     "output_type": "stream",
     "text": [
      "[[0. 0. 0. 0. 0. 0. 0. 0. 0. 0.]\n",
      " [0. 0. 0. 0. 0. 0. 0. 0. 0. 0.]\n",
      " [0. 0. 0. 0. 0. 0. 0. 0. 0. 0.]\n",
      " [0. 0. 0. 0. 0. 0. 0. 0. 0. 0.]\n",
      " [0. 0. 0. 0. 0. 0. 0. 0. 0. 0.]]\n",
      "[[1. 1. 1.]\n",
      " [1. 1. 1.]]\n"
     ]
    }
   ],
   "source": [
    "\n",
    "more_cols = np.zeros((arr_shape[0], 10))\n",
    "print(more_cols)\n",
    "\n",
    "fewer_rows = np.ones((2, arr_shape[1]))\n",
    "print(fewer_rows)\n",
    "\n",
    "same_but_ones = np.ones_like(zero_arr)"
   ]
  },
  {
   "cell_type": "code",
   "execution_count": 50,
   "metadata": {
    "ExecuteTime": {
     "end_time": "2020-09-12T03:06:34.356330Z",
     "start_time": "2020-09-12T03:06:34.304693Z"
    }
   },
   "outputs": [
    {
     "name": "stdout",
     "output_type": "stream",
     "text": [
      "[['a' 'b' 'c' 'd' 'e' 'f' 'g']\n",
      " ['h' 'i' 'j' 'k' 'l' 'm' 'n']\n",
      " ['o' 'p' 'q' 'r' 's' 't' 'u']\n",
      " ['v' 'w' 'x' 'y' 'z' 'aa' 'bb']\n",
      " ['a' 'b' 'c' 'd' 'e' 'f' 'g']\n",
      " ['h' 'i' 'j' 'k' 'l' 'm' 'n']\n",
      " ['o' 'p' 'q' 'r' 's' 't' 'u']\n",
      " ['v' 'w' 'x' 'y' 'z' 'aa' 'bb']]\n",
      "The shape of 'big_arr' is (8, 7)\n",
      "The number of dimensions of 'big_arr' is 2\n",
      "The type of data in 'big_arr' is <U2\n",
      "\n",
      "The first row is: ['a' 'b' 'c' 'd' 'e' 'f' 'g']\n",
      "The first column is: ['a' 'h' 'o' 'v' 'a' 'h' 'o' 'v']\n",
      "\n",
      "'subset1' is:\n",
      "[['j' 'k' 'l' 'm']\n",
      " ['q' 'r' 's' 't']]\n",
      "The shape of 'subset1' is (2, 4)\n",
      "'subset2' is:\n",
      "[['h' 'i' 'j' 'k' 'l']\n",
      " ['o' 'p' 'q' 'r' 's']\n",
      " ['v' 'w' 'x' 'y' 'z']]\n",
      "The shape of 'subset2' is (3, 5)\n"
     ]
    }
   ],
   "source": [
    "\n",
    "\tbig_arr = np.array(2 * (list('abcdefghijklmnopqrstuvwxyz') + ['aa', 'bb'])).reshape(8, -1)\n",
    "\n",
    "\tprint(big_arr)\n",
    "\n",
    "\tprint(f\"The shape of 'big_arr' is {big_arr.shape}\")\n",
    "\tprint(f\"The number of dimensions of 'big_arr' is {big_arr.ndim}\")\n",
    "\tprint(f\"The type of data in 'big_arr' is {big_arr.dtype}\\n\")\n",
    "\n",
    "\tfirst_row = big_arr[0]\n",
    "\tfirst_col = big_arr[:, 0]\n",
    "\n",
    "\tprint(\"The first row is:\", first_row)\n",
    "\tprint(\"The first column is:\", first_col)\n",
    "\n",
    "\tsubset1 = big_arr[1:3, 2:6]\n",
    "\tsubset2 = big_arr[-3:, :5]\n",
    "\tprint(\"\\n'subset1' is:\")\n",
    "\tprint(subset1)\n",
    "\tprint(f\"The shape of 'subset1' is {subset1.shape}\")\n",
    "\tprint(\"'subset2' is:\")\n",
    "\tprint(subset2)\n",
    "\tprint(f\"The shape of 'subset2' is {subset2.shape}\")"
   ]
  },
  {
   "cell_type": "code",
   "execution_count": 39,
   "metadata": {
    "ExecuteTime": {
     "end_time": "2020-09-12T02:57:20.915860Z",
     "start_time": "2020-09-12T02:57:20.872294Z"
    }
   },
   "outputs": [
    {
     "data": {
      "text/plain": [
       "dtype('<U2')"
      ]
     },
     "execution_count": 39,
     "metadata": {},
     "output_type": "execute_result"
    }
   ],
   "source": [
    "big_arr.dtype"
   ]
  },
  {
   "cell_type": "code",
   "execution_count": null,
   "metadata": {},
   "outputs": [],
   "source": []
  },
  {
   "cell_type": "code",
   "execution_count": 41,
   "metadata": {
    "ExecuteTime": {
     "end_time": "2020-09-12T02:57:33.285510Z",
     "start_time": "2020-09-12T02:57:33.241163Z"
    }
   },
   "outputs": [
    {
     "data": {
      "text/plain": [
       "(4, 2, 7)"
      ]
     },
     "execution_count": 41,
     "metadata": {},
     "output_type": "execute_result"
    }
   ],
   "source": [
    "big_arr.shape"
   ]
  },
  {
   "cell_type": "code",
   "execution_count": 52,
   "metadata": {
    "ExecuteTime": {
     "end_time": "2020-09-12T03:15:33.273066Z",
     "start_time": "2020-09-12T03:15:33.112712Z"
    }
   },
   "outputs": [],
   "source": [
    "\n",
    "\treshaped_arr = np.array(range(20)).reshape(4, 5)"
   ]
  },
  {
   "cell_type": "code",
   "execution_count": 54,
   "metadata": {
    "ExecuteTime": {
     "end_time": "2020-09-12T03:15:40.453866Z",
     "start_time": "2020-09-12T03:15:40.408455Z"
    }
   },
   "outputs": [
    {
     "data": {
      "text/plain": [
       "array([[ 0,  1,  2,  3,  4],\n",
       "       [ 5,  6,  7,  8,  9],\n",
       "       [10, 11, 12, 13, 14],\n",
       "       [15, 16, 17, 18, 19]])"
      ]
     },
     "execution_count": 54,
     "metadata": {},
     "output_type": "execute_result"
    }
   ],
   "source": [
    "reshaped_arr"
   ]
  },
  {
   "cell_type": "code",
   "execution_count": 58,
   "metadata": {
    "ExecuteTime": {
     "end_time": "2020-09-12T03:18:33.785875Z",
     "start_time": "2020-09-12T03:18:33.739562Z"
    }
   },
   "outputs": [
    {
     "name": "stdout",
     "output_type": "stream",
     "text": [
      "[[ 3.4  4.4  5.4  6.4  7.4]\n",
      " [ 8.4  9.4 10.4 11.4 12.4]\n",
      " [13.4 14.4 15.4 16.4 17.4]\n",
      " [18.4 19.4 20.4 21.4 22.4]] \n",
      "\n",
      "[[3.4 3.4 3.4 3.4 3.4]\n",
      " [3.4 3.4 3.4 3.4 3.4]\n",
      " [3.4 3.4 3.4 3.4 3.4]\n",
      " [3.4 3.4 3.4 3.4 3.4]] \n",
      "\n",
      "[[  0.           0.51340282   2.52829204   6.42446746  12.4507705 ]\n",
      " [ 20.80124159  31.6377889   45.10074752  61.31478619  80.39258987]\n",
      " [102.43732951 127.54440847 155.80274824 187.29576538 222.10213339]\n",
      " [260.29638936 301.9494259  347.12889615 395.89955158 448.32352704]]\n"
     ]
    }
   ],
   "source": [
    "\n",
    "added_arr = reshaped_arr + 3.4\n",
    "minus_arr = added_arr - reshaped_arr\n",
    "mult_arr = (4 * reshaped_arr / 5.345)**2.3\n",
    "\n",
    "print(added_arr, \"\\n\")\n",
    "print(minus_arr, \"\\n\")\n",
    "print(mult_arr)"
   ]
  },
  {
   "cell_type": "code",
   "execution_count": 65,
   "metadata": {
    "ExecuteTime": {
     "end_time": "2020-09-12T03:31:02.076942Z",
     "start_time": "2020-09-12T03:31:02.029217Z"
    }
   },
   "outputs": [
    {
     "name": "stdout",
     "output_type": "stream",
     "text": [
      "\n",
      "'reshaped_array':\n",
      "[[ 0  1  2  3  4]\n",
      " [ 5  6  7  8  9]\n",
      " [10 11 12 13 14]\n",
      " [15 16 17 18 19]]\n",
      "\n",
      "'row_arr':\n",
      "[0 1 2 3 4]\n",
      "\n",
      "'col_arr':\n",
      "[[0]\n",
      " [1]\n",
      " [2]\n",
      " [3]]\n",
      "\n",
      "Adding a row array:\n",
      "[[ 0  2  4  6  8]\n",
      " [ 5  7  9 11 13]\n",
      " [10 12 14 16 18]\n",
      " [15 17 19 21 23]]\n",
      "\n",
      "Adding a column array:\n",
      "[[ 0  1  2  3  4]\n",
      " [ 6  7  8  9 10]\n",
      " [12 13 14 15 16]\n",
      " [18 19 20 21 22]]\n"
     ]
    }
   ],
   "source": [
    "\n",
    "\trow_arr = np.arange(5)\n",
    "\tcol_arr = np.arange(4).reshape(-1, 1)  ## WHAT DOES THE -1 DO HERE?\n",
    "\t\t\t\t\t\t\t\t\t\t   ## (check the shape!)\n",
    "\t\t\t\t\t\t\t\t\t\t   ## (try removing the reshape)\n",
    "\tprint(\"\\n'reshaped_array':\")\n",
    "\tprint(reshaped_arr)\n",
    "\tprint(\"\\n'row_arr':\")\n",
    "\tprint(row_arr)\n",
    "\tprint(\"\\n'col_arr':\")\n",
    "\tprint(col_arr)\n",
    "\n",
    "\trow_added = reshaped_arr + row_arr\n",
    "\tcol_added = reshaped_arr + col_arr\n",
    "\n",
    "\tprint(\"\\nAdding a row array:\")\n",
    "\tprint(row_added)\n",
    "\tprint(\"\\nAdding a column array:\")\n",
    "\tprint(col_added)"
   ]
  },
  {
   "cell_type": "code",
   "execution_count": 63,
   "metadata": {
    "ExecuteTime": {
     "end_time": "2020-09-12T03:27:26.959281Z",
     "start_time": "2020-09-12T03:27:26.915637Z"
    }
   },
   "outputs": [
    {
     "data": {
      "text/plain": [
       "array([[ 0,  1,  2,  3,  4,  0,  1,  2,  3,  4],\n",
       "       [ 5,  6,  7,  8,  9,  5,  6,  7,  8,  9],\n",
       "       [10, 11, 12, 13, 14, 10, 11, 12, 13, 14],\n",
       "       [15, 16, 17, 18, 19, 15, 16, 17, 18, 19]])"
      ]
     },
     "execution_count": 63,
     "metadata": {},
     "output_type": "execute_result"
    }
   ],
   "source": [
    "np.hstack((reshaped_arr, reshaped_arr))"
   ]
  },
  {
   "cell_type": "code",
   "execution_count": 70,
   "metadata": {
    "ExecuteTime": {
     "end_time": "2020-09-12T03:35:46.425940Z",
     "start_time": "2020-09-12T03:35:46.380639Z"
    }
   },
   "outputs": [
    {
     "name": "stdout",
     "output_type": "stream",
     "text": [
      "The mean of 'reshaped_arr' is 9.5\n",
      "The row-wise mean of 'reshaped_arr' is [ 2.  7. 12. 17.]\n",
      "The column-wise mean of 'reshaped_arr' is [ 7.5  8.5  9.5 10.5 11.5]\n"
     ]
    }
   ],
   "source": [
    "\n",
    "\tarr_mean = np.mean(reshaped_arr)\n",
    "\trow_mean = np.mean(reshaped_arr, axis=1)\n",
    "\tcol_mean = np.mean(reshaped_arr, axis=0)\n",
    "\tprint(f\"The mean of 'reshaped_arr' is {arr_mean}\")\n",
    "\tprint(f\"The row-wise mean of 'reshaped_arr' is {row_mean}\")\n",
    "\tprint(f\"The column-wise mean of 'reshaped_arr' is {col_mean}\")"
   ]
  },
  {
   "cell_type": "code",
   "execution_count": 67,
   "metadata": {
    "ExecuteTime": {
     "end_time": "2020-09-12T03:34:43.425584Z",
     "start_time": "2020-09-12T03:34:43.382850Z"
    }
   },
   "outputs": [
    {
     "data": {
      "text/plain": [
       "array([ 7.5,  8.5,  9.5, 10.5, 11.5])"
      ]
     },
     "execution_count": 67,
     "metadata": {},
     "output_type": "execute_result"
    }
   ],
   "source": [
    "row_mean"
   ]
  },
  {
   "cell_type": "code",
   "execution_count": 68,
   "metadata": {
    "ExecuteTime": {
     "end_time": "2020-09-12T03:34:45.816880Z",
     "start_time": "2020-09-12T03:34:45.774309Z"
    }
   },
   "outputs": [
    {
     "data": {
      "text/plain": [
       "array([ 2.,  7., 12., 17.])"
      ]
     },
     "execution_count": 68,
     "metadata": {},
     "output_type": "execute_result"
    }
   ],
   "source": [
    "col_mean"
   ]
  },
  {
   "cell_type": "code",
   "execution_count": null,
   "metadata": {},
   "outputs": [],
   "source": []
  }
 ],
 "metadata": {
  "hide_input": false,
  "kernelspec": {
   "display_name": "Python 3",
   "language": "python",
   "name": "python3"
  },
  "language_info": {
   "codemirror_mode": {
    "name": "ipython",
    "version": 3
   },
   "file_extension": ".py",
   "mimetype": "text/x-python",
   "name": "python",
   "nbconvert_exporter": "python",
   "pygments_lexer": "ipython3",
   "version": "3.6.8"
  },
  "latex_envs": {
   "LaTeX_envs_menu_present": true,
   "autoclose": false,
   "autocomplete": true,
   "bibliofile": "biblio.bib",
   "cite_by": "apalike",
   "current_citInitial": 1,
   "eqLabelWithNumbers": true,
   "eqNumInitial": 1,
   "hotkeys": {
    "equation": "Ctrl-E",
    "itemize": "Ctrl-I"
   },
   "labels_anchors": false,
   "latex_user_defs": false,
   "report_style_numbering": false,
   "user_envs_cfg": false
  },
  "toc": {
   "base_numbering": 1,
   "nav_menu": {},
   "number_sections": true,
   "sideBar": false,
   "skip_h1_title": false,
   "title_cell": "Table of Contents",
   "title_sidebar": "Contents",
   "toc_cell": false,
   "toc_position": {},
   "toc_section_display": true,
   "toc_window_display": false
  },
  "varInspector": {
   "cols": {
    "lenName": 16,
    "lenType": 16,
    "lenVar": 40
   },
   "kernels_config": {
    "python": {
     "delete_cmd_postfix": "",
     "delete_cmd_prefix": "del ",
     "library": "var_list.py",
     "varRefreshCmd": "print(var_dic_list())"
    },
    "r": {
     "delete_cmd_postfix": ") ",
     "delete_cmd_prefix": "rm(",
     "library": "var_list.r",
     "varRefreshCmd": "cat(var_dic_list()) "
    }
   },
   "types_to_exclude": [
    "module",
    "function",
    "builtin_function_or_method",
    "instance",
    "_Feature"
   ],
   "window_display": false
  }
 },
 "nbformat": 4,
 "nbformat_minor": 4
}
