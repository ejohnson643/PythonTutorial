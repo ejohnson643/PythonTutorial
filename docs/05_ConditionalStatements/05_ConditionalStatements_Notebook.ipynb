{
 "cells": [
  {
   "cell_type": "code",
   "execution_count": 1,
   "id": "b3407e13",
   "metadata": {
    "tags": [
     "hide-output"
    ]
   },
   "outputs": [],
   "source": [
    "import numpy as np ## It's good practice to put your imports right at the top!"
   ]
  },
  {
   "cell_type": "markdown",
   "id": "60a18b49",
   "metadata": {},
   "source": [
    "# Conditional expressions\n",
    "\n",
    "\n",
    "```{admonition} Follow along!\n",
    "Remember that to best make use of this tutorial, it is highly recommended that you [make your own notebook](https://jupyter-notebook-beginner-guide.readthedocs.io/en/latest/execute.html) and **type every piece of code** yourself!\n",
    "```\n",
    "\n",
    "At this point we've covered how to store data of [different types](../02_Variables_DataTypes/02_Variables_DataTypes_Notebook) in variables, how to perform simple operations on those variables, and with [loops](../04_Loops/04_Loops_Notebook), how to repeat sets of operations. However, there is one last major tool that you will need to add to your coding toolbox before you will really be ab|le to attack a generic problem, and that is the ability to set *conditions* on when your code should do things. The construction of these conditions, called **conditional expressions** are what we will cover in this section of the tutorial.\n"
   ]
  },
  {
   "cell_type": "markdown",
   "id": "2e95ad1e",
   "metadata": {},
   "source": [
    "## What is a conditional expression?\n",
    "\n",
    "At its most basic, a conditional expression can be thought of as a statement that tests whether something is *true* or *false* (in code: `True` or `False`). However, this definition can be a bit hard to understand until we've seen a few examples. In words, consider the following situations:\n",
    "\n",
    "1. I have my list of pets, and I want to loop through the list, printing one statement for cats, and another statement for all non-cats. To do this, I can, at each iteration, test if it is TRUE that the current pet is a cat.\n",
    "2. I have a set of operations and I only want to use these operations on 2D numpy arrays. So I tell the code to check if it is TRUE that the data is an array and then if it is TRUE that the array is 2D. If these are not true, then the code skips the operations.\n",
    "3. I have an array of data and I want to set all elements that are greater than 10 to instead be 0. I can do this by checking if it is TRUE that a given element is greater than 10. If it is, set the element to 0, otherwise (`else`, as we'll see shortly) leave the element alone.\n",
    "\n",
    "By the end of this chapter, you will be able to execute all of these scenarios (they will be exercises along the way!).\n",
    "\n",
    "The key to each, and what was emphasized, was the phrasing of the problem as one in which I need to test whether my data/variables meet a certain condition. Once Python has assessed whether the condition has been met, we can ask it to do different things depending on that outcome.\n",
    "\n",
    "Finally, let's consider an introductory example:"
   ]
  },
  {
   "cell_type": "code",
   "execution_count": 2,
   "id": "dfc0a031",
   "metadata": {
    "tags": [
     "hide-output"
    ]
   },
   "outputs": [
    {
     "name": "stdout",
     "output_type": "stream",
     "text": [
      "It's hot! 90 degrees is much too warm!\n"
     ]
    }
   ],
   "source": [
    "temperature = 90\n",
    "if temperature > 80:\n",
    "    print(\"It's hot! {} degrees is much too warm!\".format(temperature))\n",
    "else:\n",
    "    print(\"It's not hot! {} degress is great!\".format(temperature))"
   ]
  },
  {
   "cell_type": "markdown",
   "id": "d806a5c9",
   "metadata": {},
   "source": [
    "In this example, try changing the value of temperature and note the change in output.\n",
    "\n",
    "We'll explore the syntax of this construction (notice the use of indented blocks again!), but the end result should be somewhat intuitive. We assign temperature a value, then `if` that value is greater than 80, we print one thing, `else`, we print another."
   ]
  },
  {
   "cell_type": "markdown",
   "id": "2f195dcb",
   "metadata": {},
   "source": [
    "##  Logical Comparisons\n",
    "\n",
    "Before we can go much further, we need to spend a moment talking about the different \"tests\" that we can run to test if a condition is true or false. These are called **logical comparisons** or logical tests.\n",
    "\n",
    "The most basic logical comparisons are **equalities** and **inequalities** which you should be familiar with from mathematics. These will allow us to compare the values of different variables.  However, there are other statements that we can evaluate as either true or false, for example, whether a specific value is present in a list or array or whether a variable is of a specific type.  We'll examine these situations here.\n"
   ]
  },
  {
   "cell_type": "markdown",
   "id": "619f3bae",
   "metadata": {},
   "source": [
    "### Equalities\n",
    "\n",
    "t is often very useful to tell if something is equal to something else. For example, if we want to determine if a variable is 3 (not greater or less than, but exactly). To do this we use the double-equals `==` operator:"
   ]
  },
  {
   "cell_type": "code",
   "execution_count": 3,
   "id": "14488d2e",
   "metadata": {
    "tags": [
     "hide-output"
    ]
   },
   "outputs": [
    {
     "name": "stdout",
     "output_type": "stream",
     "text": [
      "False\n",
      "True\n",
      "False\n",
      "False\n",
      "True\n"
     ]
    }
   ],
   "source": [
    "a = 5\n",
    "b = 3\n",
    "print(a == b)\n",
    "print(a == 5)\n",
    "print(b == 5)\n",
    "print(a == 3)\n",
    "print(b == 3)"
   ]
  },
  {
   "cell_type": "markdown",
   "id": "6ef6a30d",
   "metadata": {},
   "source": [
    "Note that the equality operator compares the *values* stored in a variable, not the variable names. It is very, very difficult to do anything with variable *names* in Python, so this is not a fast way for you to check if a variable name has already been used.\n",
    "\n",
    "```{warning}\n",
    "The second equals sign here is essential! If you remove one, you will end up assigning the value on the right to the value on the left!\n",
    "```\n",
    "\n",
    "As you would hope, equalities work with other data types:"
   ]
  },
  {
   "cell_type": "code",
   "execution_count": 4,
   "id": "473bb5b5",
   "metadata": {
    "tags": [
     "hide-output"
    ]
   },
   "outputs": [
    {
     "name": "stdout",
     "output_type": "stream",
     "text": [
      "True\n",
      "False\n",
      "False\n",
      "True\n",
      "True\n",
      "True\n",
      "False\n",
      "False\n",
      "False\n"
     ]
    }
   ],
   "source": [
    "print('eric' == 'eric')\n",
    "print('Eric' == 'eric')  ## Python strings are always case-sensitive\n",
    "\n",
    "print('5' == 5)          ## Remember that quotes make *strings*\n",
    "print('5' == str(5))     ## A string containing the number 5 is different from the number!\n",
    "\n",
    "print(list(range(5)) == [0, 1, 2, 3, 4]) ## We can compare lists\n",
    "\n",
    "print(1/10 == 0.1)\n",
    "print(1/10 == 0.1000000000000001)  ## The accuracy of floating-point numbers is pretty good!\n",
    "\n",
    "print(np.pi == 22/7)\n",
    "print(np.pi == 3.1415926)"
   ]
  },
  {
   "cell_type": "markdown",
   "id": "aed919d8",
   "metadata": {},
   "source": [
    "### Inequalities\n",
    "\n",
    "There are 5 basic inequalities: not equal `!=`, less than `<`, greater than `>`, less than or equal to `<=`, and greater than or equal to `>=`. Hopefully these are somewhat intuitive, but if not they should be easy to remember.\n",
    "\n",
    "The not equal test, `!=`, works similarly to the equality operator `==`, but the rest of these operators are really only meant for numerical comparisons. For example, it's not immediately clear what `'Eric' >= 'Madhav'` might logically mean - but you should try it and see what Python says!"
   ]
  },
  {
   "cell_type": "code",
   "execution_count": 5,
   "id": "2dda4328",
   "metadata": {
    "tags": [
     "hide-output"
    ]
   },
   "outputs": [
    {
     "name": "stdout",
     "output_type": "stream",
     "text": [
      "False\n",
      "False\n",
      "False\n",
      "True\n",
      "True\n",
      "False\n",
      "True\n"
     ]
    }
   ],
   "source": [
    "a = 5\n",
    "b = 3\n",
    "print(a < b)\n",
    "print(a <= b)\n",
    "print(a < 5)\n",
    "print(a <= 5)\n",
    "print(a > b)\n",
    "print(b > 3)\n",
    "print(b >= 3)"
   ]
  },
  {
   "cell_type": "markdown",
   "id": "47719465",
   "metadata": {},
   "source": [
    "Note in the above example the difference between `<` and `>` and the \"or equal to\" operators `<=` and `>=`. This can be made more explicit with floats:"
   ]
  },
  {
   "cell_type": "code",
   "execution_count": 6,
   "id": "479a19a8",
   "metadata": {},
   "outputs": [
    {
     "name": "stdout",
     "output_type": "stream",
     "text": [
      "False\n",
      "True\n",
      "True\n"
     ]
    }
   ],
   "source": [
    "print(1/10 < 0.1)\n",
    "print(1/10 <= 0.1)\n",
    "print(1/10 < 0.10000000000001)"
   ]
  },
  {
   "cell_type": "markdown",
   "id": "cbaa9296",
   "metadata": {},
   "source": [
    "### Testing if an element is in a list or array\n",
    "\n",
    "As noted, we can easily ask if something is contained **in** a collection like a list or array using the `in` operator. \n",
    "\n",
    "In the following example, we'll also use variable assignment to keep the outcome of our logical test.  Here we'll contain the result of `'dogs' in pets` in the new variable `dog_in_pets` and we'll contain the result of `'bunnies' in pets` in the new variable `bun_in_pets`.  We can then see that these variables contain either a `True` or `False` depending on whether `'dogs'` or `'bunnies'` are in `pets`, respectively.  This is useful if you need to use the same condition multiple times or if, for example, you want to keep track of how often something is true in a loop."
   ]
  },
  {
   "cell_type": "code",
   "execution_count": 7,
   "id": "ad31fc47",
   "metadata": {
    "tags": [
     "hide-output"
    ]
   },
   "outputs": [
    {
     "name": "stdout",
     "output_type": "stream",
     "text": [
      "It is True that 'dogs' is in 'pets'.\n",
      "It is False that 'bunnies' is in 'pets'.\n"
     ]
    }
   ],
   "source": [
    "pets = ['dogs', 'cats', 'iguanas', 'birds']\n",
    "\n",
    "dog_in_pets = 'dogs' in pets      ## We can set the result of a comparison to\n",
    "bun_in_pets = 'bunnies' in pets   ## be stored in another variable.\n",
    "\n",
    "print(f\"It is {dog_in_pets} that 'dogs' is in 'pets'.\")\n",
    "print(f\"It is {bun_in_pets} that 'bunnies' is in 'pets'.\")"
   ]
  },
  {
   "cell_type": "markdown",
   "id": "d50a6368",
   "metadata": {},
   "source": [
    "### Testing if a variable is a specified type\n",
    "\n",
    "One thing that is often useful in more complex programs is to have checks to make sure that your inputs (and outputs) are the correct sizes and types. Python has a built-in function called [`isinstance`](https://docs.python.org/3/library/functions.html#isinstance), which takes a variable and a type as inputs and returns `True` or `False` if the variable is of the specified type."
   ]
  },
  {
   "cell_type": "code",
   "execution_count": 8,
   "id": "e0e30cd4",
   "metadata": {},
   "outputs": [
    {
     "name": "stdout",
     "output_type": "stream",
     "text": [
      "True\n",
      "\n",
      "False\n",
      "False\n",
      "False\n",
      "\n",
      "False\n",
      "False\n",
      "True\n",
      "\n"
     ]
    },
    {
     "ename": "TypeError",
     "evalue": "isinstance() arg 2 must be a type, a tuple of types, or a union",
     "output_type": "error",
     "traceback": [
      "\u001b[0;31m---------------------------------------------------------------------------\u001b[0m",
      "\u001b[0;31mTypeError\u001b[0m                                 Traceback (most recent call last)",
      "Cell \u001b[0;32mIn[8], line 14\u001b[0m\n\u001b[1;32m     12\u001b[0m \u001b[38;5;28mprint\u001b[39m(\u001b[38;5;28misinstance\u001b[39m(b, \u001b[38;5;28mstr\u001b[39m))\n\u001b[1;32m     13\u001b[0m \u001b[38;5;28mprint\u001b[39m()\n\u001b[0;32m---> 14\u001b[0m \u001b[38;5;28mprint\u001b[39m(\u001b[38;5;28;43misinstance\u001b[39;49m\u001b[43m(\u001b[49m\u001b[43ma\u001b[49m\u001b[43m,\u001b[49m\u001b[43m \u001b[49m\u001b[43mb\u001b[49m\u001b[43m)\u001b[49m)          \u001b[38;5;66;03m## READ THE ERROR MESSAGE\u001b[39;00m\n",
      "\u001b[0;31mTypeError\u001b[0m: isinstance() arg 2 must be a type, a tuple of types, or a union"
     ]
    }
   ],
   "source": [
    "a = 5\n",
    "b = 'cat'\n",
    "\n",
    "print(isinstance(a, int))\n",
    "print()\n",
    "print(isinstance(a, np.ndarray)) ## Recall this is the \"type\" of numpy arrays.\n",
    "print(isinstance(a, list))\n",
    "print(isinstance(a, float))      ## Put a period after 5 on the first line...\n",
    "print()\n",
    "print(isinstance(b, int))\n",
    "print(isinstance(b, list))\n",
    "print(isinstance(b, str))\n",
    "print()\n",
    "print(isinstance(a, b))          ## READ THE ERROR MESSAGE"
   ]
  },
  {
   "cell_type": "markdown",
   "id": "0f330540",
   "metadata": {},
   "source": [
    "Alternately, we can directly compare the output of the [`type`](https://docs.python.org/3/library/functions.html#type) function with the type that we expect it to return. This allows us to also look at the `dtype` (data type) of arrays, as well. (Recall that in return for the structure of the numpy array, we lose the ability to have more than one type of data in each location of the array.)"
   ]
  },
  {
   "cell_type": "code",
   "execution_count": 9,
   "id": "b4c20622",
   "metadata": {
    "tags": [
     "hide-output"
    ]
   },
   "outputs": [
    {
     "name": "stdout",
     "output_type": "stream",
     "text": [
      "True\n",
      "True\n",
      "True\n",
      "True\n"
     ]
    }
   ],
   "source": [
    "a = 5\n",
    "b = 'cat'\n",
    "c = np.array([True, False, False, True, False])\n",
    "\n",
    "print(type(a) == int)          ## a should be an integer\n",
    "print(type(b) == str)          ## b should be a string\n",
    "print(type(c) == np.ndarray)   ## c should be an array\n",
    "print(c.dtype == bool)         ## and the data contained in c should be boolean!"
   ]
  },
  {
   "cell_type": "markdown",
   "id": "a67b4f90",
   "metadata": {},
   "source": [
    "### Negation of logical statements\n",
    "\n",
    "Any logical statement can be negated by using the `not` operator before the condition. This is often useful when a condition is more easily constructed to test when something is false (like when using isinstance). As an example:"
   ]
  },
  {
   "cell_type": "code",
   "execution_count": 10,
   "id": "30b7ec4e",
   "metadata": {
    "tags": [
     "hide-output"
    ]
   },
   "outputs": [
    {
     "name": "stdout",
     "output_type": "stream",
     "text": [
      "True\n",
      "True\n",
      "False\n"
     ]
    }
   ],
   "source": [
    "a = 5\n",
    "b = 'cat'\n",
    "\n",
    "print(not a == b)               ## a and b are not the same!\n",
    "print(not isinstance(a, str))   ## a is not a string\n",
    "print(not isinstance(a, int))   ## is a an integer?"
   ]
  },
  {
   "cell_type": "markdown",
   "id": "657517d4",
   "metadata": {},
   "source": [
    "We can also apply this directly to boolean variables, which is useful when you've already made a comparison and you want to use the opposite."
   ]
  },
  {
   "cell_type": "code",
   "execution_count": 11,
   "id": "ce36ae0c",
   "metadata": {
    "tags": [
     "hide-output"
    ]
   },
   "outputs": [
    {
     "name": "stdout",
     "output_type": "stream",
     "text": [
      "False\n",
      "True\n"
     ]
    }
   ],
   "source": [
    "a = 5\n",
    "b = 'cat'\n",
    "\n",
    "a_is_b = a == b\n",
    "print(a_is_b)\n",
    "print(not a_is_b)"
   ]
  },
  {
   "cell_type": "markdown",
   "id": "dcddc52d",
   "metadata": {},
   "source": [
    "### Exercises\n",
    "\n",
    "1. Write a loop that iterates through the numbers 0 to 10 and prints if they are less than 5 and/or greater than 7. (i.e. \"It is True that 4 is less than 5, and it is False that it is greater than 7.\") Recall that you can save the result of a comparison to a variable, which can more easily be formatted into a nice string.\n",
    "2. Using the remainder operator `%` (gets the remainder of division 10%4 = 2 and 10.1%10 = 0.1) print whether a given integer is even or odd.\n",
    "3. **BONUS**: Using the list `types` and the 5x5 array of random numbers `randarr` below, use [`randint`](https://numpy.org/doc/stable/reference/random/generated/numpy.random.randint.html) or [`choice`](https://numpy.org/doc/stable/reference/random/generated/numpy.random.choice.html) to randomly select an element from `types`. Convert the data in `randarr` to that type, then loop through `types`, printing whether `randarr` is a given type at each iteration.\n",
    "    ```{code-block}\n",
    "    import numpy.random as r # Remember to import your modules!\n",
    "    types = [int, float, str, bool]\n",
    "    randarr = r.rand(5, 5)\n",
    "    ```\n"
   ]
  },
  {
   "cell_type": "markdown",
   "id": "096ea45a",
   "metadata": {},
   "source": [
    "## `If`-`Else` statements\n",
    "\n",
    "We now know *how* two compare two things (in several ways), but as mentioned at the beginning, what if we want to use a logical statement to determine whether to execute other code or not? In Python, this is achieved with `if`-`else` statements. The syntax, as you will see shortly is, \"if condition is True, then do [indented code], else, do [other indented code]\".\n",
    "\n",
    "As an example, we return to evaluating the temperature:"
   ]
  },
  {
   "cell_type": "code",
   "execution_count": 12,
   "id": "4dd6cd8e",
   "metadata": {},
   "outputs": [
    {
     "name": "stdout",
     "output_type": "stream",
     "text": [
      "It's hot! 90 degrees is much too warm!\n"
     ]
    }
   ],
   "source": [
    "temperature = 90\n",
    "if temperature > 80:\n",
    "    print(\"It's hot! {} degrees is much too warm!\".format(temperature))\n",
    "else:\n",
    "    print(\"It's not hot! {} degress is great!\".format(temperature))"
   ]
  },
  {
   "cell_type": "markdown",
   "id": "81efe79b",
   "metadata": {},
   "source": [
    "Here, the logical statement `temperature > 80` is evaluated after `if` (and **followed by a colon!**). If the statement proves `True`, then the following indented code is executed, if it is `False`, then do the indented code after the `else` (which also has a **colon**).\n",
    "\n",
    "It's worth noting, that if we don't want to do something if our statement is `False`, then we can omit the `else` statement altogether. For example, I only complain if it's too hot, so maybe I only need to write:"
   ]
  },
  {
   "cell_type": "code",
   "execution_count": 13,
   "id": "04f2d944",
   "metadata": {},
   "outputs": [
    {
     "name": "stdout",
     "output_type": "stream",
     "text": [
      "It's hot! 90 degrees is much too warm!\n"
     ]
    }
   ],
   "source": [
    "temperature = 90\n",
    "if temperature > 80:\n",
    "    print(\"It's hot! {} degrees is much too warm!\".format(temperature))"
   ]
  },
  {
   "cell_type": "markdown",
   "id": "64f6400a",
   "metadata": {},
   "source": [
    "Try changing the temperature below 80 and you'll see that I have no complaints!"
   ]
  },
  {
   "cell_type": "markdown",
   "id": "aa333571",
   "metadata": {},
   "source": [
    "### Multiple conditions: `elif`\n",
    "\n",
    "Ok, so actually, I'm pretty particular about what a comfortable temperature is: there is too hot and too cold, so I want to check the temperature against two conditions before I decide to complain or not. There are several different ways that I can do this in Python.\n",
    "\n",
    "The first is that I can **nest** `if`-`else` statements, just like we saw with [loops](../04_Loops/04_Loops_Notebook):"
   ]
  },
  {
   "cell_type": "code",
   "execution_count": 14,
   "id": "17a5abce",
   "metadata": {
    "tags": [
     "hide-output"
    ]
   },
   "outputs": [
    {
     "name": "stdout",
     "output_type": "stream",
     "text": [
      "It's great! 79 degrees is perfect!\n"
     ]
    }
   ],
   "source": [
    "temperature = 79\n",
    "if temperature > 80:\n",
    "    print(\"It's hot! {} degrees is much too warm!\".format(temperature))\n",
    "else:\n",
    "    if temperature < 78:\n",
    "        print(\"It's cold! {} degrees is too cool!\".format(temperature))\n",
    "    else:\n",
    "        print(\"It's great! {} degrees is perfect!\".format(temperature))"
   ]
  },
  {
   "cell_type": "markdown",
   "id": "6ef6d3b5",
   "metadata": {},
   "source": [
    "But from this example, you may see that if I have many conditions, this could get a bit clunky (too many indents!). Instead we use the `elif` statement, which is literally a portmanteau of `else` and `if`. This statement allows us to check another condition and to further diversify our code. We can now restructure the previous code as:"
   ]
  },
  {
   "cell_type": "code",
   "execution_count": 15,
   "id": "4af7c857",
   "metadata": {
    "tags": [
     "hide-output"
    ]
   },
   "outputs": [
    {
     "name": "stdout",
     "output_type": "stream",
     "text": [
      "It's great! 79 degrees is perfect!\n"
     ]
    }
   ],
   "source": [
    "temperature = 79\n",
    "if temperature < 78:\n",
    "    print(\"It's cold! {} degrees is too cool!\".format(temperature))\n",
    "elif temperature < 80:\n",
    "    print(\"It's great! {} degrees is perfect!\".format(temperature))\n",
    "else:\n",
    "    print(\"It's hot! {} degrees is much too warm!\".format(temperature))"
   ]
  },
  {
   "cell_type": "markdown",
   "id": "f6592799",
   "metadata": {},
   "source": [
    "The way that Python executes this code is that it goes through each `if` and `elif` statement in order and executes any following code if that condition is met. If it doesn't, then it goes to the next and tries again. So in the previous example, if `temperature = 79`, then the first condition is `False`, and that section of code is skipped, then the next condition is `True`, and the code there is executed. The rest of the structure is then ignored."
   ]
  },
  {
   "cell_type": "markdown",
   "id": "adeaea69",
   "metadata": {},
   "source": [
    "### `if` vs `elif`\n",
    "\n",
    "It is worth noting again that because an `if` statement can be executed on its own, you have to pay attention to whether you need `if` statements or `elif` statements. Consider the following example, but with the `elif` replaced by `if`, and we lower the temperature a bit."
   ]
  },
  {
   "cell_type": "code",
   "execution_count": 16,
   "id": "01bc7fa9",
   "metadata": {
    "tags": [
     "hide-output"
    ]
   },
   "outputs": [
    {
     "name": "stdout",
     "output_type": "stream",
     "text": [
      "It's cold! 60 degrees is too cool!\n",
      "It's great! 60 degrees is perfect!\n"
     ]
    }
   ],
   "source": [
    "temperature = 60\n",
    "if temperature < 78:\n",
    "    print(\"It's cold! {} degrees is too cool!\".format(temperature))\n",
    "if temperature < 80:\n",
    "    print(\"It's great! {} degrees is perfect!\".format(temperature))\n",
    "else:\n",
    "    print(\"It's hot! {} degrees is much too warm!\".format(temperature))"
   ]
  },
  {
   "cell_type": "markdown",
   "id": "dfe5e8b9",
   "metadata": {},
   "source": [
    "What happened? Well, the first `if` was checked, and proved `True`, so that statement printed, but then the next line of code was another `if` statement! This statement didn't care that temperature was already checked. It did its own thing and printed that the weather is perfect!\n",
    "\n",
    "If you want **mutually exclusive cases** you must use `elif` statements, but if you are ok with multiple conditions being true, then you can use solely `if` statements."
   ]
  },
  {
   "cell_type": "markdown",
   "id": "13f49e2d",
   "metadata": {},
   "source": [
    "### What is \"true\" in Python?\n",
    "\n",
    "If you think it might seem like an odd moment to raise a philosophical question, you're right! This is not a philosophical question, but a very practical one. Back when we introduced different data types, [at one point](../02_Variables_DataTypes/Everything_to_Boolean) we used the `bool` function to convert different variables into booleans. If you were paying attention, you may have noticed some interesting results. For example:"
   ]
  },
  {
   "cell_type": "code",
   "execution_count": 17,
   "id": "9aaeb4d6",
   "metadata": {
    "tags": [
     "hide-output"
    ]
   },
   "outputs": [
    {
     "name": "stdout",
     "output_type": "stream",
     "text": [
      "True\n",
      "False\n",
      "True\n",
      "True\n",
      "\n",
      "True\n",
      "True\n",
      "True\n",
      "\n",
      "False\n",
      "\n",
      "False\n",
      "True\n",
      "\n",
      "True\n",
      "\n",
      "False\n",
      "\n",
      "False\n"
     ]
    },
    {
     "name": "stderr",
     "output_type": "stream",
     "text": [
      "/var/folders/0z/q4zqhhxd4kv0r6fzjkg8lzfr0000gn/T/ipykernel_57372/816016128.py:20: DeprecationWarning: The truth value of an empty array is ambiguous. Returning False, but in future this will result in an error. Use `array.size > 0` to check that an array is not empty.\n",
      "  print(bool(np.array([])))  ## What is the WARNING here?\n"
     ]
    },
    {
     "ename": "ValueError",
     "evalue": "The truth value of an array with more than one element is ambiguous. Use a.any() or a.all()",
     "output_type": "error",
     "traceback": [
      "\u001b[0;31m---------------------------------------------------------------------------\u001b[0m",
      "\u001b[0;31mValueError\u001b[0m                                Traceback (most recent call last)",
      "Cell \u001b[0;32mIn[17], line 21\u001b[0m\n\u001b[1;32m     19\u001b[0m \u001b[38;5;28mprint\u001b[39m()\n\u001b[1;32m     20\u001b[0m \u001b[38;5;28mprint\u001b[39m(\u001b[38;5;28mbool\u001b[39m(np\u001b[38;5;241m.\u001b[39marray([])))  \u001b[38;5;66;03m## What is the WARNING here?\u001b[39;00m\n\u001b[0;32m---> 21\u001b[0m \u001b[38;5;28mprint\u001b[39m(\u001b[38;5;28;43mbool\u001b[39;49m\u001b[43m(\u001b[49m\u001b[43mnp\u001b[49m\u001b[38;5;241;43m.\u001b[39;49m\u001b[43marange\u001b[49m\u001b[43m(\u001b[49m\u001b[38;5;241;43m10\u001b[39;49m\u001b[43m)\u001b[49m\u001b[43m)\u001b[49m) \u001b[38;5;66;03m## READ THIS ERROR MESSAGE\u001b[39;00m\n",
      "\u001b[0;31mValueError\u001b[0m: The truth value of an array with more than one element is ambiguous. Use a.any() or a.all()"
     ]
    }
   ],
   "source": [
    "print(bool(1))         ## Is the integer 1 true or false?\n",
    "print(bool(0))         ## Is 0 true or false?\n",
    "print(bool(-2))        ## What about negative numbers?\n",
    "print(bool(0.1))       ## Are floats true or false?\n",
    "print()\n",
    "print(bool('No'))      ## What about strings?\n",
    "print(bool(\"True\"))\n",
    "print(bool(\"False\"))\n",
    "print()\n",
    "print(bool(\"\"))        ## What about *empty* strings?\n",
    "print()\n",
    "print(bool([]))        ## Empty lists?\n",
    "print(bool(['a', 'b', 'c'])) ## Non-empty lists?\n",
    "print()\n",
    "print(bool([False, False, False])) ## What is the boolean version of a list of Falses?\n",
    "print()\n",
    "print(bool(None))      ## 'None' is a special type in Python indicating a \n",
    "                       ## variable with... *Nothing* inside it.\n",
    "print()\n",
    "print(bool(np.array([])))  ## What is the WARNING here?\n",
    "print(bool(np.arange(10))) ## READ THIS ERROR MESSAGE"
   ]
  },
  {
   "cell_type": "markdown",
   "id": "248f8409",
   "metadata": {},
   "source": [
    "Because of the way that Python turns other data into a `True` or `False`, we get a lot of flexibility with regards to how we can set conditions. In particular, we can use a numerical data type, like a float or an integer as a condition, where the condition will only be false if the data point is 0. Alternately, we can use lists as conditions, where the condition will only be false if the list is empty, this makes it easy to recognize when a list is empty (although we can always use `len(list) == 0` to check) and to perhaps fill it with data, or something else.\n",
    "\n",
    "It's also worth noting that while other variables convert to true and false in somewhat varied ways, `True` and `False` are always converted to numbers as `1` and `0`, respectively."
   ]
  },
  {
   "cell_type": "code",
   "execution_count": 18,
   "id": "9832809d",
   "metadata": {
    "tags": [
     "hide-output"
    ]
   },
   "outputs": [
    {
     "name": "stdout",
     "output_type": "stream",
     "text": [
      "1 0\n",
      "1.0 0.0\n"
     ]
    }
   ],
   "source": [
    "print(int(True),int(False))\n",
    "print(float(True), float(False))"
   ]
  },
  {
   "cell_type": "markdown",
   "id": "8cb473ae",
   "metadata": {},
   "source": [
    "### Exercises\n",
    "\n",
    "1. Create a list of at least 7 names. Iterate through the list and print the name if it contains an \"i\" or an \"e\", otherwise, add an \"ie\" to the end of the name and print the new name.\n",
    "2. Rewrite the above temperature example with your own temperatures and conditions. Add two more conditions and describe how you feel in those temperature ranges. These conditions can be exclusive or not, depending on how you feel about the weather!\n",
    "3. **Bonus**: Examine the following code and write down what you believe will be output (in order). Uncomment the code and see if it matches what you expect. Does the loop run as many times as you would expect? What happens to names as the loop is iterated? Use your own print statements and modifications to try and understand this. (If you're puzzled, please ask!)\n",
    "    ```{code-block}\n",
    "    names = [\"Alfred\", \"Betty\", \"Charlie\", \"Danielle\", \"Eric\", \"Fred\", \"Georgia\"]\n",
    "    # for name in names:\n",
    "    #     if len(names) > 5:\n",
    "    #         print(\"This is a great party!\")\n",
    "    #     else:\n",
    "    #         print(\"There are too few people at this party!\")\n",
    "    #     print(\"\\nOh, no! {} has left!\".format(names.pop()))\n",
    "    ```"
   ]
  },
  {
   "cell_type": "markdown",
   "id": "af3c123d",
   "metadata": {},
   "source": [
    "## Conditional expressions in loops\n",
    "\n",
    "Now that we've learned some basic conditional statements, we can start to combine them with loops to do more sophisticated tasks with iterations and iterables. First, we'll learn about the `while` loop, which will loop back over a set of instructions as long as (*while*) a logical condition is `True`. We'll also see how we can use conditional expressions to exit loops early using the `break` instruction or to skip iterations using the `continue` instruction.\n",
    "\n",
    "### `while` loops\n",
    "\n",
    "As mentioned, a [`while`](https://docs.python.org/3/reference/compound_stmts.html#while) loop is a loop that will execute its code indefinitely while a given condition is `True`. As an example:"
   ]
  },
  {
   "cell_type": "code",
   "execution_count": 19,
   "id": "4fa790ae",
   "metadata": {
    "tags": [
     "hide-output"
    ]
   },
   "outputs": [
    {
     "name": "stdout",
     "output_type": "stream",
     "text": [
      "The counter is 0\n",
      "The counter is 1\n",
      "The counter is 2\n",
      "The counter is 3\n",
      "The counter is 4\n",
      "The counter is 5\n",
      "The counter is 6\n",
      "The counter is 7\n",
      "The counter is 8\n",
      "The counter is 9\n",
      "\n",
      "The loop has finished and the counter is 10!\n"
     ]
    }
   ],
   "source": [
    "counter = 0\n",
    "while counter < 10:\n",
    "    print(\"The counter is \" + str(counter))\n",
    "    counter = counter + 1\n",
    "print(\"\\nThe loop has finished and the counter is \" + str(counter) + \"!\")"
   ]
  },
  {
   "cell_type": "markdown",
   "id": "d97d1ab7",
   "metadata": {},
   "source": [
    "In the above code, we have a variable `counter`, which is initially set to 0. Then the `while` loop is given the condition `counter < 10`, which checks if `counter` is less than 10. As long as `counter` is, in fact, less than 10, Python will execute the code inside the loop (where \"code inside the loop\" again means the indented code). In this example, this code consists of a print function and a line where we increment the value of `counter` by 1. After the loop has run 10 times, `counter` has the value 10 (as you can see at the very end) and so the `while` loop ends.\n",
    "\n",
    "It's worth noting that the condition given to the `while` loop does not need to be as simple as \"number greater/less than number\", so `while` loops can be complicated. This can make `while` loops tricky, as if a programmer is not careful, they might specify a condition which is always met, meaning that the loop will run indefinitely. If you have been using `while` loops and your code seems to be running without end, this is the first place I would look to make sure your code is running correctly. One easy way to check this is to restart the kernel (\"Kernel -> Restart\") and insert a `print` statement somewhere in your loop. If you start printing hundreds of lines then it means the loop is repeating without end!\n",
    "\n",
    "For some examples of other conditions that can be used in a `while` loop consider the following:"
   ]
  },
  {
   "cell_type": "code",
   "execution_count": 20,
   "id": "dc796694",
   "metadata": {
    "tags": [
     "hide-output"
    ]
   },
   "outputs": [
    {
     "name": "stdout",
     "output_type": "stream",
     "text": [
      "['element!'] \n",
      "\n",
      "The counter is -2\n",
      "The counter is -1\n",
      "The counter is 0\n"
     ]
    }
   ],
   "source": [
    "mylist = []\n",
    "while not mylist:          ## What is the logical statement here?\n",
    "    mylist.append(\"element!\")\n",
    "print(mylist, \"\\n\")\n",
    "\n",
    "counter = -3\n",
    "while counter:\n",
    "    counter += 1           ## Increment counter by 1\n",
    "    print(\"The counter is {}\".format(counter))"
   ]
  },
  {
   "cell_type": "markdown",
   "id": "32affb94",
   "metadata": {},
   "source": [
    "This is the main difference between `while` loops and `for` loops: `for` loops will always run a specified number of times, whether it's to the end of a `range` or through all the elements of a list. `while` loops, on the other hand, can run indefinitely. This flexibility is sometimes necessary, but also requires extra care."
   ]
  },
  {
   "cell_type": "markdown",
   "id": "23e5f117",
   "metadata": {},
   "source": [
    "### The `pass` operation\n",
    "\n",
    "It is often the case that we want to use conditions in loops to activate or deactivate pieces of code, or to exit a loop altogether. To do this, we can use the operators `pass`, `continue`, and `break`.\n",
    "\n",
    "The `pass` operation can technically be placed anywhere in Python code, and can be thought of as a placeholder for code that does nothing.  That is, when the Python interpreter encounters `pass` it says to itself \"pass along, nothing to do here.\" This is useful when you are building code and need to use indentation syntaxes like loops or `if`-`else` blocks but haven't finished the parts that go in those areas."
   ]
  },
  {
   "cell_type": "code",
   "execution_count": 21,
   "id": "13249d80",
   "metadata": {},
   "outputs": [],
   "source": [
    "for itr in range(10):\n",
    "    pass ## Note to self: insert computation script here when it's ready!\n",
    "\n",
    "if True:\n",
    "    pass ## Note to self: insert other clever code here!"
   ]
  },
  {
   "cell_type": "markdown",
   "id": "0250d53e",
   "metadata": {},
   "source": [
    "In the examples above, the `pass` allows for the code to run even though nothing is happening in the indented space. Try removing the `pass` lines to see the error message."
   ]
  },
  {
   "cell_type": "markdown",
   "id": "76b4b2db",
   "metadata": {},
   "source": [
    "### The `continue` operation\n",
    "\n",
    "The `continue` operation is similar to `pass`, but is more specifically designed for loops in that it tells the loop to skip to the next iteration of the loop, ignoring any instructions after the `continue`.  This is a sometimes useful way to allow for conditions to skip over irrelevant pieces of code quickly.  For example, in the following code we can skip over the print statement for even-valued indices."
   ]
  },
  {
   "cell_type": "code",
   "execution_count": 22,
   "id": "b2a1a049",
   "metadata": {
    "tags": [
     "hide-output"
    ]
   },
   "outputs": [
    {
     "name": "stdout",
     "output_type": "stream",
     "text": [
      "I got here and ii = 1\n",
      "I got here and ii = 3\n",
      "I got here and ii = 5\n",
      "I got here and ii = 7\n",
      "I got here and ii = 9\n"
     ]
    }
   ],
   "source": [
    "for ii in range(10):\n",
    "    if ii % 2 == 0: # What condition is this?\n",
    "        continue\n",
    "    print(\"I got here and ii = {}\".format(ii))"
   ]
  },
  {
   "cell_type": "markdown",
   "id": "ea6a7005",
   "metadata": {},
   "source": [
    "### The `break` operation\n",
    "\n",
    "The `break` operator is very useful for when you are building your code and need to catch obvious errors. The `break` operator tells the current loop to stop immediately. For example:"
   ]
  },
  {
   "cell_type": "code",
   "execution_count": 23,
   "id": "968a01ef",
   "metadata": {},
   "outputs": [
    {
     "name": "stdout",
     "output_type": "stream",
     "text": [
      "I got here and counter = 1\n",
      "I got here and counter = 3\n",
      "I got here and counter = 5\n",
      "I got here and counter = 7\n",
      "I got here and counter = 9\n",
      "I got here and counter = 11\n",
      "I got here and counter = 13\n",
      "I got here and counter = 15\n",
      "Breaking loop: this is an illegally large value for counter!\n"
     ]
    }
   ],
   "source": [
    "counter = 0\n",
    "while True: # This is a legal thing to do!\n",
    "    \n",
    "    if counter > 15:\n",
    "        print(\"Breaking loop: this is an illegally large value for counter!\")\n",
    "        break\n",
    "    \n",
    "    counter += 1 # This increments counter by 1\n",
    "        \n",
    "    if counter % 2 == 0:\n",
    "        continue\n",
    "    print(\"I got here and counter = {}\".format(counter))"
   ]
  },
  {
   "cell_type": "markdown",
   "id": "c1e5c780",
   "metadata": {},
   "source": [
    "In this example, we used the `break` operator to stop the loop when the `counter` got too large.  This is often useful when you're testing code, where it is good practice to make sure your loop can run one time (then just a few times) before running it many times."
   ]
  },
  {
   "cell_type": "markdown",
   "id": "d59b3f59",
   "metadata": {},
   "source": [
    "### Exercises\n",
    "\n",
    "1. In the previous example move the line `counter += 1` after the `if` statement. Run the cell and examine what happens. Hint: recall that you can interrupt the kernel from the \"Kernel\" menu and use print statements liberally to examine how counter is (or isn't) changing.\n",
    "2. Finish the following code to use only `idx` and `counter` to transform `myarr` from all zeros to resemble `np.arange(10) = [0, 1, 2, 3, 4, 5, 6, 7, 8, 9]`. Use descriptive `print` statements to narrate the process. You may modify the conditions under which each `while` loop is broken, but you may not change the way that `idx` and `counter` are incremented.\n",
    "    ```{code-block}\n",
    "    myarr = np.zeros(10)\n",
    "    idx = 0\n",
    "    while True:\n",
    "        counter = 0\n",
    "        while True:\n",
    "            counter += 1\n",
    "            break\n",
    "        idx += 1\n",
    "        break\n",
    "    ```"
   ]
  },
  {
   "cell_type": "markdown",
   "id": "c71e50da",
   "metadata": {},
   "source": [
    "## Conditional statements involving arrays\n",
    "\n",
    "### Broadcasting logical comparisons\n",
    "\n",
    "As we noted in the previous section on loops, and when we introduced arrays, it is often desirable to work with arrays because we can apply operations directly to the entire array via broadcasting. Thankfully, logical statements work similarly to other operations on arrays, with a few important distinctions. First let's look at what happens when we compare an array to a number:"
   ]
  },
  {
   "cell_type": "code",
   "execution_count": 24,
   "id": "572c8b21",
   "metadata": {
    "tags": [
     "hide-output"
    ]
   },
   "outputs": [
    {
     "name": "stdout",
     "output_type": "stream",
     "text": [
      "[[0.08834849 0.34633097 0.74297876 0.12261423 0.54424755 0.02182094]\n",
      " [0.02033952 0.39241028 0.75143775 0.78818345 0.38152029 0.83267967]\n",
      " [0.63906079 0.02650546 0.87103704 0.31557267 0.82409303 0.51241589]]\n",
      "[[False False  True False  True False]\n",
      " [False False  True  True False  True]\n",
      " [ True False  True False  True  True]]\n"
     ]
    }
   ],
   "source": [
    "import numpy.random as r\n",
    "\n",
    "myarr = r.rand(3, 6)\n",
    "print(myarr)\n",
    "print(myarr > 0.5)"
   ]
  },
  {
   "cell_type": "markdown",
   "id": "d30c12de",
   "metadata": {},
   "source": [
    "Here, we can see that the result of the comparison is an array of *booleans* corresponding to whether the element of `myarr` at that location satisfies the logical statement. In this case, all the elements that are greater than 0.5 return an element of `True`, while the others return `False`. Since `True` gets converted to 1 when considered numerically by Python (see 5.3.3 above), we can easily recover the number of elements greater than 0.5 using `np.sum`."
   ]
  },
  {
   "cell_type": "code",
   "execution_count": 25,
   "id": "fe9e1002",
   "metadata": {
    "tags": [
     "hide-output"
    ]
   },
   "outputs": [
    {
     "name": "stdout",
     "output_type": "stream",
     "text": [
      "There are 9 elements larger than 0.5 in `myarr`\n"
     ]
    }
   ],
   "source": [
    "bigger_than_half = myarr > 0.5  ## Remember that we can save the output of conditional expressions\n",
    "\n",
    "# print(bigger_than_half.astype(int)) ## Uncomment to see what np.sum is adding up!\n",
    "num_bigger = np.sum(bigger_than_half)\n",
    "\n",
    "print(\"There are {} elements larger than 0.5 in `myarr`\".format(num_bigger))"
   ]
  },
  {
   "cell_type": "markdown",
   "id": "d1e17901",
   "metadata": {},
   "source": [
    "### Using booleans as a \"mask\"\n",
    "\n",
    "Perhaps one of the most useful applications of conditional expressions is to generate boolean arrays called **masks** that allow for the fast selection of elements from an array that meet a given criteria. For example, in the previous subsection, we showed how we could identify which elements of a random array are larger than 0.5, but what if I wanted to do something to all those elements, like set them to zero. Instead of having to loop through the array and test each element, I can use the boolean array resulting from the logical statement as a mask to operate only on the elements corresponding to `True`. What this looks like is this:"
   ]
  },
  {
   "cell_type": "code",
   "execution_count": 26,
   "id": "eb33116e",
   "metadata": {
    "tags": [
     "hide-output"
    ]
   },
   "outputs": [
    {
     "name": "stdout",
     "output_type": "stream",
     "text": [
      "[[0.0960576  0.05002525 0.49995487 0.45680717 0.01477684 0.07320999]\n",
      " [0.17796118 0.10693363 0.24568641 0.86618142 0.96855944 0.65280118]\n",
      " [0.73349931 0.97413276 0.77609006 0.00654043 0.8322657  0.97253492]] \n",
      "\n",
      "[0.86618142 0.96855944 0.65280118 0.73349931 0.97413276 0.77609006\n",
      " 0.8322657  0.97253492] \n",
      "\n",
      "[[0.0960576  0.05002525 0.49995487 0.45680717 0.01477684 0.07320999]\n",
      " [0.17796118 0.10693363 0.24568641 0.         0.         0.        ]\n",
      " [0.         0.         0.         0.00654043 0.         0.        ]]\n"
     ]
    }
   ],
   "source": [
    "myarr = r.rand(3, 6)\n",
    "print(myarr, \"\\n\")\n",
    "\n",
    "mask_half = myarr >= 0.5\n",
    "print(myarr[mask_half], \"\\n\") # What is printed out here?  What shape is it?\n",
    "\n",
    "myarr[mask_half] = 0. # Note the syntax here, I use the [] because I am\n",
    "print(myarr)          # *selecting* the elements that are True, then I am\n",
    "                      # assigning those elements of the array to be 0."
   ]
  },
  {
   "cell_type": "markdown",
   "id": "be8fa668",
   "metadata": {},
   "source": [
    "Note the syntax of the above construction. We first create the mask, which I advise you to look at, and then we use it as a *selector* using the `[]` syntax to indicate that we would like to select the elements where the mask is `True`. We can then use this construction to perform operations (above we showed assignment) on just the masked elements. Here we told Python to set all the values bigger than 0.5 to 0."
   ]
  },
  {
   "cell_type": "code",
   "execution_count": 27,
   "id": "519e4000",
   "metadata": {
    "tags": [
     "hide-output"
    ]
   },
   "outputs": [
    {
     "name": "stdout",
     "output_type": "stream",
     "text": [
      "[[0.09133313 0.262279   0.62969971 0.79027751 0.45558703]\n",
      " [0.28026296 0.03493985 0.60661128 0.04839983 0.12816552]\n",
      " [0.71857893 0.29562952 0.34581594 0.78080739 0.88141316]]\n",
      "\n",
      "[[-2.39324165 -1.33834645 12.58890209 12.71054857 -0.78616853]\n",
      " [-1.27202696 -3.35412741 12.57008662 -3.02825895 -2.05443274]\n",
      " [12.65831564 -1.21864822 -1.0618486  12.70385318 12.77163851]]\n"
     ]
    }
   ],
   "source": [
    "myarr = r.rand(3, 5)\n",
    "print(myarr)\n",
    "\n",
    "## Find values of myarr bigger than 0.5\n",
    "mask_half = myarr >= 0.5\n",
    "print()\n",
    "\n",
    "## Set all values bigger than 0.5 to 12 + sin(values)\n",
    "myarr[mask_half] = 12 + np.sin(myarr[mask_half])\n",
    "\n",
    "## Find values of myarr < 1\n",
    "mask_small = myarr < 1\n",
    "\n",
    "## Set these values equal to their logarithm\n",
    "myarr[mask_small] = np.log(myarr[mask_small])\n",
    "print(myarr)"
   ]
  },
  {
   "cell_type": "markdown",
   "id": "a203a9f7",
   "metadata": {},
   "source": [
    "### Finding where (at what index) a condition is met\n",
    "\n",
    "It is also often useful to identify where, in an indexing sense, a certain condition is met within an array. For example, if we have a time-series measurement of some quantity, maybe we aren't interested in knowing whether a given instant had a measurement above some threshold, but we want to know *when* the measurement is above the threshold. In this case, we would want to identify where the measurement meets our criteria, and then look at the corresponding location in our time-array.\n",
    "\n",
    "We can do this in several ways. First, following the example of the timeseries, we can generate a mask as in the previous subsection, and then apply that mask to the time-array."
   ]
  },
  {
   "cell_type": "code",
   "execution_count": 28,
   "id": "6e05f36a",
   "metadata": {
    "tags": [
     "hide-output"
    ]
   },
   "outputs": [
    {
     "name": "stdout",
     "output_type": "stream",
     "text": [
      "[1.27 1.28 1.34 1.35 1.38 1.41 1.42 1.44 1.46 1.48 1.49 1.51 1.52 1.53\n",
      " 1.54 1.55 1.56 1.58 1.59 1.6  1.61 1.65 1.66 1.67 1.68 1.72 1.73 1.74\n",
      " 1.75 1.79 1.82 1.83 1.94]\n"
     ]
    },
    {
     "data": {
      "image/png": "[encoded data removed]",
      "text/plain": [
       "<Figure size 640x480 with 1 Axes>"
      ]
     },
     "metadata": {},
     "output_type": "display_data"
    }
   ],
   "source": [
    "import matplotlib.pyplot as plt\n",
    "\n",
    "times = np.arange(0, 6, 0.01)  ## 0 to 6 seconds in 0.01 second steps?\n",
    "\n",
    "signal = np.sin(times)\n",
    "noise =  0.2 * r.rand(len(times))\n",
    "data = signal + noise\n",
    "\n",
    "plt.plot(times, data) ## We'll learn about plotting soon!\n",
    "\n",
    "times_when_sin_large = times[data > 1.1] # Apply mask directly to times\n",
    "print(times_when_sin_large)"
   ]
  },
  {
   "cell_type": "markdown",
   "id": "f44cda05",
   "metadata": {},
   "source": [
    "Alternately, we can use the functions `np.nonzero` or `np.where` to directly obtain the indices at which a condition is true."
   ]
  },
  {
   "cell_type": "code",
   "execution_count": 29,
   "id": "84859f05",
   "metadata": {
    "tags": [
     "hide-output"
    ]
   },
   "outputs": [
    {
     "name": "stdout",
     "output_type": "stream",
     "text": [
      "(array([127, 128, 134, 135, 138, 141, 142, 144, 146, 148, 149, 151, 152,\n",
      "       153, 154, 155, 156, 158, 159, 160, 161, 165, 166, 167, 168, 172,\n",
      "       173, 174, 175, 179, 182, 183, 194]),) \n",
      "\n",
      "(array([127, 128, 134, 135, 138, 141, 142, 144, 146, 148, 149, 151, 152,\n",
      "       153, 154, 155, 156, 158, 159, 160, 161, 165, 166, 167, 168, 172,\n",
      "       173, 174, 175, 179, 182, 183, 194]),)\n"
     ]
    },
    {
     "data": {
      "image/png": "[encoded data removed]",
      "text/plain": [
       "<Figure size 640x480 with 1 Axes>"
      ]
     },
     "metadata": {},
     "output_type": "display_data"
    }
   ],
   "source": [
    "inds1 = np.where(data>1.1)\n",
    "print(inds1, \"\\n\")\n",
    "\n",
    "inds2 = np.nonzero(data>1.1)\n",
    "print(inds2)\n",
    "\n",
    "_ = plt.scatter(times, data, s=2)\n",
    "_ = plt.scatter(times[inds1], data[inds2], c='r', s=5, zorder=2)"
   ]
  },
  {
   "cell_type": "markdown",
   "id": "7b99ba02",
   "metadata": {},
   "source": [
    "Note the structure of the output of `nonzero` and `where`; they put an array of indices inside a **tuple** (which is another data structure like lists).\n",
    "\n",
    "Once we have these indices, we can then use them, as shown in the figure, to select only the data that correspond to our condition. In this case, we used the indices in `inds1` to place red dots on the measurements with `data` > 1.1."
   ]
  },
  {
   "cell_type": "markdown",
   "id": "a3a16d56",
   "metadata": {},
   "source": [
    "### Exercises\n",
    "\n",
    "1. Create a \"timeseries\" similar to that in the example except using `np.cos` instead of sine. Use `where` or `nonzero` to find when (at what time) the maximum and minimum of the timeseries is achieved. Then look up the functions `np.argmax` and `np.argmin` and try those.\n",
    "2. Create a timeseries using the formula $y = \\cos(t)\\times \\sin(t)$, where $t\\in[0, 2\\pi]$. Choose a timestep sufficient to get reasonable resolution of the function. Approximate the slope of the function using a simple forward difference (calculate the slope between each pair of neighboring points). Find the location(s) of the largest positive and negative slopes. (**BONUS**): try using a central difference or other higher order methods (coefficients [here](https://en.wikipedia.org/wiki/Finite_difference_coefficient)) and see if the locations of the slopes change. What happens if you add noise as in the examples above?\n",
    "3. Consider the following dataset. Find the mean, median, and mode of the data that have a value greater than 0.\n",
    "    ```{code-block}\n",
    "    import numpy.random as r\n",
    "    mu = 0.5\n",
    "    data = r.poisson(mu, size=20000)\n",
    "    ```"
   ]
  },
  {
   "cell_type": "markdown",
   "id": "41c6248c",
   "metadata": {},
   "source": [
    "## Multiple logical comparisons\n",
    "\n",
    "\n",
    "### The `and` and `or` operators\n",
    "\n",
    "Often, we need data to meet multiple conditions; maybe we need to look at data that is within a certain range (e.g. larger than `a`, but smaller than `b`). Rather than using multiple `if`-`else` structures, we can use the logical operators `and` and `or` to accomplish this.\n",
    "\n",
    "If you are not familiar with logical `and` and `or`, they work as follows: `a and b` returns `True` only if *both* `a` and `b` are true, otherwise it returns `False`. On the other hand, `a or b` returns `True` if *either* `a` or `b` is true (or if both of them are true), and returns `False` only if both are false. As an example:"
   ]
  },
  {
   "cell_type": "code",
   "execution_count": 30,
   "id": "20a64d84",
   "metadata": {},
   "outputs": [
    {
     "name": "stdout",
     "output_type": "stream",
     "text": [
      "False\n",
      "True\n",
      "\n",
      "False\n",
      "True\n",
      "True\n",
      "True\n"
     ]
    }
   ],
   "source": [
    "a = True\n",
    "b = False\n",
    "print(a and b)\n",
    "print(a or b)\n",
    "print()   ## This just makes an empty line.\n",
    "\n",
    "cat = 'cat'\n",
    "dog = 'dog'\n",
    "catdog = cat + dog\n",
    "print(('cat' in cat) and ('cat' in dog))\n",
    "print(('cat' in cat) or ('cat' in dog))\n",
    "print(('cat' in cat) and ('cat' in catdog))\n",
    "print(('cat' in cat) or ('cat' not in dog)) # Remember how to NEGATE things"
   ]
  },
  {
   "cell_type": "markdown",
   "id": "17a00024",
   "metadata": {},
   "source": [
    "### Bitwise logical operators\n",
    "\n",
    "If we want to use boolean arrays to create a more complex mask for an array, we can use **bitwise operators**, which will operate element-wise on our arrays. The bitwise operator for logical and is denoted `&`, and logical or is `|`. The logical negation operator is `~`. As an example:"
   ]
  },
  {
   "cell_type": "code",
   "execution_count": 31,
   "id": "0e9a4e48",
   "metadata": {},
   "outputs": [
    {
     "name": "stdout",
     "output_type": "stream",
     "text": [
      "[11 12 13 14 15 16 17 18 19]\n",
      "[ 0  1  2  3  4  5  6  7  8  9 10 20 21 22 23 24 25 26 27 28 29]\n"
     ]
    },
    {
     "ename": "ValueError",
     "evalue": "The truth value of an array with more than one element is ambiguous. Use a.any() or a.all()",
     "output_type": "error",
     "traceback": [
      "\u001b[0;31m---------------------------------------------------------------------------\u001b[0m",
      "\u001b[0;31mValueError\u001b[0m                                Traceback (most recent call last)",
      "Cell \u001b[0;32mIn[31], line 16\u001b[0m\n\u001b[1;32m     13\u001b[0m not_in_range \u001b[38;5;241m=\u001b[39m (\u001b[38;5;241m~\u001b[39mbigger_than_10) \u001b[38;5;241m|\u001b[39m (\u001b[38;5;241m~\u001b[39mless_than_20)\n\u001b[1;32m     14\u001b[0m \u001b[38;5;28mprint\u001b[39m(nums[not_in_range])\n\u001b[0;32m---> 16\u001b[0m also_in_range \u001b[38;5;241m=\u001b[39m \u001b[43mbigger_than_10\u001b[49m\u001b[43m \u001b[49m\u001b[38;5;129;43;01mand\u001b[39;49;00m\u001b[43m \u001b[49m\u001b[43mless_than_20\u001b[49m \u001b[38;5;66;03m## What is the error message?\u001b[39;00m\n",
      "\u001b[0;31mValueError\u001b[0m: The truth value of an array with more than one element is ambiguous. Use a.any() or a.all()"
     ]
    }
   ],
   "source": [
    "nums = np.arange(30)\n",
    "\n",
    "## Get the numbers larger than 10\n",
    "bigger_than_10 = nums > 10\n",
    "## and less than 20\n",
    "less_than_20 = nums < 20\n",
    "\n",
    "## Using the \"and\" to get the indices that are in the range (10, 20)\n",
    "in_range = bigger_than_10 & less_than_20\n",
    "print(nums[in_range])\n",
    "\n",
    "## We can use the negation and or operators to get the rest!\n",
    "not_in_range = (~bigger_than_10) | (~less_than_20)\n",
    "print(nums[not_in_range])\n",
    "\n",
    "also_in_range = bigger_than_10 and less_than_20 ## What is the error message?"
   ]
  },
  {
   "cell_type": "markdown",
   "id": "918f7724",
   "metadata": {},
   "source": [
    "```{note}\n",
    "Note that we use parentheses to contain different logical statements. The use of parentheses to denote the order of operations persists with logical comparisons. That is, it is much easier to understand `(a < 10) and (b > 20)` than it is `a < 10 and b > 20`. In the first statement, it is clear that you are first comparing `a` to 10 and `b` to 20, *then* comparing those results. In the second statement, it is not clear what is being compared first. Parentheses are useful for making code readable and reducing mistakes.\n",
    "```"
   ]
  },
  {
   "cell_type": "markdown",
   "id": "e9abe713",
   "metadata": {},
   "source": [
    "### `any` and `all`\n",
    "\n",
    "Following the suggestion of the error message at the end of the previous example, let us examine the functions `any` and `all`. These functions look at a mask (boolean array) and return `True` or `False` if any/all of the elements of the array are True, depending on which function you are using.\n",
    "\n",
    "These are often very useful for quality checking your data. For example, let's say that you have performed a calculation and you think that the resulting array should contain only positive numbers. You could then use `all(data > 0)` to decide whether to continue or to print a warning. On the other hand, let's say you're running a random simulation where a certain outcome is not guaranteed, you might only continue your program if some of your data meet that condition, i.e. `any(data == outcome)` returns `True`."
   ]
  },
  {
   "cell_type": "code",
   "execution_count": 32,
   "id": "b95b2b6d",
   "metadata": {},
   "outputs": [
    {
     "name": "stdout",
     "output_type": "stream",
     "text": [
      "It is True that some of 'nums' are bigger than 0.5.\n",
      "It is False that all of 'nums' are bigger than 0.5.\n"
     ]
    }
   ],
   "source": [
    "nums = r.rand(10)\n",
    "\n",
    "are_any_larger = any(nums > 0.5)\n",
    "print(f\"It is {are_any_larger} that some of 'nums' are bigger than 0.5.\")\n",
    "\n",
    "are_all_larger = all(nums > 0.5)\n",
    "print(f\"It is {are_all_larger} that all of 'nums' are bigger than 0.5.\")"
   ]
  },
  {
   "cell_type": "markdown",
   "id": "f94f6acc",
   "metadata": {},
   "source": [
    "### Exercises\n",
    "\n",
    "1. Use the noisy sine wave data from from the earlier example and determine whether any or all of the signal is less than 0 for times greater than 3.\n",
    "2. Consider `myarr = r.rand(3, 6)`. Using a loop and an `if`-`else` block, print out the elements smaller than 0.65 and set them equal to 12."
   ]
  },
  {
   "cell_type": "code",
   "execution_count": null,
   "id": "9da31687",
   "metadata": {},
   "outputs": [],
   "source": []
  }
 ],
 "metadata": {
  "celltoolbar": "Tags",
  "kernelspec": {
   "display_name": "Python 3 (ipykernel)",
   "language": "python",
   "name": "python3"
  },
  "language_info": {
   "codemirror_mode": {
    "name": "ipython",
    "version": 3
   },
   "file_extension": ".py",
   "mimetype": "text/x-python",
   "name": "python",
   "nbconvert_exporter": "python",
   "pygments_lexer": "ipython3",
   "version": "3.11.0"
  }
 },
 "nbformat": 4,
 "nbformat_minor": 5
}
