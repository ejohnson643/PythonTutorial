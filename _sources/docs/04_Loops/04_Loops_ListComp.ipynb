{
 "cells": [
  {
   "cell_type": "markdown",
   "id": "96c42d66",
   "metadata": {},
   "source": [
    "# List comprehensions\n",
    "\n",
    "The loops presented in the previous part of this chapter are fundamental operations that are common in most programming languages. Their syntax and usage at this point is hopefully somewhat simple to understand, and you can get by perfectly well using them in 99\\% of situations.  However, in Python, there is a somewhat odd way of wrapping up the `for` loop structure into a list as a method for easily creating a list that contains the results of simple calculations performed in an iteration.\n",
    "\n",
    "Consider the following situation: you want to generate a list containing the cube root of each number in a list. We could do this using a `for` loop as below:"
   ]
  },
  {
   "cell_type": "code",
   "execution_count": 6,
   "id": "457885e6",
   "metadata": {},
   "outputs": [
    {
     "name": "stdout",
     "output_type": "stream",
     "text": [
      "The cube root of 1 is 1.0000\n",
      "The cube root of 2 is 1.2599\n",
      "The cube root of 3 is 1.4422\n",
      "The cube root of 4 is 1.5874\n",
      "The cube root of 5 is 1.7100\n",
      "The cube root of 6 is 1.8171\n",
      "The cube root of 7 is 1.9129\n"
     ]
    }
   ],
   "source": [
    "mylist = [1, 2, 3, 4, 5, 6, 7]\n",
    "cube_roots = []\n",
    "\n",
    "for element in mylist:\n",
    "    root = element ** (1 / 3)\n",
    "    cube_roots.append(root)\n",
    "    \n",
    "    print(f\"The cube root of {element} is {root:.4f}\")"
   ]
  },
  {
   "cell_type": "markdown",
   "id": "f6f6a786",
   "metadata": {},
   "source": [
    "But this is somewhat of a lot of effort just to create this new list.  We could of course make use of numpy's abilities to do this more simply with `cube_roots = np.power(mylist, 1/3)`, but sometimes using an array is not possible, or we need to use a list.  This is where the list comprehension allows us to compact this loop into one line:"
   ]
  },
  {
   "cell_type": "code",
   "execution_count": 7,
   "id": "8f582c53",
   "metadata": {},
   "outputs": [
    {
     "name": "stdout",
     "output_type": "stream",
     "text": [
      "[1.0, 1.2599210498948732, 1.4422495703074083, 1.5874010519681994, 1.7099759466766968, 1.8171205928321397, 1.912931182772389]\n"
     ]
    }
   ],
   "source": [
    "mylist = [1, 2, 3, 4, 5, 6, 7]\n",
    "cube_roots = [el ** (1 / 3) for el in mylist]\n",
    "print(cube_roots)"
   ]
  },
  {
   "cell_type": "markdown",
   "id": "966a8db2",
   "metadata": {},
   "source": [
    "To unpack this, we can understand the basic syntax as\n",
    "```{code-block}\n",
    "[*instructions* for *element* in *iterable*]\n",
    "```\n",
    "So in the example above, the *instructions* were `el ** (1 / 3)`, the *element* was a variable we called `el` and the *iterable* was `mylist`.  These instructions can typically be of any complexity as long as they don't involve Python's multiline syntax - you can't insert a regular `for` loop, for example.  The elements and iterables can be just as complicated as in regular loops, but the basic syntax will remain the same.  Consider for example:"
   ]
  },
  {
   "cell_type": "code",
   "execution_count": 9,
   "id": "872c95b0",
   "metadata": {},
   "outputs": [
    {
     "name": "stdout",
     "output_type": "stream",
     "text": [
      "[1.0, 1.4142135623730951, 1.4422495703074083, 1.4142135623730951, 1.379729661461215, 1.3480061545972777, 1.3204692477561237, 1.2968395546510096, 1.2765180070092417, 1.2589254117941673]\n"
     ]
    }
   ],
   "source": [
    "mylist = [1, 2, 3, 4, 5, 6, 7, 8, 9, 10]\n",
    "newlist = [el ** (1 / (idx + 1)) for (idx, el) in enumerate(mylist)]\n",
    "print(newlist)"
   ]
  },
  {
   "cell_type": "markdown",
   "id": "92cfde1e",
   "metadata": {},
   "source": [
    "Here we have created a list that contains the elements of `mylist` each raised to the power of $1 / (`idx` + 1)$, where `idx` is the index location of the element in `mylist`.  That is, this example made use of the `enumerate` function that we've previously seen in the [section on loops](./04_Loops_Notebook), and we were then able to create a variable for both the element and its index within the list comprehension.\n",
    "\n",
    "There are more modifications that can be made to list comprehensions, but this should serve as a sufficient introduction.  For more information, I recommend [this page](https://www.w3schools.com/python/python_lists_comprehension.asp) for some other simple examples.  Otherwise, feel free to continue on to the section on [conditional expressions](../05_ConditionalStatements/05_ConditionalStatements_Notebook)."
   ]
  },
  {
   "cell_type": "code",
   "execution_count": null,
   "id": "1fd47943",
   "metadata": {},
   "outputs": [],
   "source": []
  }
 ],
 "metadata": {
  "kernelspec": {
   "display_name": "Python 3 (ipykernel)",
   "language": "python",
   "name": "python3"
  },
  "language_info": {
   "codemirror_mode": {
    "name": "ipython",
    "version": 3
   },
   "file_extension": ".py",
   "mimetype": "text/x-python",
   "name": "python",
   "nbconvert_exporter": "python",
   "pygments_lexer": "ipython3",
   "version": "3.11.0"
  }
 },
 "nbformat": 4,
 "nbformat_minor": 5
}
