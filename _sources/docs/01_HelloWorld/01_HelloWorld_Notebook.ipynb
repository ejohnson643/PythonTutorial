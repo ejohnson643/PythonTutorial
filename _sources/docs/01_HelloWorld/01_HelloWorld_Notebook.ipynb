{
 "cells": [
  {
   "cell_type": "markdown",
   "id": "ba353c5b-e11b-49d9-bfca-3b1e1c7b7955",
   "metadata": {},
   "source": [
    "# Hello World!\n",
    "\n",
    "To begin your Python journey, open a new Jupyter notebook, either from the [Anaconda Navigator](https://docs.anaconda.com/anaconda/navigator) or from the [command line](https://docs.anaconda.com/anaconda/user-guide/getting-started/#optional-launch-spyder-or-jupyter-notebook-from-the-command-line) (for beginners, I strongly recommend the Navigator).  Recall that once you have launched the Jupyter Notebook from the Anaconda Navigator (or command line), it will bring you to the Notebook Dashboard, where you can open a new notebook by selecting ``New -> Python 3`` from the dropdown menu on the top right.  Your new notebook should look something like this:\n",
    "\n",
    "```{image} ./Resources/ExampleBlankNotebook.png\n",
    ":height: 200px\n",
    ":align: center\n",
    "```\n",
    "\n",
    "If you have any additional questions, look [here](https://jupyter-notebook.readthedocs.io/en/stable/examples/Notebook/Notebook%20Basics.html) or ask Google!"
   ]
  },
  {
   "cell_type": "markdown",
   "id": "a6bd3db2-bf6d-4070-bfc5-26621879bb75",
   "metadata": {},
   "source": [
    "## Your first program\n",
    "\n",
    "To execute your first Python command, click on the grey box with a blue bar to the left as shown below.  This is known as a **cell**, and it is where you will enter your Python commands.\n",
    "\n",
    "```{image} ./Resources/ExampleBlankNotebook_Cell.png\n",
    ":height: 50px\n",
    ":align: center\n",
    "```\n",
    "\n",
    "In the cell, type ``print(\"Hello World!\")`` and then hold ``shift`` and hit ``enter`` (or hit &#8984; + ``enter`` ).  You should now see:\n",
    "\n",
    "```{image} ./Resources/MyFirstCommand_Jupyter.png\n",
    ":height: 100px\n",
    ":align: center\n",
    "```\n",
    "\n",
    "Congratulations!  If all has gone well, you have now executed your first Python command and your computer has greeted the world!  \n",
    "\n",
    "In some ways, this is all there is to programming: you type some commands, hit ``shift + enter``, and something happens!  In Jupyter we use the cells to break up the code into chunks and we can execute those chunks independently.  We'll explore this more shortly, but you should test this yourself by typing something else into the new cell that popped up (Try ``print(\"Hello Computer!\")``).\n",
    "\n",
    "The difficulty then comes in learning Python's commands and syntax in order to put down code that means something.  The [`print`](https://docs.python.org/3/library/functions.html#print) command that you just entered is an example of a Python **function**.  Functions are ubiquitous in Python as they are how we wrap up useful actions like [`sum`](https://docs.python.org/3/library/functions.html#sum) to add up numbers or [`sorted`](https://docs.python.org/3/library/functions.html#sorted) to put items in order.  We'll learn all about Python's builtin functions and in [section 7](../06_Functions/06_Functions), you will learn to write your own!\n",
    "\n",
    "In general, the syntax for a Python function is ``func(args)``, where the function ``func`` takes in ``args`` as inputs.  The inputs to a function are called **arguments**, hence the name ``args``.  The ``func`` function then does some prescribed actions involving ``args`` to do something.  The parentheses indicate that you are invoking ``func`` on the stuff inside the parentheses (``args``), and if you see this syntax - ``something_new(some_stuff)``, for example - you can safely assume that ``something_new`` is a function.  This is your first introduction to Python's **syntax**, i.e. its \"grammar\", for how we tell it to do things.  Getting a handle on syntax is something that will come with time, but I'll try to point it out whenever something new is happening.\n",
    "\n",
    "As a final note, another very useful function is the `help` function.  If you discover a new function, you can feed it to `help` as an input (``help(mystery_func)``) and the function's **documentation** will be shown.  Part of the Python ethos is to strongly encourage documentation of everything, and there are [guidelines](https://www.python.org/dev/peps/pep-0008) for how they should be written so that you can always follow along."
   ]
  },
  {
   "cell_type": "markdown",
   "id": "b84212b9-b8ac-4f55-98ce-23313ff8f6db",
   "metadata": {},
   "source": [
    "### The [`print`](https://docs.python.org/3/library/functions.html#print) function\n",
    "\n",
    "In the case of ``print(\"Hello World!\")``, the input is ``\"Hello World!\"`` and the ``print`` function \"prints\" the input to the screen, which is why we see ``Hello World`` below the first cell.  In general, Python does not display everything to the user, so the [`print`](https://docs.python.org/3/library/functions.html#print) function is a **SUPER USEFUL** way to keep track of what is going on in your code.  Throughout this tutorial, we will liberally use [`print`](https://docs.python.org/3/library/functions.html#print) to make sure that we know what is going on in our codes.\n",
    "\n",
    "As we'll see shortly, Jupyter notebooks automatically \"print\" the last line of any cell, making ``print`` somewhat redundant, but since we'll often want to look at more than one thing per cell, we'll keep [`print`](https://docs.python.org/3/library/functions.html#print) at the top of the toolbox."
   ]
  },
  {
   "cell_type": "markdown",
   "id": "37fabc82-c1c6-486d-8020-d6fdcfeaf467",
   "metadata": {},
   "source": [
    "## Python as a Calculator\n",
    "\n",
    "Some of the most basic things that computers can do are to do basic arithmetic, and Python allows easy access to this computer-as-calculator power via the **operations** ``+``, ``-``, ``*``, ``/``, and ``**``.  To see this in action, type and execute the following in a new cell:"
   ]
  },
  {
   "cell_type": "code",
   "execution_count": null,
   "id": "e3dd2425-17be-471b-82a3-8af16cff9ab5",
   "metadata": {
    "tags": [
     "hide-output"
    ]
   },
   "outputs": [],
   "source": [
    "print(2 + 2)\n",
    "print(4 - 7)\n",
    "print(7 * 32.46)\n",
    "print(3 / 2.2)\n",
    "print(3 ** 2)"
   ]
  },
  {
   "cell_type": "markdown",
   "id": "7efd51a2-e282-429b-8f3c-b630c4c82e65",
   "metadata": {},
   "source": [
    "````{margin}\n",
    "```{admonition} Discussion\n",
    "Try removing the ``print`` function and just entering ``2+2``, for example.  What happens?\n",
    "```\n",
    "````\n",
    "\n",
    "You should see the correct results of the addition, subtraction, multiplication, division, and exponentiation of these numbers.  Notice that Python has no problem with decimals or negative numbers.  \n",
    "\n",
    "You can also use parentheses as we're used to in algebra to indicate correct order of operations.  For example execute the following:"
   ]
  },
  {
   "cell_type": "code",
   "execution_count": null,
   "id": "db11616a-0b7a-4346-9ac6-5be05d7c1d19",
   "metadata": {
    "tags": [
     "hide-output"
    ]
   },
   "outputs": [],
   "source": [
    "print((2 + 22)/3)\n",
    "print(2 + 22/3)"
   ]
  },
  {
   "cell_type": "markdown",
   "id": "44b77616-b7e8-4566-951d-e2e7b37605b0",
   "metadata": {},
   "source": [
    "Now that we've explored the basic functionality of Jupyter notebooks and Python scripts, take a crack at the following exercises:"
   ]
  },
  {
   "cell_type": "markdown",
   "id": "a2a18cdf-2452-4875-8124-1b9a277b7e9c",
   "metadata": {},
   "source": [
    "## Exercise 2.1\n",
    "\n",
    "1. Use [`help`](https://docs.python.org/3/library/functions.html#help) to read the documentation for [`print`](https://docs.python.org/3/library/functions.html#print).\n",
    "2. Select a notebook cell and hit ``esc`` to enter [Command Mode](https://jupyter-notebook.readthedocs.io/en/stable/examples/Notebook/Notebook%20Basics.html#Command-mode) (the left edge of the cell should turn blue).  Hit `h` on your keyboard to bring up the keyboard shortcuts!  These are great shortcuts to improve your Jupyter experience.  The opposite of command mode is [Edit Mode](https://jupyter-notebook.readthedocs.io/en/stable/examples/Notebook/Notebook%20Basics.html#Edit-mode) (the cell will have a green edge) and is where you can enter commands and run code.\n",
    "3. Use Python to compute the result of dividing 42 by the sum of 3.1415 and 1.618.  Also, square this result.  Make sure to print everything!"
   ]
  },
  {
   "cell_type": "code",
   "execution_count": null,
   "id": "c7f3aab6-227e-4654-8ded-797417464b78",
   "metadata": {},
   "outputs": [],
   "source": []
  }
 ],
 "metadata": {
  "kernelspec": {
   "display_name": "Python 3 (ipykernel)",
   "language": "python",
   "name": "python3"
  },
  "language_info": {
   "codemirror_mode": {
    "name": "ipython",
    "version": 3
   },
   "file_extension": ".py",
   "mimetype": "text/x-python",
   "name": "python",
   "nbconvert_exporter": "python",
   "pygments_lexer": "ipython3",
   "version": "3.11.0"
  }
 },
 "nbformat": 4,
 "nbformat_minor": 5
}
