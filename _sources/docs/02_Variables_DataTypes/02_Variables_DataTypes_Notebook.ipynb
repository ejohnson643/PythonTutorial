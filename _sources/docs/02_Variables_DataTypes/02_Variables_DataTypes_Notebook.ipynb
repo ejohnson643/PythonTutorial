{
 "cells": [
  {
   "cell_type": "markdown",
   "id": "7135ea67-c592-4d0c-adfa-6f4988e164bd",
   "metadata": {},
   "source": [
    "# Data in Python\n",
    "\n",
    "Now that you've entered your [first Python commands](../01_HelloWorld/01_HelloWorld) you're completely prepared to do practical things in Python!  [Open a new notebook](https://jupyter-notebook-beginner-guide.readthedocs.io/en/latest/execute.html) and follow along.  Again, as a reminder, coding is a *creative* process so make sure to **type everything** that you see on this page!  (If not more!)\n",
    "\n",
    "In this section of the tutorial, we're going to talk about how we can use **variables** in our code as containers to hold data.  We'll then talk about the different kinds, or **types**, of data that Python can work with and how the type of data that a variable holds determines what we can do with it.  We'll then discuss many of the useful and interesting things that you can do with Python's basic data types."
   ]
  },
  {
   "cell_type": "markdown",
   "id": "22cb2cf9-ab33-48e3-be5d-217396eee4fe",
   "metadata": {},
   "source": [
    "## Variables in Python\n",
    "\n",
    "We noted in the [previous section](../01_HelloWorld/01_HelloWorld) that Python can act most trivially as a calculator.  Of course, if this were all that Python could do, it would not be a very useful language!  Instead, the way that Python and most other programming languages move beyond simple operations is via the use of **variables**, which allow us to store and manipulate data more abstractly.\n",
    "\n",
    "These variables operate very similar to the variables you may know from algebra: they are symbols that stand for a specific piece of data, and they can be manipulated abstractly (ignoring the specific values of the data) or evaluated explicitly (plugging in the data values).  Thinking of variables as analogous to those in math class can be useful.\n",
    "\n",
    "In Python, we **assign** data to a variable using the assignment operator `=`.  For example, the following code assigns the value 2 to the variable `x`."
   ]
  },
  {
   "cell_type": "code",
   "execution_count": null,
   "id": "161bc038-358e-4693-9a1b-138ad6da120a",
   "metadata": {
    "tags": [
     "hide-output"
    ]
   },
   "outputs": [],
   "source": [
    "x = 2"
   ]
  },
  {
   "cell_type": "markdown",
   "id": "d370e19a-ae36-4b5e-ad04-34df83ea2a64",
   "metadata": {
    "tags": []
   },
   "source": [
    "Once you have executed this code (`shift + enter` in the Jupyter cell), Python will now look at the symbol `x` and think to itself \"2\".  To see this, in a new cell type `print(x)`.  The output will not be \"x\", but `2`!\n",
    "\n",
    "You can create as many variables as you want, and as long as they have different names (more on naming in a minute), Python will keep track of each of them.  For example, let's set `var2 = 5`.  (Print `var2` and verify that it returns 5.)\n",
    "\n",
    "What is exciting about all of this then is that we can operate on these variables and Python will operate on the underlying data as if we had only supplied that data!  For example, execute the following commands:"
   ]
  },
  {
   "cell_type": "code",
   "execution_count": null,
   "id": "491b737d-1e7c-40c5-99dd-11c1bf2f7001",
   "metadata": {
    "tags": [
     "hide-output"
    ]
   },
   "outputs": [],
   "source": [
    "y = 12\n",
    "print(x**2)\n",
    "print(y + 3)\n",
    "print(x + y)"
   ]
  },
  {
   "cell_type": "markdown",
   "id": "bb1bc0e5-69e2-43aa-a38b-8e22ff7ffdce",
   "metadata": {
    "tags": []
   },
   "source": [
    "We can also use variables to assign new variables:"
   ]
  },
  {
   "cell_type": "code",
   "execution_count": null,
   "id": "e69259b8-77f6-4daa-abe9-5e254ec9f07f",
   "metadata": {
    "tags": [
     "hide-output"
    ]
   },
   "outputs": [],
   "source": [
    "x_times_var2 = x * var2"
   ]
  },
  {
   "cell_type": "markdown",
   "id": "07f9d314-db54-4368-a8b1-83cdfcf2177d",
   "metadata": {
    "tags": []
   },
   "source": [
    "What is the value of `x_times_var2`?\n",
    "\n",
    "You can also use variables to update the value to which they have been assigned.  Type the following into a new cell:"
   ]
  },
  {
   "cell_type": "code",
   "execution_count": null,
   "id": "616aaaeb-c262-4525-95fe-032f93acf0fa",
   "metadata": {
    "tags": [
     "hide-output"
    ]
   },
   "outputs": [],
   "source": [
    "print(\"Before self-assignment:\", x)\n",
    "x = x + 2 ## What is happening here!?\n",
    "print(\"After self-assignment:\", x)"
   ]
  },
  {
   "cell_type": "markdown",
   "id": "483286c3-7cf7-407f-bc4e-64d3ac822438",
   "metadata": {
    "tags": []
   },
   "source": [
    "````{margin}\n",
    "```{admonition} New Syntax!\n",
    "Notice the new syntax for [`print`](https://docs.python.org/3/library/functions.html#print) in the example above.  Try removing the commas between `\"...assignment:\"` and `x`.  What happens?\n",
    "```\n",
    "````\n",
    "\n",
    "The value of `x` has been used to assign a new value to `x`!  What happens if you run this cell again?  Return to the earlier cell where you typed only `print(x)`, what is the output?  What you should see is that when you reassigned the value of `x`, this change is propagated in the Python code *everywhere*.  This can make things tricky, so we'll make some quick notes about variables and working in Jupyter in just a moment.\n",
    "\n",
    "As a final introductory point on creating variables, please type `print(my_favorite_variable)` into a new cell and execute it.  You should now see an angry **error message**!"
   ]
  },
  {
   "cell_type": "code",
   "execution_count": null,
   "id": "def09a51-50c0-49f1-be99-91b969df9142",
   "metadata": {
    "tags": [
     "raises-exception"
    ]
   },
   "outputs": [],
   "source": [
    "print(my_favorite_variable)"
   ]
  },
  {
   "cell_type": "markdown",
   "id": "54afdf27-4794-4fc3-8fae-fe0efa55472e",
   "metadata": {
    "tags": []
   },
   "source": [
    "Once you have overcome the shape of the odd message that Python has regurgitated, I ask that you read the last line: `NameError: name 'my_favorite_variable' is not defined`.  This is Python telling you that there's been an error with a variable *name* (hence the `NameError`).  Specifically, `my_favorite_variable` \"is not defined\"! This is because at no point in our notebook have we *defined* the `my_favorite_variable` variable by assigning data to it!  Try running `my_favorite_variable = \"This exists!\"` and then printing.  The error message disappears!  This is your first (guided) experience with error messages, but we will continue to practice parsing them.  Your take-away here should be that the last line of the error message gives the most direct reason why some code cannot run as you have written.\n",
    "\n",
    "So, now that we know we have to *define* variables in order to use them in later pieces of code, and we know how to perform variable assignment in simple ways, it's time to make a few overarching comments about working in Jupyter and naming variables."
   ]
  },
  {
   "cell_type": "markdown",
   "id": "dd241d64-f7e2-4586-ab6f-398e719e2346",
   "metadata": {
    "tags": []
   },
   "source": [
    "## A Few Notes about Jupyter Notebooks\n",
    "\n",
    "1. You have already seen this, but once a cell has been executed, any variables that have been assigned or updated in that cell have also been assigned or updated in the workspace of *all other cells* in the notebook *even those above* that cell!  As a result, it is strongly recommended that your logical flow move downward through the notebook.  Use the print function *liberally* to make sure everything is working as you expect (you can always delete them once you're sure everything's ok).\n",
    "\n",
    "\n",
    "2. Sometimes, thing will break or become confusing or messy.  Or maybe you're not sure whether you've defined a variable correctly above or below a new cell.  In this case, you should turn to the **Kernel** menu at the top toolbar.  There you will see several very useful options, especially **interrupt** and **restart**.  If something is taking too long (or forever), you can use interrupt to stop Python from continuing to execute, *interrupting* Python wherever it currently is in your code.  Less drastically, but also useful, you can use restart and its variants to clear away everything you've done and start the notebook over in terms of variable assignments but while keeping the code you've written.  This is a good way to make sure that your logical flow works (restart & run all) or to clean up your notebook before sharing (please do this before turning in notebooks for homework!).\n",
    "\n",
    "    ````{margin}\n",
    "    ```{admonition} Pro-Tip\n",
    "    You can comment or uncomment many lines at once by selecting them with your mouse and then entering `cmd + /`  or  &#8984; + `/`.  (Try this out for yourself!)  As a result of this, I often use a double `##` to indicate descriptive comments that I don't accidentally want to uncover with &#8984; + `/`, but this is not necessary.\n",
    "    ```\n",
    "    ````\n",
    "\n",
    "3. In the cell containing `x = x + 2`, I also asked you to type `## What is happening here!?`  This is known as a **comment**, where you can use anything to the right of a `#` to provide a text annotation of what your code is doing.  Comments do not affect how your code runs, but they are **imperative** for how your code is used, both by others and your *future* self.  You can also use them while working through broken code to discover bugs by \"commenting out\" lines of code by placing a `#` at the beginning of the lines and then \"uncommenting\" them one by one until you find the part that's breaking.  This is how commenting works in Python, and is not unique to Jupyter.  "
   ]
  },
  {
   "cell_type": "markdown",
   "id": "d5c9262e-019b-4d68-a0bd-81189a4c489e",
   "metadata": {
    "tags": []
   },
   "source": [
    "## A Few Notes about Variable Names\n",
    "\n",
    "With a few exceptions, you can use any set of connected alphanumeric characters (and the underscore, `_`) to name your variables.  As a result, you may be tempted to use `x` and `y` as in math class.  This is not advised!  The flexibility of variable names means that you should err on the side of *descriptiveness* over brevity.  If you are calculating the length of bird's beaks, name your variable `beak_lens`.  If you calculate the mean, save it as `mean_beak_len`.  This may seem tedious, but space (in memory and on the screen) is cheap, and the description will help you and others know what your code is doing.  Furthermore, Jupyter (and many other Python IDEs) have **tab-completion** meaning that at any point in typing you can hit the `tab` button and a drop-down menu will populate with variables and functions that could complete the word you've already started, meaning that long variables take just as long as short ones!  (This also greatly diminishes typos!)\n",
    "\n",
    "The only real constraint you might encounter on variable names are that they can't contain non-alphanumeric characters or the underscore (A-Z, a-z, 0-9, and `_` only) and that they can't start with a number.  (You *can* start a variable with `_`.  In Python it is convention that variables that start with an underscore are **private** variables, which are not meant to be accessed by an end user.  You don't need to worry about this, I just want to point it out in case you see such a variable.)\n",
    "\n",
    "Variable names are **case-sensitive**!  `Var` is different from `var` is different from `vAR` is different from `VAR`.  As a result, don't use capitalization to distinguish variables!  It will quickly become very confusing!  (Similarly, don't use `var1`, `var2`, `var3`, etc.  You will quickly forget what they all are!)\n",
    "\n",
    "The other main exception to variable names is that you shouldn't give variables names that already correspond to Python functions, like `print`.  To see why, type the following:\n",
    "\n",
    "```{code-block}\n",
    "print = 43\n",
    "print(print)\n",
    "```"
   ]
  },
  {
   "cell_type": "markdown",
   "id": "58f1ec68-09ad-4f93-95d9-1a7bdd4b2db9",
   "metadata": {
    "tags": []
   },
   "source": [
    "You should get a `TypeError: 'int' object is not callable`.  This is telling you that you have tried to \"call\" a function (`print`) but that `print` is now an \"`int`\" object that cannot be called!  (Python designates functions \"callable\" because you can \"call\" on them to do something.)  This is because you just said `print = 43` - you've assigned `print` to be the number 43 - so it no longer corresponds to the Python function of printing values to the screen.  This shouldn't come up too often, but the error message is opaque enough that you should be warned!\n",
    "\n",
    "```{warning}\n",
    "You will have to restart your kernel after this if you want to use `print` anymore!  (Kernel -> Restart)\n",
    "```"
   ]
  },
  {
   "cell_type": "markdown",
   "id": "ea50a099-7f54-4d28-a6c0-21a314f3e5cb",
   "metadata": {
    "tags": []
   },
   "source": [
    "## Exercise 3.1\n",
    "\n",
    "Now that we've given you an overview of what variables are and how we can and can't (and should and shouldn't) assign them, give these exercises a whirl!\n",
    "\n",
    "1.  Create two variables assigned to your favorite numbers.  Use these two variables to create another new variable `num1_times_num2` that contains their product.\n",
    "\n",
    "\n",
    "2.  Calculate the *average* of your favorite numbers and save it as a new variable, `my_favorite_sum`.  Print your favorite numbers and this average with a description using the `print(\"My message goes here\", my_var)` syntax.\n",
    "\n",
    "\n",
    "3.  Implement the compound interest formula below in a cell **without defining any variables**.  \n",
    "\n",
    "```{math} \n",
    "A = P\\left(1 + \\frac{r}{n}\\right)^{nt}\n",
    "```\n",
    "\n",
    "That is, your cell should just have\n",
    "```{code-block}\n",
    "A = some_operations_involving P, r, n, t\n",
    "print(A)\n",
    "```\n",
    "\n",
    "Execute the cell to get a `NameError`.  Which variable is said to be undefined?  \n",
    "\n",
    "Add a new cell above the cell containing your formula (Hint: look at the [Command mode](https://jupyter-notebook.readthedocs.io/en/stable/examples/Notebook/Notebook%20Basics.html#Command-mode) shortcuts) and execute:"
   ]
  },
  {
   "cell_type": "code",
   "execution_count": null,
   "id": "ac6a2013-7bc5-43f0-afe1-a2649f42b118",
   "metadata": {
    "tags": [
     "hide-output"
    ]
   },
   "outputs": [],
   "source": [
    "P = 1000 ## Principal (in dollars)\n",
    "r = 0.07 ## A great interest rate!\n",
    "n = 12   ## Compounded monthly\n",
    "t = 5    ## Years invested"
   ]
  },
  {
   "cell_type": "markdown",
   "id": "b49be1da-ceaa-4f95-bbf5-df44a0917c86",
   "metadata": {
    "tags": []
   },
   "source": [
    "Use `A` and `P` to verify that you will have made over $400 on your investment!  That is, print out (with a descriptive message) exactly how much your investment has *increased*, not just the final amount, `A`. "
   ]
  },
  {
   "cell_type": "markdown",
   "id": "01c306cc-f808-4ae9-a5e1-7f453c4bb155",
   "metadata": {
    "tags": []
   },
   "source": [
    "## Python Data Types\n",
    "\n",
    "At this point, we've mostly been working with numbers, but part of Python's versatility is that it has the capability to work with arbitrary kinds of data, which are called **types**.  Python has several [built-in types](https://docs.python.org/3/library/stdtypes.html), which we'll discuss in turn, but eventually when you learn about classes, you will see how you can effectively make Python work for arbitrary data structures.  (This is because Python is *object-oriented*, but we'll unpack that more later.)\n",
    "\n",
    "While this may not seem super crucial to know about right away, in Python it is important to know about data types because Python can do **different things with different types**.  That is, depending on the data type, Python will know automatically how to apply the  `+` operation, but for other types it will not.  We'll show how this makes sense as we go through the main Python types and explore their capabilities.\n",
    "\n",
    "The four basic Python types are:\n",
    "\n",
    "1. [Strings](https://docs.python.org/3/library/stdtypes.html#text-sequence-type-str) - \"strings\" of alpha-numeric characters\n",
    "\n",
    "2. [Integers](https://docs.python.org/3/library/stdtypes.html#numeric-types-int-float-complex) - self-explanatory, includes positive and negative integers\n",
    "\n",
    "3. [Floats](https://docs.python.org/3/library/stdtypes.html#numeric-types-int-float-complex) - \"floating-point numbers\", or how computers store decimal numbers\n",
    "\n",
    "4. [Booleans](https://docs.python.org/3/library/stdtypes.html#boolean-values) - binary true or false variables.\n",
    "\n",
    "To check what type a variable is, you can apply the [`type`](https://docs.python.org/3/library/functions.html#type) function.  Execute the following to see:"
   ]
  },
  {
   "cell_type": "code",
   "execution_count": null,
   "id": "98a5f92a-a952-4da4-ae59-96d1378df336",
   "metadata": {
    "tags": [
     "hide-output"
    ]
   },
   "outputs": [],
   "source": [
    "string = \"Hello World!\"     ## Notice the quotation marks!\n",
    "integer = 9                 ## Notice the LACK of a decimal\n",
    "floating_point = 3.1415926\n",
    "boolean = True              ## The options are True and False\n",
    "\n",
    "print(string)\n",
    "print(type(string))\n",
    "\n",
    "print(integer)\n",
    "print(type(integer))\n",
    "\n",
    "print(floating_point)\n",
    "print(type(floating_point))\n",
    "\n",
    "print(boolean)\n",
    "print(type(boolean))"
   ]
  },
  {
   "cell_type": "markdown",
   "id": "34bf1cd7-8d74-48ec-8cf9-e4d267877167",
   "metadata": {
    "tags": []
   },
   "source": [
    "If you ever receive a `TypeError`, it is, somewhat expectedly, an error arising from something being the wrong type!  We saw this earlier when we tried to treat an integer as a function - integers can't be \"called\", so it caused a `TypeError`."
   ]
  },
  {
   "cell_type": "markdown",
   "id": "5ad483bf-cc13-45be-bf32-4c3cf402013a",
   "metadata": {
    "tags": []
   },
   "source": [
    "### Integers and Floats\n",
    "\n",
    "You've already seen variables holding these data types in action, and they largely operate as you'd expect.  We only note that because computers have finite memory, they can only store numbers to a finite precision.  Typically, Python uses 32 [bits](https://en.wikipedia.org/wiki/Bit) to store integers, meaning that the integer type can represent any integer from $-2^{31}$ to $2^{31}-1$ because it has one bit to indicate whether the integer is positive or negative and then 31 leftover 0's and 1's.  Similarly, floats use 64 bits, so that they can represet $2^{64}$ numbers between $\\pm 6.02\\times 10^{23}$.  As a result, there are some (most) decimals that cannot be perfectly represented by your computer, which can result in [roundoff error](https://mathworld.wolfram.com/RoundoffError.html), which can be a big problem in numerical calculations.  In practice, this means that you might see that Python returns 0.30000000000000004 when you enter `print(3 * 0.1)` instead of 0.3, as you hoped.  This error is $4\\times 10^{-16}$, which can be negigible in most applications."
   ]
  },
  {
   "cell_type": "markdown",
   "id": "4675d5a7-e4c7-45e2-800e-947b1102748d",
   "metadata": {
    "tags": []
   },
   "source": [
    "### Booleans\n",
    "\n",
    "These are perhaps the most straightforward data type: they are either `True` or `False`.  We'll see that these can be very useful in selecting data that meet certain conditions, so we'll take care to explain how booleans operate in comparison to other types later.  Briefly however, consider the following code:"
   ]
  },
  {
   "cell_type": "code",
   "execution_count": null,
   "id": "e28d6d52-46a4-4c7d-bd9f-562ddcdfd819",
   "metadata": {
    "tags": [
     "hide-output",
     "raises-exception"
    ]
   },
   "outputs": [],
   "source": [
    "truth = True\n",
    "falsehood = False\n",
    "\n",
    "print(truth)\n",
    "print(falsehood)\n",
    "\n",
    "print(truth + falsehood)\n",
    "print(truth - falsehood)\n",
    "print(truth * falsehood)\n",
    "print(truth ** falsehood)\n",
    "\n",
    "print(truth and falsehood)\n",
    "print(truth or falsehood)\n",
    "print(truth and (truth or falsehood))\n",
    "\n",
    "print(truth / falsehood)"
   ]
  },
  {
   "cell_type": "markdown",
   "id": "24641241-f4ee-4fa8-91e8-3444d32f6a29",
   "metadata": {
    "tags": []
   },
   "source": [
    "The output might not make sense right now, but make sure to read the error message at the end!  Notice that we introduced the new operations `and` and `or`.  What do they seem to do?"
   ]
  },
  {
   "cell_type": "markdown",
   "id": "4c483220-e639-4dd6-9dd5-9d256b2db71b",
   "metadata": {
    "tags": []
   },
   "source": [
    "### Strings\n",
    "\n",
    "The most nuanced of our basic data types are **strings**, which are sets of characters that we enclose with either single (`'`) or double (`\"`) quotation marks.  We did this in the earlier example with  `string = \"Hello World!\"`, but we can also use one type of quotation mark to enclose a string containing the other.  For example:"
   ]
  },
  {
   "cell_type": "code",
   "execution_count": null,
   "id": "3b5de418-057d-4481-abef-501ab90a3222",
   "metadata": {
    "tags": [
     "hide-output"
    ]
   },
   "outputs": [],
   "source": [
    "quote = \"Harold Abelson once said, 'Programs must be written for people to read.'\"\n",
    "print(quote)"
   ]
  },
  {
   "cell_type": "markdown",
   "id": "7f24dcc6-3e6c-4e12-9f6c-a17648ae2b5f",
   "metadata": {
    "tags": []
   },
   "source": [
    "The start and end quotation marks must match, however:"
   ]
  },
  {
   "cell_type": "code",
   "execution_count": null,
   "id": "e398c3e3-1840-409d-b811-dd3b9f94191f",
   "metadata": {
    "tags": [
     "raises-exception"
    ]
   },
   "outputs": [],
   "source": [
    "errorful_string = \"This is a bad string'"
   ]
  },
  {
   "cell_type": "markdown",
   "id": "2d44f04d-b398-4616-83f3-740df7395b6e",
   "metadata": {
    "tags": []
   },
   "source": [
    "Take the time to read this message!  Why does this cause a `SyntaxError`?"
   ]
  },
  {
   "cell_type": "markdown",
   "id": "f8f5810f-38b2-4c8d-8b80-47b9667c5ed8",
   "metadata": {
    "tags": []
   },
   "source": [
    "#### Operations with Strings\n",
    "\n",
    "Strings are an interesting data type because they really show how type dictates output in Python.  For example, try the following (remember to try commenting out lines that throw errors to move on in a program):"
   ]
  },
  {
   "cell_type": "code",
   "execution_count": null,
   "id": "e807b039-5eb5-4033-b99f-4b01153b0369",
   "metadata": {
    "tags": [
     "hide-output",
     "raises-exception"
    ]
   },
   "outputs": [],
   "source": [
    "string1 = \"This and\"\n",
    "string2 = 'that'\n",
    "number1 = 4\n",
    "print(string1, string2, number1) ## NOTE NEW SYNTAX\n",
    "\n",
    "string3 = string1 + string2\n",
    "print(string3)\n",
    "\n",
    "string4 = string1 - string2   ## COMMENT THIS OUT IF IT DOESN'T WORK\n",
    "print(string4)                ## What does it mean to \"subtract\" two\n",
    "                              ## strings anyways?\n",
    "\n",
    "string_plus_int = string2 + number1 ## Does this work?\n",
    "print(string_plus_int)\n",
    "\n",
    "string_times_int = string2 * number1 ## Does this work?\n",
    "print(string_times_int)"
   ]
  },
  {
   "cell_type": "markdown",
   "id": "abe3aa7b-0878-443b-9b4b-8f3db8e6d11f",
   "metadata": {
    "tags": []
   },
   "source": [
    "What you will see above is that you can concatenate strings with the `+` operator and you can multiply a string by an integer to produce a string containing `integer` multiples of the string!  This is definitely different from how those operators worked on integers!"
   ]
  },
  {
   "cell_type": "markdown",
   "id": "a8897a70-9b1a-42a8-96c8-b37aa3e7ed51",
   "metadata": {
    "tags": []
   },
   "source": [
    "#### Special Characters\n",
    "\n",
    "Strings can also be used to indicate whitespace other than spaces with the `\\n` **newline** and `\\t` **tab** characters.  As an example, consider the following:"
   ]
  },
  {
   "cell_type": "code",
   "execution_count": null,
   "id": "7b634ccf-66cd-4a69-a761-962bf2b79eb5",
   "metadata": {
    "tags": [
     "hide-output"
    ]
   },
   "outputs": [],
   "source": [
    "untabbed_string = \"I'm here!\"\n",
    "tabbed_string = \"\\tI'm over here!\"\n",
    "print(untabbed_string)\n",
    "print(tabbed_string)\n",
    "\n",
    "print()   ## What does this do?  Comment it out and see what changes!\n",
    "\n",
    "multiline_string = \"This str\\ning has \\n ma\\n\\nny lines!\"\n",
    "print(multiline_string)"
   ]
  },
  {
   "cell_type": "markdown",
   "id": "4007d460-4878-482d-b5da-fd31b87c6ee2",
   "metadata": {
    "tags": []
   },
   "source": [
    "We'll see shortly that aside from holding data that can only be stored as words or characters, string manipulation is also very useful for *annotating* outputs of your codes."
   ]
  },
  {
   "cell_type": "markdown",
   "id": "cd7c6dd4-6f04-4f63-b99d-f3cfcf67f676",
   "metadata": {
    "tags": []
   },
   "source": [
    "#### String Formatting\n",
    "\n",
    "The following will be the most syntax-heavy code that you've been exposed to, but is too useful to omit for much longer.  At some point in your Python career, you are going to want to format the legend of a plot or the header of an output file based on the *value* of a variable.  These will necessarily be strings because they will be combinations of words and (maybe) numbers, but part of the string will be filled in by Python via **string formatting**.  There are a few ways to accomplish this in Python, but I'll bring up the two ways that I prefer.\n",
    "\n",
    "First, we can use the [`format`](https://docs.python.org/3/library/functions.html#format) function like this:"
   ]
  },
  {
   "cell_type": "code",
   "execution_count": null,
   "id": "65dadbc8-22b8-437d-8362-ddccd8ee6b74",
   "metadata": {
    "tags": [
     "hide-output"
    ]
   },
   "outputs": [],
   "source": [
    "my_int = 2\n",
    "my_float = 1234.56789\n",
    "my_string = \"The integer is {}.  The float is {}.\".format(my_int, my_float)\n",
    "print(my_string)\n",
    "\n",
    "my_other_string = \"The float is {1}. The integer is {0}.\".format(my_int, my_float)\n",
    "print(my_other_string)\n",
    "\n",
    "## NOTE the 'f' at the beginning of the string!\n",
    "another_string = f\"The integer is {my_int}.  The float is {my_float}.\"\n",
    "print(another_string)"
   ]
  },
  {
   "cell_type": "markdown",
   "id": "a9e2eee8-278f-4b41-a098-f7c945cdd4ce",
   "metadata": {
    "tags": []
   },
   "source": [
    "Basically we can call the [`format`](https://docs.python.org/3/library/functions.html#format) function in a couple ways, or use the \"f-string\" (`f` *before* the quotation mark) to tell Python that we'd like to fill in the `{}` with variables that are either given to `format` as input (first and second strings) or put directly inside the braces (only works with f-strings).  The order in which they are inserted into the string is inferred from the order they are given to `format` or by a number indicating which input to put where (0 indicates the first input, 1 the second, etc.).  I prefer f-strings because they are the most concise, but all of these are equally valid by Python.  You can also specify how the inputs are formatted into the string (say you want fewer decimal places shown) by adding inputs as given [here](https://docs.python.org/3.4/library/string.html#format-string-syntax).  \n",
    "\n",
    "```{admonition} String Formatting is Descriptive!\n",
    "Throughout the rest of this tutorial I will encourage you to use string formatting to make it clear to yourself and any one else looking at your work what it is that you're doing!  In real code for real problems, this is often very useful for diagnosing problems or communicating with users.\n",
    "```"
   ]
  },
  {
   "cell_type": "markdown",
   "id": "52e0127f-5ff7-4d69-9049-cb126016cb90",
   "metadata": {
    "tags": []
   },
   "source": [
    "#### String Functions\n",
    "\n",
    "Now that we've opened the can of worms with string formatting, it's worth pointing out that there are several other functions that operate on strings to produce interesting changes.  We'll highlight a few here that may seem cosmetic, but are useful for introducing you to the **method**-style for calling functions.  Consider the following:"
   ]
  },
  {
   "cell_type": "code",
   "execution_count": null,
   "id": "4d372c04-4bf1-4893-8f46-74a6ceefc81c",
   "metadata": {
    "tags": [
     "hide-output"
    ]
   },
   "outputs": [],
   "source": [
    "my_name = \"eric johnson\"\n",
    "my_capitalized_name = my_name.capitalize()\n",
    "my_corrected_name = my_name.title()\n",
    "print(f\"My name is {my_name}...\")\n",
    "print(f\"My name is {my_capitalized_name}...\")\n",
    "print(f\"My name is {my_corrected_name}...\")\n",
    "\n",
    "num_e = my_name.count(\"e\")\n",
    "num_E = my_name.count(\"E\")  ## This is a bad variable name outside this context!!!\n",
    "print(f\"My name has {num_e} e's in it?\")\n",
    "print(f\"My name has {num_E} E's in it?\")"
   ]
  },
  {
   "cell_type": "markdown",
   "id": "37a80ba4-5779-4fa8-b8d1-a0ae9228a070",
   "metadata": {
    "tags": []
   },
   "source": [
    "There are many [string methods](https://docs.python.org/3.4/library/stdtypes.html#string-methods), but the syntax for these **methods** is `my_str.method(input1, input2)`.  We'll talk more about what makes a function a method [later](../11_Classes/11_Classes), but for now it suffices to note that there are functions in Python that exist **independent** of any variable, such as `print` and `help`, and there are those that are attached to a variable, such as `str.captialize()`.  Methods are the latter type.  Going forward, you will see both types of funtions, but you can always think of them as input-output relationships: they take some input, crank a wheel, and spit something out.  The syntax indicates whether it is something special that only strings (for example) can do, or whether it's an operation outside any specific data structure.\n",
    "\n",
    "As another example of a non-method function, consider the :py:func:`len` function, which we'll discuss more in the [next section](../03_Lists_Arrays/03_Lists_Arrays).  This function returns the length of a string in characters, as you can see:"
   ]
  },
  {
   "cell_type": "code",
   "execution_count": null,
   "id": "dcdc0a61-9c77-41c5-b12d-140079b4d5e0",
   "metadata": {
    "tags": [
     "hide-output"
    ]
   },
   "outputs": [],
   "source": [
    "my_name = \"eric johnson\".title() ## What is this output!?\n",
    "my_str = \"Eric is a good name\"\n",
    "my_tabbed_str = \"Eric,\\tis a good name\"\n",
    "\n",
    "print(f\"The length of {my_name} is {len(my_name)}\")\n",
    "print(f\"The length of {my_str} is {len(my_str)}\")\n",
    "print(f\"The length of {my_tabbed_str} is {len(my_tabbed_str)}\")"
   ]
  },
  {
   "cell_type": "markdown",
   "id": "196e14d5-e016-45db-a4c9-a481f396dfad",
   "metadata": {
    "tags": []
   },
   "source": [
    "````{margin}\n",
    "```{admonition} How am I supposed to keep track of all of this!?\n",
    "The short answer is: you don't.  You should get in the habit of Googling \"python string capitalization\", for example.  Eventually you remember the useful stuff and you'll learn where to resource the rest.  By the end of the tutorial, you'll be able to cobble together what you need!  Don't make not knowing the function name the roadblock in this process!\n",
    "```\n",
    "````\n",
    "\n",
    "You may want to look into these [string methods](https://docs.python.org/3.4/library/stdtypes.html#string-methods), but I'll highlight that [str.isnumeric](https://docs.python.org/3/library/stdtypes.html#str.isnumeric), [str.join](https://docs.python.org/3/library/stdtypes.html#str.join), [str.strip](https://docs.python.org/3/library/stdtypes.html#str.join), and [str.lower](https://docs.python.org/3/library/stdtypes.html#str.lower) are ones that I use with some frequency.  Getting the length of a string with [len](https://docs.python.org/3/library/functions.html#len) is also very useful."
   ]
  },
  {
   "cell_type": "markdown",
   "id": "fa0d3ae3-2143-4a1e-bb13-51574e034627",
   "metadata": {
    "tags": []
   },
   "source": [
    "### Converting Data Types\n",
    "\n",
    "One of the most interesting (and sometimes overwhelming) things about Python is the way that these data types can interact with each other.  For example, we already saw that adding booleans maybe results in integers, and that multiplying a string by and integer results in a longer string.  As a result, it's worth noting how all these different data types interact and, when it's not what you're looking for, how you can convert between these types.\n",
    "\n",
    "More specifically, these Python types come with associated functions [int](https://docs.python.org/3/library/functions.html#int), [float](https://docs.python.org/3/library/functions.html#float), [bool](https://docs.python.org/3/library/functions.html#bool), and [str](https://docs.python.org/3/library/functions.html#str), that when applied to a variable, will attempt to convert it into the function's named data type.  For example, consider:"
   ]
  },
  {
   "cell_type": "code",
   "execution_count": null,
   "id": "7616bf23-fef2-4890-b3af-c66234646aaf",
   "metadata": {
    "tags": [
     "hide-output"
    ]
   },
   "outputs": [],
   "source": [
    "number_str = \"1234\"\n",
    "print(f\"'number_str' = {number_str} is type {type(number_str)}\")\n",
    "floated_number_str = float(number_str)\n",
    "print(f\"'floated_number_str' = {floated_number_str} is type {type(floated_number_str)}\")\n",
    "\n",
    "## Put this in a second cell!\n",
    "not_number_str = \"abcd\"\n",
    "print(f\"\\n'not_number_str' = {not_number_str} is type {type(not_number_str)}\")\n",
    "floated_not_number_str = float(not_number_str)\n",
    "print(f\"'floated_not_number_str' = {floated_not_number_str} is type {type(floated_not_number_str)}\")"
   ]
  },
  {
   "cell_type": "markdown",
   "id": "383662b5-ceaf-4a0e-8d65-8df091991f92",
   "metadata": {
    "tags": []
   },
   "source": [
    "````{margin}\n",
    "```{admonition} `ValueError`\n",
    "Note that this code generated a `ValueError` because the :py:func:`float` function wasn't upset with the *type* of the input, `not_number_str`, but with its *value*.\n",
    "```\n",
    "````\n",
    "\n",
    "You will see that `number_str` is originally a string type (indicated by `<class 'str'>>`), but can successfully be converted to a float with the `float` function.  On the other hand, the `not_number_str` cannot, because Python doesn't know how to turn \"abcd\" into a number.  Conversely, you will find that Python has few problems converting things into strings.  As a result, the other way to format strings is to coerce everything into a string using [str](https://docs.python.org/3/library/functions.html#func-str) and then add the strings together.\n",
    "\n",
    "We'll leave it to the exercise to explore all the options, but I do want to draw your attention to two special cases.  First, consider several floats that we want to convert into integers.  Before you type the code, please write down what you **expect** the output to be."
   ]
  },
  {
   "cell_type": "code",
   "execution_count": null,
   "id": "086302c0-636e-4f1d-a0c9-4f6b959bb372",
   "metadata": {
    "tags": [
     "hide-output"
    ]
   },
   "outputs": [],
   "source": [
    "pos1 = 2.1\n",
    "pos2 = 1.9\n",
    "\n",
    "neg1 = -2.1\n",
    "neg2 = -1.9\n",
    "\n",
    "int_pos1 = int(pos1)\n",
    "int_pos2 = int(pos2)\n",
    "\n",
    "int_neg1 = int(neg1)\n",
    "int_neg2 = int(neg2)\n",
    "\n",
    "## Comment this out AFTER you have made your predictions.\n",
    "# print(f\"int('pos1' = {pos1}) is {int_pos1}\")\n",
    "# print(f\"int('pos2' = {pos2}) is {int_pos2}\")\n",
    "# print()\n",
    "# print(f\"int('neg1' = {neg1}) is {int_neg1}\")\n",
    "# print(f\"int('neg2' = {neg2}) is {int_neg2}\")"
   ]
  },
  {
   "cell_type": "markdown",
   "id": "206c2b2c-ceb5-4587-b2de-47519ec5acf7",
   "metadata": {
    "tags": []
   },
   "source": [
    "To see the explanation, [go here](./Floats_to_Ints).\n",
    "\n",
    "The other interesting case is what Python thinks should be turned into a `True` or a `False` in the context of booleans.  Again, first write down for yourself what you **expect** to result from the following code, then execute it."
   ]
  },
  {
   "cell_type": "code",
   "execution_count": null,
   "id": "e419010d-eedc-485d-b4d7-3e1560ce42fa",
   "metadata": {
    "tags": [
     "hide-output"
    ]
   },
   "outputs": [],
   "source": [
    "pos_int = 4\n",
    "neg_int = -3\n",
    "zero_int = 0\n",
    "\n",
    "pos_float = 7.13\n",
    "small_pos_float = 0.0003\n",
    "neg_float = -4.67\n",
    "zero_float = 0.0\n",
    "\n",
    "number_str = \"3.12\"\n",
    "zero_str = \"0\"\n",
    "letter_str = \"abcdef\"\n",
    "empty_str = \"\" ## What is this??? Check the type!\n",
    "\n",
    "## Comment this out AFTER you have made your predictions.\n",
    "# print(f\"Converting {pos_int} to boolean gives {bool(pos_int)}\")\n",
    "# print(f\"Converting {neg_int} to boolean gives {bool(neg_int)}\")\n",
    "# print(f\"Converting {zero_int} to boolean gives {bool(zero_int)}\")\n",
    "\n",
    "# print(f\"\\nConverting {pos_float} to boolean gives {bool(pos_float)}\")\n",
    "# print(f\"Converting {small_pos_float} to boolean gives {bool(small_pos_float)}\")\n",
    "# print(f\"Converting {neg_float} to boolean gives {bool(neg_float)}\")\n",
    "# print(f\"Converting {zero_float} to boolean gives {bool(zero_float)}\")\n",
    "\n",
    "# print(f\"\\nConverting {number_str} to boolean gives {bool(number_str)}\")\n",
    "# print(f\"Converting {zero_str} to boolean gives {bool(zero_str)}\")\n",
    "# print(f\"Converting {letter_str} to boolean gives {bool(letter_str)}\")\n",
    "# print(f\"Converting {empty_str} to boolean gives {bool(empty_str)}\")"
   ]
  },
  {
   "cell_type": "markdown",
   "id": "1d55c560-ccc9-4a37-b491-4aa3be8ceef6",
   "metadata": {
    "tags": []
   },
   "source": [
    "To see the explanation, [go here](./Everything_to_Boolean)\n",
    "\n",
    "At this point, you've seen enough of the details of types in Python to start to see how we can use Python to hold and start to manipulate different pieces of data.  After these exercises, the next section will introduce you to how you deal with *lots of data* and you will have your first introduction to [numpy](https://numpy.org/), which is \"the fundamental package for scientific computing in Python\".  With those pieces in place, you'll be ready to start shredding real data of all shapes and sizes."
   ]
  },
  {
   "cell_type": "markdown",
   "id": "d0fd9d13-2559-467d-a77c-bb349b673b58",
   "metadata": {
    "tags": []
   },
   "source": [
    "## Exercise 3.2\n",
    "\n",
    "1. Create a variable for your name and another for your age.  Use string formatting to introduce your name and age to Python.  Create the same for a  friend (real or imaginary).  Then create a [Frankenstein's monster](https://www.gutenberg.org/files/42324/42324-h/42324-h.htm) of you and your friend by concatenating your names and averaging your ages.  Print your creation to the screen using string formatting.\n",
    "\n",
    "2. Recreate the pattern on the screen below with **one print statement** using string concatenation, string multiplication, and newline characters/tabs.  Use only `star = \"*\"`, `up = \"^\"`, `line = '|'` and `space = ' '` as initial variables (you may create intermediates!).\n",
    "\n",
    "    ```{code-block} \n",
    "       *\n",
    "      ^^^\n",
    "     *^*^*\n",
    "    ^^*^*^^\n",
    "      |||\n",
    "    ```\n",
    "\n",
    "3. Perform the reverse of the last section: convert `True` and `False` into integer, float, and string types.  Write *in words* what happens.  Practice *predicting* what might happen and then connecting that with what actually happened.\n",
    "\n",
    "4. **BONUS** Consider the code below. Write a sentence or two about what you think is happening.   In particular, which direction does assignment \"flow\" in line 3?  Again, comment out lines that cause errors if you want to ignore them."
   ]
  },
  {
   "cell_type": "code",
   "execution_count": null,
   "id": "05bbafa7-f249-4efd-876e-45195d4a9cfe",
   "metadata": {
    "tags": [
     "remove-output"
    ]
   },
   "outputs": [],
   "source": [
    "a, b = 'Eric', \"Johnson\"  ## Can we do *double* assignment!?\n",
    "print(a, b)\n",
    "b, a = a, b\n",
    "print(a, b)\n",
    "my_name = \", \".join([a, b])  ## This is NEW SYNTAX\n",
    "print(my_name)\n",
    "output = a = b\n",
    "print(a, b, output)\n",
    "output = (a = b)\n",
    "print(a, b, output)"
   ]
  }
 ],
 "metadata": {
  "kernelspec": {
   "display_name": "Python 3 (ipykernel)",
   "language": "python",
   "name": "python3"
  },
  "language_info": {
   "codemirror_mode": {
    "name": "ipython",
    "version": 3
   },
   "file_extension": ".py",
   "mimetype": "text/x-python",
   "name": "python",
   "nbconvert_exporter": "python",
   "pygments_lexer": "ipython3",
   "version": "3.11.0"
  }
 },
 "nbformat": 4,
 "nbformat_minor": 5
}
