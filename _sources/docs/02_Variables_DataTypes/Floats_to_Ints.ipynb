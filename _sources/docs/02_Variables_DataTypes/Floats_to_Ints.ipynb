{
 "cells": [
  {
   "cell_type": "markdown",
   "id": "7af82467-d98d-43fb-9aa3-c191b168c276",
   "metadata": {},
   "source": [
    "# Converting floating-point numbers to integers\n",
    "\n",
    "Floats are turned into integers by simply returning the *integer* component of the float.  For example, $1.9 = 1 + 0.9$, so `int(1.9) = 1`, but $2.1 = 2 + 0.1$ so that `int(2.1) = 2`.  Meanwhile $-1.9 = -1 - 0.9$, so `int(-1.9) = -1`, but $-2.1 = -2 - 0.1$ so that `int(-2.1) = -2`.\n",
    "\n",
    "```{warning}\n",
    "The [`int`](https://docs.python.org/3/library/functions.html#int) function does **NOT** round to the nearest integer.\n",
    "```"
   ]
  }
 ],
 "metadata": {
  "kernelspec": {
   "display_name": "Python 3 (ipykernel)",
   "language": "python",
   "name": "python3"
  },
  "language_info": {
   "codemirror_mode": {
    "name": "ipython",
    "version": 3
   },
   "file_extension": ".py",
   "mimetype": "text/x-python",
   "name": "python",
   "nbconvert_exporter": "python",
   "pygments_lexer": "ipython3",
   "version": "3.11.0"
  }
 },
 "nbformat": 4,
 "nbformat_minor": 5
}
